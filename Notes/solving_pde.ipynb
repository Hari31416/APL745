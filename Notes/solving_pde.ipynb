{
 "cells": [
  {
   "attachments": {},
   "cell_type": "markdown",
   "metadata": {},
   "source": [
    "# Imports"
   ]
  },
  {
   "cell_type": "code",
   "execution_count": 1,
   "metadata": {},
   "outputs": [],
   "source": [
    "import torch\n",
    "import torch.nn as nn\n",
    "import numpy as np\n",
    "import matplotlib.pyplot as plt"
   ]
  },
  {
   "attachments": {},
   "cell_type": "markdown",
   "metadata": {},
   "source": [
    "# Solving PDE with Neural Networks: Introduction"
   ]
  },
  {
   "attachments": {},
   "cell_type": "markdown",
   "metadata": {},
   "source": [
    "## General Idea"
   ]
  },
  {
   "attachments": {},
   "cell_type": "markdown",
   "metadata": {},
   "source": [
    "Given a general, parametrized PDE of the form\n",
    "$$\n",
    "u_t + \\mathcal{N}[u] = 0,\\ x \\in \\Omega, \\ t\\in[0,T],\n",
    "$$"
   ]
  },
  {
   "attachments": {},
   "cell_type": "markdown",
   "metadata": {},
   "source": [
    "where $u(t,x)$ denotes the latent (hidden) solution, $\\mathcal{N}[\\cdot]\n",
    "$ is a nonlinear differential operator, and $\\Omega$ is a subset of $\\mathbb{R}^D$.\n"
   ]
  },
  {
   "attachments": {},
   "cell_type": "markdown",
   "metadata": {},
   "source": [
    "A neural network can be used to solve the PDE by approximating the function $u(t,x)$. For this, we define $f(x,t)$ as:\n",
    "$$\n",
    "f := u_t + \\mathcal{N}[u],\n",
    "$$\n",
    "and approximate $u(t,x)$ by a neural network $u(t,x;\\theta)$, where $\\theta$ denotes the weights of the neural network. The neural network is trained to minimize a loss function which is the sum of MSE and the PDE residual. That is, we define the loss function as:\n",
    "\n",
    "$$\n",
    "MSE = MSE_u + MSE_f,\n",
    "$$"
   ]
  },
  {
   "attachments": {},
   "cell_type": "markdown",
   "metadata": {},
   "source": [
    "with\n",
    "$$\n",
    "MSE_u = \\frac{1}{N_u}\\sum_{i=1}^{N_u} |u(t^i_u,x_u^i) - u^i|^2,\n",
    "$$\n",
    "and, \n",
    "$$\n",
    "MSE_f = \\frac{1}{N_f}\\sum_{i=1}^{N_f}|f(t_f^i,x_f^i)|^2.\n",
    "$$"
   ]
  },
  {
   "attachments": {},
   "cell_type": "markdown",
   "metadata": {},
   "source": [
    "here, $\\{t_u^i, x_u^i, u^i\\}_{i=1}^{N_u}$ denote the intial and boundary condition data  on $u(t,x)$, and $\\{t_f^i, x_f^i\\}_{i=1}^{N_f}$ denote the collocation points where the PDE residual is evaluated. The loss $MSE_u$ corresponds to the initial and boundary data while $MSE_f$ enforces the structure imposed by the Burgers’ equation at a finite set of collocation points. This forms a physics informed neural network (PINN)."
   ]
  },
  {
   "attachments": {},
   "cell_type": "markdown",
   "metadata": {},
   "source": [
    "To undestant it better, let us consider the following example."
   ]
  },
  {
   "attachments": {},
   "cell_type": "markdown",
   "metadata": {},
   "source": [
    "## Example"
   ]
  },
  {
   "attachments": {},
   "cell_type": "markdown",
   "metadata": {},
   "source": [
    "The PDE we are trying to solve is Burgers’ Equation. This is defined as:\n",
    "\n",
    "$$\n",
    "u_t + \\lambda_1 u u_x - \\lambda_2 u_{xx} = 0\n",
    "$$\n",
    "\n",
    "We write a speficic PDE as with the Dirichlet boundary conditions:\n",
    "\n",
    "$$\n",
    "\\begin{array}{l}\n",
    "u_t + u u_x - (0.01/\\pi) u_{xx} = 0,\\ \\ \\ x \\in [-1,1],\\ \\ \\ t \\in [0,1],\\\\\n",
    "u(0,x) = -\\sin(\\pi x),\\\\\n",
    "u(t,-1) = u(t,1) = 0.\n",
    "\\end{array}\n",
    "$$\n",
    "\n",
    "This is the PDE we are trying to solve. We will use the following neural network architecture to solve this PDE."
   ]
  },
  {
   "attachments": {},
   "cell_type": "markdown",
   "metadata": {},
   "source": [
    "Using the above formulation, we define:\n",
    "$$\n",
    "f := u_t + u u_x - (0.01/\\pi) u_{xx},\n",
    "$$\n",
    "and then we approximate $u(t,x)$ by a neural network. For example, we can define a function like this:\n",
    "\n",
    "```python\n",
    "def u(t, x):\n",
    "    u = neural_net(tf.concat([t,x],1), weights, biases)\n",
    "    return u\n",
    "```"
   ]
  },
  {
   "attachments": {},
   "cell_type": "markdown",
   "metadata": {},
   "source": [
    "Correspondingly, the physics informed neural network $f(t,x)$ takes the form:\n",
    "```python\n",
    "def f(t, x):\n",
    "    u = u(t, x)\n",
    "    u_t = tf.gradients(u, t)[0]\n",
    "    u_x = tf.gradients(u, x)[0]\n",
    "    u_xx = tf.gradients(u_x, x)[0]\n",
    "    f = u_t + u*u_x - (0.01/tf.pi)*u_xx\n",
    "    return f\n",
    "```\n"
   ]
  },
  {
   "attachments": {},
   "cell_type": "markdown",
   "metadata": {},
   "source": [
    ">Note that this is just a pseudo-code. We will define the neural network architecture in the next section."
   ]
  },
  {
   "attachments": {},
   "cell_type": "markdown",
   "metadata": {},
   "source": [
    "The loss function is defined same as above:\n",
    "$$\n",
    "MSE = MSE_u + MSE_f,\n",
    "$$\n",
    "with\n",
    "$$\n",
    "MSE_u = \\frac{1}{N_u}\\sum_{i=1}^{N_u} |u(t^i_u,x_u^i) - u^i|^2,\n",
    "$$\n",
    "and, \n",
    "$$\n",
    "MSE_f = \\frac{1}{N_f}\\sum_{i=1}^{N_f}|f(t_f^i,x_f^i)|^2.\n",
    "$$"
   ]
  },
  {
   "attachments": {},
   "cell_type": "markdown",
   "metadata": {},
   "source": [
    "Next, we'll solve a simple PDE using a neural network."
   ]
  },
  {
   "attachments": {},
   "cell_type": "markdown",
   "metadata": {},
   "source": [
    "# The Static Bar Problem"
   ]
  },
  {
   "attachments": {},
   "cell_type": "markdown",
   "metadata": {},
   "source": [
    "## Problem Statement"
   ]
  },
  {
   "attachments": {},
   "cell_type": "markdown",
   "metadata": {},
   "source": [
    "The problem, which we will be solving is the static bar problem. The PDE is given as:\n",
    "\n",
    "$$\n",
    "\\frac{d}{dx}\\left(E(x)A(x)\\frac{d}{dx}u(x)\\right) +p(x) = 0\n",
    "$$"
   ]
  },
  {
   "attachments": {},
   "cell_type": "markdown",
   "metadata": {},
   "source": [
    "The domain of x is $[0,1]$ and the boundary conditions are:\n",
    "\n",
    "$$\n",
    "u(0) = 0, \\ \\ \\ u(1) = 0\n",
    "$$"
   ]
  },
  {
   "attachments": {},
   "cell_type": "markdown",
   "metadata": {},
   "source": [
    "Also, we'll treat E and A as constants and set it to 1. The load is given as:\n",
    "$$\n",
    "p(x) = 4\\pi^2\\sin(2\\pi x)\n",
    "$$"
   ]
  },
  {
   "attachments": {},
   "cell_type": "markdown",
   "metadata": {},
   "source": [
    "So, the PDE we are trying to solve is:\n",
    "$$\n",
    "EAu_{xx} +4\\pi^2\\sin(2\\pi x) = 0\n",
    "$$\n",
    "\n",
    "We'll define\n",
    "$$\n",
    "f := EAu_{xx} +4\\pi^2\\sin(2\\pi x)\n",
    "$$"
   ]
  },
  {
   "attachments": {},
   "cell_type": "markdown",
   "metadata": {},
   "source": [
    "We already know the analytical solution to this problem. It is given as:\n",
    "$$\n",
    "u(x) = \\sin(2\\pi x)\n",
    "$$"
   ]
  },
  {
   "attachments": {},
   "cell_type": "markdown",
   "metadata": {},
   "source": [
    ">As the domain of the problem is $[0,1]$, the length of the rod is 1 unit. If the length changes, the solution will change accordingly. Specifically, the solution will become $\\sin(\\frac{2\\pi x}{L})$."
   ]
  },
  {
   "attachments": {},
   "cell_type": "markdown",
   "metadata": {},
   "source": [
    "## Solution"
   ]
  },
  {
   "attachments": {},
   "cell_type": "markdown",
   "metadata": {},
   "source": [
    "We'll start by defining some variables:"
   ]
  },
  {
   "cell_type": "code",
   "execution_count": 2,
   "metadata": {},
   "outputs": [],
   "source": [
    "#E and A\n",
    "E, A = 1, 1\n",
    "\n",
    "#The function u(x) = sin(2*pi*x)\n",
    "u_analytical = lambda x: torch.sin(2*torch.pi * x)\n",
    "\n",
    "#The load function p(x) = 4*pi^2*sin(2*pi*x)\n",
    "p = lambda x: 4*torch.pi**2 * torch.sin(2*torch.pi * x)\n",
    "\n",
    "#Initial condition\n",
    "u0 = torch.tensor([0., 0.], requires_grad=True, dtype=torch.float32)\n",
    "x0 = torch.tensor([0., 1.], requires_grad=True, dtype=torch.float32)"
   ]
  },
  {
   "cell_type": "code",
   "execution_count": 3,
   "metadata": {},
   "outputs": [],
   "source": [
    "def collocation_points(points):\n",
    "    #Create a tensor of collocation points\n",
    "    x = torch.linspace(0, 1, points, requires_grad=True, dtype=torch.float32) #requires_grad=True to compute the gradient\n",
    "    return x"
   ]
  },
  {
   "cell_type": "code",
   "execution_count": 4,
   "metadata": {},
   "outputs": [],
   "source": [
    "X_c = collocation_points(100)"
   ]
  },
  {
   "attachments": {},
   "cell_type": "markdown",
   "metadata": {},
   "source": [
    "Next, we'll create an `inputs` variable, which will contain the boundary points and the collcocation points. We'll use 1000 collocation points and 2 boundary points."
   ]
  },
  {
   "cell_type": "code",
   "execution_count": 5,
   "metadata": {},
   "outputs": [
    {
     "data": {
      "text/plain": [
       "torch.Size([102, 1])"
      ]
     },
     "execution_count": 5,
     "metadata": {},
     "output_type": "execute_result"
    }
   ],
   "source": [
    "inputs = torch.cat([x0, X_c], 0) #Concatenate tensors along a given dimension\n",
    "inputs = inputs.unsqueeze(1) #Add another dimension to the tensor\n",
    "inputs.shape"
   ]
  },
  {
   "attachments": {},
   "cell_type": "markdown",
   "metadata": {},
   "source": [
    "We'll also need to change the dimensions of `x0` so that it becomes 2d."
   ]
  },
  {
   "cell_type": "code",
   "execution_count": 6,
   "metadata": {},
   "outputs": [],
   "source": [
    "x0 = x0.unsqueeze(1)"
   ]
  },
  {
   "attachments": {},
   "cell_type": "markdown",
   "metadata": {},
   "source": [
    "Now, we'll define the cost function. We'll create two functions:\n",
    "\n",
    "1. The first will take `y_pred` and `y_true` as inputs and return the MSE.\n",
    "2. The second will calculate the residual. It will take the `x` values and a neural network as inputs and return the residual."
   ]
  },
  {
   "cell_type": "code",
   "execution_count": 7,
   "metadata": {},
   "outputs": [],
   "source": [
    "def mseu(y_pred, y_true):\n",
    "    #Mean squared error for u\n",
    "    return torch.mean((y_pred - y_true)**2)"
   ]
  },
  {
   "cell_type": "code",
   "execution_count": 8,
   "metadata": {},
   "outputs": [],
   "source": [
    "def msec(x, model):\n",
    "    # calculates E*A*u_xx + p(x)\n",
    "    u = model(x)\n",
    "    u_x = torch.autograd.grad(u, x, grad_outputs=torch.ones_like(u), create_graph=True, retain_graph=True)[0]\n",
    "    u_xx = torch.autograd.grad(u_x, x, grad_outputs=torch.ones_like(u_x), create_graph=True,  retain_graph=True)[0]\n",
    "    sum_ = E*A*u_xx + p(x)\n",
    "    return torch.mean(sum_**2)"
   ]
  },
  {
   "attachments": {},
   "cell_type": "markdown",
   "metadata": {},
   "source": [
    "Now, we'll define a total loss function which will be the sum of the MSE and the residual."
   ]
  },
  {
   "cell_type": "code",
   "execution_count": 9,
   "metadata": {},
   "outputs": [],
   "source": [
    "def loss(inputs, model):\n",
    "    #Loss function\n",
    "    x0 = inputs[:2]\n",
    "    x = inputs[2:]\n",
    "    return mseu(model(x0), u0) + msec(x, model)"
   ]
  },
  {
   "attachments": {},
   "cell_type": "markdown",
   "metadata": {},
   "source": [
    "Let's define the neural network architecture. We'll use 3 hidden layers with 10, 20, 20 neurons each. We'll use the `tanh` activation function."
   ]
  },
  {
   "cell_type": "code",
   "execution_count": 10,
   "metadata": {},
   "outputs": [],
   "source": [
    "model = nn.Sequential(\n",
    "    nn.Linear(1, 40),\n",
    "    nn.Tanh(),\n",
    "    nn.Linear(40, 40),\n",
    "    nn.Tanh(),\n",
    "    nn.Linear(40, 1),\n",
    ")"
   ]
  },
  {
   "attachments": {},
   "cell_type": "markdown",
   "metadata": {},
   "source": [
    "Let's define an optimizer."
   ]
  },
  {
   "cell_type": "code",
   "execution_count": 11,
   "metadata": {},
   "outputs": [],
   "source": [
    "#create a LBFGS optimizer\n",
    "optimizer = torch.optim.LBFGS(model.parameters(), lr=0.1, max_iter=1000, max_eval=100, tolerance_grad=1e-05, tolerance_change=1e-06)"
   ]
  },
  {
   "attachments": {},
   "cell_type": "markdown",
   "metadata": {},
   "source": [
    "Now, we can train the model:"
   ]
  },
  {
   "cell_type": "code",
   "execution_count": 12,
   "metadata": {},
   "outputs": [
    {
     "name": "stdout",
     "output_type": "stream",
     "text": [
      "Epoch    1/20 | loss=772.4099\n",
      "Epoch    2/20 | loss=0.7346\n",
      "Epoch    3/20 | loss=0.0243\n",
      "Epoch    4/20 | loss=0.0071\n",
      "Epoch    5/20 | loss=0.0010\n",
      "Epoch    6/20 | loss=0.0002\n",
      "Epoch    7/20 | loss=0.0002\n",
      "Epoch    8/20 | loss=0.0002\n",
      "Epoch    9/20 | loss=0.0002\n",
      "Epoch   10/20 | loss=0.0002\n",
      "Epoch   11/20 | loss=0.0002\n",
      "Epoch   12/20 | loss=0.0002\n",
      "Epoch   13/20 | loss=0.0002\n",
      "Epoch   14/20 | loss=0.0002\n",
      "Epoch   15/20 | loss=0.0002\n",
      "Epoch   16/20 | loss=0.0002\n",
      "Epoch   17/20 | loss=0.0002\n",
      "Epoch   18/20 | loss=0.0002\n",
      "Epoch   19/20 | loss=0.0002\n",
      "Epoch   20/20 | loss=0.0002\n"
     ]
    }
   ],
   "source": [
    "epochs = 20\n",
    "losses = []\n",
    "for epoch in range(epochs):\n",
    "    u = model(inputs)\n",
    "    loss_ = loss(inputs, model)\n",
    "    optimizer.zero_grad()\n",
    "    loss_.backward()\n",
    "    def closure():\n",
    "        optimizer.zero_grad()\n",
    "        loss_ = loss(inputs, model)\n",
    "        loss_.backward()\n",
    "        return loss_\n",
    "    optimizer.step(closure=closure)\n",
    "    losses.append(loss_.item())\n",
    "\n",
    "    print(f\"Epoch {epoch+1:>4d}/{epochs} | loss={loss_.item():.4f}\")\n"
   ]
  },
  {
   "attachments": {},
   "cell_type": "markdown",
   "metadata": {},
   "source": [
    "Loss is zero! That's great. Let's plot the solution:"
   ]
  },
  {
   "attachments": {},
   "cell_type": "markdown",
   "metadata": {},
   "source": [
    "Let's plot the solution:"
   ]
  },
  {
   "cell_type": "code",
   "execution_count": 13,
   "metadata": {},
   "outputs": [
    {
     "data": {
      "text/plain": [
       "<matplotlib.legend.Legend at 0x7f343bb70d00>"
      ]
     },
     "execution_count": 13,
     "metadata": {},
     "output_type": "execute_result"
    },
    {
     "data": {
      "image/png": "[encoded data removed]",
      "text/plain": [
       "<Figure size 640x480 with 1 Axes>"
      ]
     },
     "metadata": {},
     "output_type": "display_data"
    }
   ],
   "source": [
    "x_to_plot = torch.linspace(0, 1, 1000, requires_grad=True, dtype=torch.float32)\n",
    "x_to_plot = x_to_plot.unsqueeze(1)\n",
    "u_pred = model(x_to_plot)\n",
    "\n",
    "plt.plot(x_to_plot.detach().numpy(), u_pred.detach().numpy(), label=\"Predicted\", lw=3)\n",
    "plt.plot(x_to_plot.detach().numpy(), u_analytical(x_to_plot).detach().numpy(), label=\"Analytical\", linestyle=\"--\", lw=3)\n",
    "plt.legend()"
   ]
  },
  {
   "cell_type": "code",
   "execution_count": 14,
   "metadata": {},
   "outputs": [
    {
     "data": {
      "image/png": "[encoded data removed]",
      "text/plain": [
       "<Figure size 640x480 with 1 Axes>"
      ]
     },
     "metadata": {},
     "output_type": "display_data"
    }
   ],
   "source": [
    "#plot losses\n",
    "plt.plot(losses)\n",
    "plt.xlabel(\"Epochs\")\n",
    "plt.ylabel(\"Loss\")\n",
    "plt.show()"
   ]
  },
  {
   "attachments": {},
   "cell_type": "markdown",
   "metadata": {},
   "source": [
    "# The Inverse Problem"
   ]
  },
  {
   "attachments": {},
   "cell_type": "markdown",
   "metadata": {},
   "source": [
    "## Problem Statement"
   ]
  },
  {
   "attachments": {},
   "cell_type": "markdown",
   "metadata": {},
   "source": [
    "Here, we'll use the PDE used above:\n",
    "\n",
    "$$\n",
    "\\frac{d}{dx}\\left(E(x)A(x)\\frac{d}{dx}u(x)\\right) +p(x) = 0\n",
    "$$\n",
    "\n",
    "to get the value of $EA(x)$ assuming that we know the solution. We'll use the same neural network architecture as above."
   ]
  },
  {
   "attachments": {},
   "cell_type": "markdown",
   "metadata": {},
   "source": [
    "The differential equation becomes:\n",
    "$$\n",
    "E(x)u_{xx} + E_x(x)u_x + p(x) = 0\n",
    "$$\n",
    "\n",
    "now define:\n",
    "\n",
    "$$\n",
    "f:=E(x)u_{xx} + E_x(x)u_x + p(x)\n",
    "$$"
   ]
  },
  {
   "attachments": {},
   "cell_type": "markdown",
   "metadata": {},
   "source": [
    "We already know $u$, $u_x$ and $u_{xx}$, so we will create a neural network to approximate $E(x)$."
   ]
  },
  {
   "attachments": {},
   "cell_type": "markdown",
   "metadata": {},
   "source": [
    ">Please note that I've dropped the A, it is assumed to be absorbed in the E."
   ]
  },
  {
   "attachments": {},
   "cell_type": "markdown",
   "metadata": {},
   "source": [
    "The analytical form of the functions are:\n",
    "$$\n",
    "\\begin{align*}\n",
    "u(x) &= \\sin(2\\pi x)\\\\\n",
    "u_x(x) &= 2\\pi\\cos(2\\pi x)\\\\\n",
    "u_{xx}(x) &= -4\\pi^2\\sin(2\\pi x)\n",
    "\\end{align*}\n",
    "$$\n",
    "\n",
    "while, we choose the following form for $E(x)$:\n",
    "$$\n",
    "E(x) = x^2 - x^2 +1\n",
    "$$\n",
    "\n",
    "For this, the load function becomes:\n",
    "\n",
    "$$\n",
    "p(x) = -2(3x^2 - 2x)\\pi \\cos(2\\pi x) + 4(x^3 - x^2 + 1)\\pi ^2\\sin(2\\pi x)\n",
    "$$"
   ]
  },
  {
   "attachments": {},
   "cell_type": "markdown",
   "metadata": {},
   "source": [
    "## Solution"
   ]
  },
  {
   "attachments": {},
   "cell_type": "markdown",
   "metadata": {},
   "source": [
    "Once again, we'll start by defining some variables:"
   ]
  },
  {
   "cell_type": "code",
   "execution_count": 2,
   "metadata": {},
   "outputs": [],
   "source": [
    "#The function u(x) = sin(2*pi*x)\n",
    "u_analytical = lambda x: torch.sin(2*torch.pi * x)\n",
    "E_analytical = lambda x: x**3 - x**2 + 1\n",
    "\n",
    "#The load function f(x) = 4*pi^2*sin(2*pi*x)\n",
    "p = lambda x: -2*(3*x**2 - 2*x)*torch.pi*torch.cos(2*torch.pi*x) + 4*(x**3 - x**2 + 1)*torch.pi**2*torch.sin(2*torch.pi*x)"
   ]
  },
  {
   "cell_type": "code",
   "execution_count": 26,
   "metadata": {},
   "outputs": [
    {
     "data": {
      "text/plain": [
       "torch.Size([100, 1])"
      ]
     },
     "execution_count": 26,
     "metadata": {},
     "output_type": "execute_result"
    }
   ],
   "source": [
    "def collocation_points(points):\n",
    "    #Create a tensor of collocation points\n",
    "    x = torch.linspace(0, 1, points, requires_grad=True, dtype=torch.float32) #requires_grad=True to compute the gradient\n",
    "    return x\n",
    "\n",
    "X_c = collocation_points(100)\n",
    "# u_c = u_analytical(X_c)\n",
    "# inputs = torch.zeros((100, 2), dtype=torch.float32)\n",
    "# inputs[:, 0] = X_c\n",
    "# inputs[:, 1] = u_c\n",
    "inputs = X_c.unsqueeze(1)\n",
    "inputs.shape"
   ]
  },
  {
   "attachments": {},
   "cell_type": "markdown",
   "metadata": {},
   "source": [
    "We'll define the cost function here. It will take input and the model and will return the residuals."
   ]
  },
  {
   "cell_type": "code",
   "execution_count": 27,
   "metadata": {},
   "outputs": [],
   "source": [
    "def loss(inputs, model):\n",
    "    e = model(inputs)\n",
    "    e_x = torch.autograd.grad(e, inputs, grad_outputs=torch.ones_like(e), create_graph=True, retain_graph=True)[0]\n",
    "    \n",
    "    u = u_analytical(inputs)\n",
    "    u_x = torch.autograd.grad(u, inputs, grad_outputs=torch.ones_like(u), create_graph=True, retain_graph=True)[0]\n",
    "    u_xx = torch.autograd.grad(u_x, inputs, grad_outputs=torch.ones_like(u_x), create_graph=True,  retain_graph=True)[0]\n",
    "\n",
    "    l = torch.mean((e*u_xx + e_x*u_x + p(inputs))**2)\n",
    "    return l"
   ]
  },
  {
   "cell_type": "code",
   "execution_count": 33,
   "metadata": {},
   "outputs": [],
   "source": [
    "model = nn.Sequential(\n",
    "    nn.Linear(1, 20),\n",
    "    nn.Tanh(),\n",
    "    nn.Linear(20, 1),\n",
    ")"
   ]
  },
  {
   "cell_type": "code",
   "execution_count": 34,
   "metadata": {},
   "outputs": [],
   "source": [
    "#create a LBFGS optimizer\n",
    "optimizer = torch.optim.LBFGS(model.parameters(), lr=0.1, max_iter=1000, max_eval=100, tolerance_grad=1e-05, tolerance_change=1e-06)"
   ]
  },
  {
   "cell_type": "code",
   "execution_count": 35,
   "metadata": {},
   "outputs": [
    {
     "name": "stdout",
     "output_type": "stream",
     "text": [
      "Epoch    1/20 | loss=115.9809\n",
      "Epoch    2/20 | loss=1.0934\n",
      "Epoch    3/20 | loss=0.0106\n",
      "Epoch    4/20 | loss=0.0017\n",
      "Epoch    5/20 | loss=0.0001\n",
      "Epoch    6/20 | loss=0.0001\n",
      "Epoch    7/20 | loss=0.0001\n",
      "Epoch    8/20 | loss=0.0001\n",
      "Epoch    9/20 | loss=0.0001\n",
      "Epoch   10/20 | loss=0.0001\n",
      "Epoch   11/20 | loss=0.0001\n",
      "Epoch   12/20 | loss=0.0001\n",
      "Epoch   13/20 | loss=0.0001\n",
      "Epoch   14/20 | loss=0.0001\n",
      "Epoch   15/20 | loss=0.0001\n",
      "Epoch   16/20 | loss=0.0001\n",
      "Epoch   17/20 | loss=0.0001\n",
      "Epoch   18/20 | loss=0.0001\n",
      "Epoch   19/20 | loss=0.0001\n",
      "Epoch   20/20 | loss=0.0001\n"
     ]
    }
   ],
   "source": [
    "epochs = 20\n",
    "losses = []\n",
    "for epoch in range(epochs):\n",
    "    u = model(inputs)\n",
    "    loss_ = loss(inputs, model)\n",
    "    optimizer.zero_grad()\n",
    "    loss_.backward()\n",
    "    def closure():\n",
    "        optimizer.zero_grad()\n",
    "        loss_ = loss(inputs, model)\n",
    "        loss_.backward()\n",
    "        return loss_\n",
    "    optimizer.step(closure=closure)\n",
    "    losses.append(loss_.item())\n",
    "\n",
    "    print(f\"Epoch {epoch+1:>4d}/{epochs} | loss={loss_.item():.4f}\")\n"
   ]
  },
  {
   "attachments": {},
   "cell_type": "markdown",
   "metadata": {},
   "source": [
    "Let's plot the value of $E(x)$:"
   ]
  },
  {
   "cell_type": "code",
   "execution_count": 36,
   "metadata": {},
   "outputs": [],
   "source": [
    "E_true = E_analytical(X_c)\n",
    "E_model = model(X_c.unsqueeze(1))"
   ]
  },
  {
   "cell_type": "code",
   "execution_count": 37,
   "metadata": {},
   "outputs": [
    {
     "data": {
      "image/png": "[encoded data removed]",
      "text/plain": [
       "<Figure size 640x480 with 1 Axes>"
      ]
     },
     "metadata": {},
     "output_type": "display_data"
    }
   ],
   "source": [
    "plt.plot(X_c.detach().numpy(), E_true.detach().numpy(), label=\"Analytical\", lw=3)\n",
    "plt.plot(X_c.detach().numpy(), E_model.detach().numpy(), label=\"Predicted\", linestyle=\"--\", lw=3)\n",
    "plt.legend()\n",
    "plt.show()"
   ]
  },
  {
   "attachments": {},
   "cell_type": "markdown",
   "metadata": {},
   "source": [
    "Let's plot the loss."
   ]
  },
  {
   "cell_type": "code",
   "execution_count": 38,
   "metadata": {},
   "outputs": [
    {
     "data": {
      "image/png": "[encoded data removed]",
      "text/plain": [
       "<Figure size 640x480 with 1 Axes>"
      ]
     },
     "metadata": {},
     "output_type": "display_data"
    }
   ],
   "source": [
    "#plot losses\n",
    "plt.plot(losses)\n",
    "plt.xlabel(\"Epochs\")\n",
    "plt.ylabel(\"Loss\")\n",
    "plt.show()"
   ]
  }
 ],
 "metadata": {
  "kernelspec": {
   "display_name": "data-science",
   "language": "python",
   "name": "python3"
  },
  "language_info": {
   "codemirror_mode": {
    "name": "ipython",
    "version": 3
   },
   "file_extension": ".py",
   "mimetype": "text/x-python",
   "name": "python",
   "nbconvert_exporter": "python",
   "pygments_lexer": "ipython3",
   "version": "3.9.15"
  },
  "orig_nbformat": 4
 },
 "nbformat": 4,
 "nbformat_minor": 2
}
