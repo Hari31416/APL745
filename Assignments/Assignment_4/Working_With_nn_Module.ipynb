{
 "cells": [
  {
   "attachments": {},
   "cell_type": "markdown",
   "metadata": {},
   "source": [
    "# Imports"
   ]
  },
  {
   "cell_type": "code",
   "execution_count": 1,
   "metadata": {},
   "outputs": [],
   "source": [
    "import os\n",
    "import numpy as np\n",
    "import pandas as pd\n",
    "import matplotlib.pyplot as plt\n",
    "\n",
    "#Importing the nn module implemented in the assignment\n",
    "from nn.model import Sequential\n",
    "from nn.layers import Dense, Input, Dropout\n",
    "from nn.utils import one_hot\n",
    "\n",
    "plt.rcParams['figure.figsize'] = (10.0, 7.0)\n",
    "plt.rcParams[\"font.size\"] = 16\n",
    "plt.rcParams[\"font.family\"] = \"Serif\""
   ]
  },
  {
   "cell_type": "code",
   "execution_count": 2,
   "metadata": {},
   "outputs": [],
   "source": [
    "DATA_DIR = os.path.join(os.getcwd(), 'data')\n",
    "SAVE_DIR = os.path.join(os.getcwd(), 'plots')"
   ]
  },
  {
   "attachments": {},
   "cell_type": "markdown",
   "metadata": {},
   "source": [
    "# Introduction"
   ]
  },
  {
   "attachments": {},
   "cell_type": "markdown",
   "metadata": {},
   "source": [
    "This notebook shows how to use the module `nn` to build, compile and train a neural network. The module `nn` is a high-level API that provides a convenient way to build neural networks. The API of the module is very similar to that of the `keras` or `tensorflow` modules. The module uses automatic differentiation to compute the gradients of the loss function with respect to the parameters of the network."
   ]
  },
  {
   "attachments": {},
   "cell_type": "markdown",
   "metadata": {},
   "source": [
    "Before we can start, let's load a dataset to work with. We'll use the same dataset given in the assignment, the fashion MNIST dataset."
   ]
  },
  {
   "attachments": {},
   "cell_type": "markdown",
   "metadata": {},
   "source": [
    "## Loading Data"
   ]
  },
  {
   "cell_type": "markdown",
   "metadata": {},
   "source": [
    "We start the exercise by first loading the dataset. "
   ]
  },
  {
   "cell_type": "code",
   "execution_count": 3,
   "metadata": {},
   "outputs": [
    {
     "name": "stdout",
     "output_type": "stream",
     "text": [
      "Number of training examples:  10000\n",
      "Number of features:  784\n",
      "X shape:  (10000, 784)\n",
      "y shape:  (10000,)\n"
     ]
    }
   ],
   "source": [
    "#  training data stored in arrays X, y\n",
    "data = pd.read_csv(os.path.join(DATA_DIR,'fashion-mnist_train.csv'))\n",
    "X,y = data.iloc[:, 1:].values, data.iloc[:, 0].ravel()\n",
    "m, nx = X.shape\n",
    "print(\"Number of training examples: \", m)\n",
    "print(\"Number of features: \", nx)\n",
    "print(\"X shape: \", X.shape)\n",
    "print(\"y shape: \", y.shape)"
   ]
  },
  {
   "attachments": {},
   "cell_type": "markdown",
   "metadata": {},
   "source": [
    "## Preprocessing"
   ]
  },
  {
   "cell_type": "markdown",
   "metadata": {},
   "source": [
    "We'll normalize the data by dividing with 255.0. This will make the data range between 0 and 1."
   ]
  },
  {
   "cell_type": "code",
   "execution_count": 4,
   "metadata": {},
   "outputs": [
    {
     "name": "stdout",
     "output_type": "stream",
     "text": [
      "(784, 10000)\n",
      "(10, 10000)\n"
     ]
    }
   ],
   "source": [
    "X = X/255.0\n",
    "X = X.T\n",
    "y = one_hot(y, 10)\n",
    "\n",
    "print(X.shape)\n",
    "print(y.shape)"
   ]
  },
  {
   "cell_type": "markdown",
   "metadata": {},
   "source": [
    "Great! Now we have the train and test data ready."
   ]
  },
  {
   "attachments": {},
   "cell_type": "markdown",
   "metadata": {},
   "source": [
    "## Some Constraints"
   ]
  },
  {
   "attachments": {},
   "cell_type": "markdown",
   "metadata": {},
   "source": [
    "The module puts a resctriction on how the inputs can be given to it. The module assumes that the input data is such that its shape is `(n_x, m)`, where `n_x` is the number of features and `m` is the number of examples. This means that the input data should be a matrix, where each column is an example. The module also assumes that the labels are given as a one-hot encoded matrix, where each column is a label. The shape of the label matrix should be `(n_y, m)`, where `n_y` is the number of classes. This means even if you have a single label, it should be given as a matrix with shape `(1, m)`. You there are more than one labels, you have to pass one-hot encoded labels. This can be done using the `one_hot` function in the `utils` module. See the above cell for an example."
   ]
  },
  {
   "attachments": {},
   "cell_type": "markdown",
   "metadata": {},
   "source": [
    "# The API"
   ]
  },
  {
   "attachments": {},
   "cell_type": "markdown",
   "metadata": {},
   "source": [
    "Let's start with the API."
   ]
  },
  {
   "attachments": {},
   "cell_type": "markdown",
   "metadata": {},
   "source": [
    "As I mentioned earlier, the API of the module `nn` is very similar to that of the `keras` or `tensorflow`. So, training a neural network model comprises of three steps:\n",
    "\n",
    "1. Define the model\n",
    "2. Compile the model\n",
    "3. Fit the model"
   ]
  },
  {
   "attachments": {},
   "cell_type": "markdown",
   "metadata": {},
   "source": [
    "Finally, we can use the model to make predictions."
   ]
  },
  {
   "attachments": {},
   "cell_type": "markdown",
   "metadata": {},
   "source": [
    "## Define the model"
   ]
  },
  {
   "attachments": {},
   "cell_type": "markdown",
   "metadata": {},
   "source": [
    "A `model` can be defined using the `Sequential` class. The `Sequential` class is a container that holds the layers of the model. The layers are added to the model sequentially. The model is defined by using the `add` method of the `Sequential` class. The `add` method takes a layer as an argument. The layers are added to the model sequentially. The first layer added to the model is the input layer. The last layer added to the model is the output layer. The layers in between are the hidden layers."
   ]
  },
  {
   "attachments": {},
   "cell_type": "markdown",
   "metadata": {},
   "source": [
    "Let's create an empty model. The `Sequential` class takes a `name` argument. The `name` argument is optional. If you don't provide a name, the model will be named `Sequential`."
   ]
  },
  {
   "cell_type": "code",
   "execution_count": 5,
   "metadata": {},
   "outputs": [],
   "source": [
    "model = Sequential(name='My Model')"
   ]
  },
  {
   "attachments": {},
   "cell_type": "markdown",
   "metadata": {},
   "source": [
    "You can see the layers of the model using the `layers` attribute of the model. The `layers` attribute is a list of layers."
   ]
  },
  {
   "cell_type": "code",
   "execution_count": 6,
   "metadata": {},
   "outputs": [
    {
     "data": {
      "text/plain": [
       "[]"
      ]
     },
     "execution_count": 6,
     "metadata": {},
     "output_type": "execute_result"
    }
   ],
   "source": [
    "model.layers"
   ]
  },
  {
   "attachments": {},
   "cell_type": "markdown",
   "metadata": {},
   "source": [
    "Since the model is empty, the list of layers is empty."
   ]
  },
  {
   "attachments": {},
   "cell_type": "markdown",
   "metadata": {},
   "source": [
    "### Adding layers"
   ]
  },
  {
   "attachments": {},
   "cell_type": "markdown",
   "metadata": {},
   "source": [
    "#### Input layer"
   ]
  },
  {
   "attachments": {},
   "cell_type": "markdown",
   "metadata": {},
   "source": [
    "The first layer added must be an `Input` layer. This way, you can use the `compile` method to see the architecture of the model created. The `Input` layers takes just two arguments: `input_shape` and `name`. The `input_shape` argument is a `tuple` that specifies the shape of the input data. The `name` argument is a string that specifies the name of the input layer. The `name` argument is optional."
   ]
  },
  {
   "cell_type": "code",
   "execution_count": 7,
   "metadata": {},
   "outputs": [],
   "source": [
    "input_layer = Input(input_shape=(784,), name='Input Layer')"
   ]
  },
  {
   "attachments": {},
   "cell_type": "markdown",
   "metadata": {},
   "source": [
    "Let's add this to the model."
   ]
  },
  {
   "cell_type": "code",
   "execution_count": 8,
   "metadata": {},
   "outputs": [
    {
     "data": {
      "text/plain": [
       "[Input((784,))]"
      ]
     },
     "execution_count": 8,
     "metadata": {},
     "output_type": "execute_result"
    }
   ],
   "source": [
    "model.add(input_layer)\n",
    "model.layers"
   ]
  },
  {
   "attachments": {},
   "cell_type": "markdown",
   "metadata": {},
   "source": [
    "So, we have a model with one layer, the `Input` layer. Next, we start adding hidden layer."
   ]
  },
  {
   "attachments": {},
   "cell_type": "markdown",
   "metadata": {},
   "source": [
    "Instead of creating a `layer` object and then adding it to the model, we can also add the layer directly to the model like\n",
    "\n",
    "```python\n",
    "model.add(Dense(128, activation='relu', name='dense_1'))\n",
    "```"
   ]
  },
  {
   "attachments": {},
   "cell_type": "markdown",
   "metadata": {},
   "source": [
    "#### Dense layer"
   ]
  },
  {
   "attachments": {},
   "cell_type": "markdown",
   "metadata": {},
   "source": [
    "A `Dense` layer has more attributes then the `Input` layer. The `Dense` layer takes the following arguments:\n",
    "\n",
    "1. `neurons`: The number of neurons in the layer\n",
    "2. `activation`: The activation function of the layer\n",
    "3. `name`: The name of the layer\n",
    "4. `l1`: The L1 regularization parameter\n",
    "5. `l2`: The L2 regularization parameter"
   ]
  },
  {
   "attachments": {},
   "cell_type": "markdown",
   "metadata": {},
   "source": [
    "Let's add a `Dense` layer with 100 `neurons`, `relu` activation and `l1` regularization to the model."
   ]
  },
  {
   "cell_type": "code",
   "execution_count": 9,
   "metadata": {},
   "outputs": [],
   "source": [
    "model.add(Dense(neurons=100, activation='relu', name='Hidden Layer 1', l1=0.001))"
   ]
  },
  {
   "attachments": {},
   "cell_type": "markdown",
   "metadata": {},
   "source": [
    "Let's add another layer followed by `Dropout` layer and then output layer."
   ]
  },
  {
   "cell_type": "code",
   "execution_count": 10,
   "metadata": {},
   "outputs": [],
   "source": [
    "model.add(Dense(neurons=50, activation='relu', name='Hidden Layer 2', l1=0.001))\n",
    "model.add(Dropout(0.2, name='Dropout Layer 1'))\n",
    "model.add(Dense(neurons=10, activation='softmax', name='Output Layer'))"
   ]
  },
  {
   "attachments": {},
   "cell_type": "markdown",
   "metadata": {},
   "source": [
    "Since this is a multi-class classification problem, we'll use `softmax` activation in the output layer. The `softmax` activation function is used to convert the output of the network to a probability distribution. The output of the network is a vector of size 10. Each element of the vector represents the probability of the corresponding class. The class with the highest probability is the predicted class.\n",
    "\n",
    "Let's see the layers:"
   ]
  },
  {
   "cell_type": "code",
   "execution_count": 11,
   "metadata": {},
   "outputs": [
    {
     "data": {
      "text/plain": [
       "[Input((784,)), Dense(100), Dense(50), Dropout(0.2), Dense(10)]"
      ]
     },
     "execution_count": 11,
     "metadata": {},
     "output_type": "execute_result"
    }
   ],
   "source": [
    "model.layers"
   ]
  },
  {
   "attachments": {},
   "cell_type": "markdown",
   "metadata": {},
   "source": [
    "### Available layers"
   ]
  },
  {
   "attachments": {},
   "cell_type": "markdown",
   "metadata": {},
   "source": [
    "Available layers are:\n",
    "\n",
    "1. `Input`: The input layer\n",
    "2. `Dense`: The fully connected layer\n",
    "3. `Dropout`: The dropout layer\n",
    "4. `BatchNormalization`: The batch normalization layer (This is still work in progress)"
   ]
  },
  {
   "attachments": {},
   "cell_type": "markdown",
   "metadata": {},
   "source": [
    "### Available activations"
   ]
  },
  {
   "attachments": {},
   "cell_type": "markdown",
   "metadata": {},
   "source": [
    "The following activations are available:\n",
    "\n",
    "1. `relu`: The rectified linear unit activation\n",
    "2. `sigmoid`: The sigmoid activation\n",
    "3. `tanh`: The hyperbolic tangent activation\n",
    "4. `softmax`: The softmax activation\n",
    "5. `linear`: The linear activation"
   ]
  },
  {
   "attachments": {},
   "cell_type": "markdown",
   "metadata": {},
   "source": [
    "Now we turn to compiling the model."
   ]
  },
  {
   "attachments": {},
   "cell_type": "markdown",
   "metadata": {},
   "source": [
    "### The Model Summary"
   ]
  },
  {
   "attachments": {},
   "cell_type": "markdown",
   "metadata": {},
   "source": [
    "To get a view on the model architecture, you can use the `summary` method of the model. The `summary` method prints the architecture of the model."
   ]
  },
  {
   "cell_type": "code",
   "execution_count": 12,
   "metadata": {},
   "outputs": [
    {
     "name": "stdout",
     "output_type": "stream",
     "text": [
      "Model: My Model\n",
      "_____________________________________________________________________________________________\n",
      "Name               # Neurons  Weight Shapes    Bias Shapes      # Parameters  Output Shapes\n",
      "---------------  -----------  ---------------  -------------  --------------  ---------------\n",
      "Input Layer              784  ------           ------                      0  (784,)\n",
      "Hidden Layer 1           100  (100, 784)       (100, 1)                78500  (100,)\n",
      "Hidden Layer 2            50  (50, 100)        (50, 1)                  5050  (50,)\n",
      "Dropout Layer 1           50  ------           ------                      0  (50,)\n",
      "Output Layer              10  (10, 50)         (10, 1)                   510  (10,)\n",
      "=============================================================================================\n",
      "Total Parameters: 84060\n",
      "_____________________________________________________________________________________________\n"
     ]
    }
   ],
   "source": [
    "model.summary()"
   ]
  },
  {
   "attachments": {},
   "cell_type": "markdown",
   "metadata": {},
   "source": [
    "## Compile the model"
   ]
  },
  {
   "attachments": {},
   "cell_type": "markdown",
   "metadata": {},
   "source": [
    "The `compile` method of the `Sequential` class is used to compile the model. This method basically initializes the parameters of the model. The `compile` method takes the following arguments:\n",
    "\n",
    "1. `loss`: The loss function to be used. Should be a string\n",
    "2. `metrics`: The metrics to be used to evaluate the model Should be a list of strings\n",
    "3. `initializer`: The initializer to be used to initialize the parameters of the model. Should be a string"
   ]
  },
  {
   "attachments": {},
   "cell_type": "markdown",
   "metadata": {},
   "source": [
    "Let's compile the model with `categorical_cross_entropy` loss, `accuracy` metric and `glorot` initializer."
   ]
  },
  {
   "cell_type": "code",
   "execution_count": 13,
   "metadata": {},
   "outputs": [],
   "source": [
    "model.compile(loss='categorical_cross_entropy', metrics=['accuracy'], initializer=\"glorot\")"
   ]
  },
  {
   "attachments": {},
   "cell_type": "markdown",
   "metadata": {},
   "source": [
    "Great! Now we are ready to train the model."
   ]
  },
  {
   "attachments": {},
   "cell_type": "markdown",
   "metadata": {},
   "source": [
    "### Available Losses"
   ]
  },
  {
   "attachments": {},
   "cell_type": "markdown",
   "metadata": {},
   "source": [
    "Available losses are:\n",
    "\n",
    "1. `categorical_cross_entropy`: The categorical cross entropy loss\n",
    "2. `binary_cross_entropy`: The binary cross entropy loss\n",
    "3. `mean_squared_error`: The mean squared error loss"
   ]
  },
  {
   "attachments": {},
   "cell_type": "markdown",
   "metadata": {},
   "source": [
    "### Available Metrics"
   ]
  },
  {
   "attachments": {},
   "cell_type": "markdown",
   "metadata": {},
   "source": [
    "Available metrics are:\n",
    "\n",
    "1. `accuracy`: The accuracy metric\n",
    "2. `precision`: The precision metric\n",
    "3. `recall`: The recall metric\n",
    "4. `f1_score`: The F1 score metric\n",
    "5. `mse`: The mean squared error metric\n",
    "6. `mae`: The mean absolute error metric"
   ]
  },
  {
   "attachments": {},
   "cell_type": "markdown",
   "metadata": {},
   "source": [
    "### Available Initializers"
   ]
  },
  {
   "attachments": {},
   "cell_type": "markdown",
   "metadata": {},
   "source": [
    "Available initializers are:\n",
    "\n",
    "1. `glorot`: The glorot initializer\n",
    "2. `he`: The he initializer\n",
    "3. `xavier`: The xavier initializer\n",
    "4. `random`: The random initializer\n",
    "5. `uniform`: The uniform initializer\n",
    "6. `zeros`: The zeros initializer"
   ]
  },
  {
   "attachments": {},
   "cell_type": "markdown",
   "metadata": {},
   "source": [
    "## Fit the model"
   ]
  },
  {
   "attachments": {},
   "cell_type": "markdown",
   "metadata": {},
   "source": [
    "The model parameters are trained using the `fit` method of the `Sequential` class. The `fit` method takes the following arguments:\n",
    "\n",
    "1. `X`: The input data\n",
    "2. `y`: The labels\n",
    "3. `verbose`: The verbosity of the training. Should be an integer\n",
    "4. `lr`: The learning rate. Should be a float\n",
    "5. `batch_size`: The batch size. Should be an integer"
   ]
  },
  {
   "attachments": {},
   "cell_type": "markdown",
   "metadata": {},
   "source": [
    "The method return a dictionary which contains the training history. This is a dictionary of lists. The keys of the dictionary are the loss and metrics used to evaluate the model. The values of the dictionary are the values of the metrics and loss at each epoch."
   ]
  },
  {
   "cell_type": "code",
   "execution_count": 14,
   "metadata": {},
   "outputs": [
    {
     "name": "stdout",
     "output_type": "stream",
     "text": [
      "Epoch 0001/0100 | Loss: 1.21597 | Accuracy: 0.59320 | \n",
      "Epoch 0010/0100 | Loss: 0.56549 | Accuracy: 0.81080 | \n",
      "Epoch 0020/0100 | Loss: 0.46011 | Accuracy: 0.84310 | \n",
      "Epoch 0030/0100 | Loss: 0.40739 | Accuracy: 0.85820 | \n",
      "Epoch 0040/0100 | Loss: 0.37363 | Accuracy: 0.86940 | \n",
      "Epoch 0050/0100 | Loss: 0.34152 | Accuracy: 0.87920 | \n",
      "Epoch 0060/0100 | Loss: 0.32052 | Accuracy: 0.88750 | \n",
      "Epoch 0070/0100 | Loss: 0.29726 | Accuracy: 0.89510 | \n",
      "Epoch 0080/0100 | Loss: 0.28612 | Accuracy: 0.89490 | \n",
      "Epoch 0090/0100 | Loss: 0.27119 | Accuracy: 0.90320 | \n",
      "Epoch 0100/0100 | Loss: 0.28576 | Accuracy: 0.89830 | \n"
     ]
    }
   ],
   "source": [
    "history = model.fit(X, y, epochs=100, batch_size=32, lr=0.01, verbose=2)"
   ]
  },
  {
   "attachments": {},
   "cell_type": "markdown",
   "metadata": {},
   "source": [
    "The model is performing well. The accuracy is about 90% in 100 epochs."
   ]
  },
  {
   "attachments": {},
   "cell_type": "markdown",
   "metadata": {},
   "source": [
    "### The Verbose Argument"
   ]
  },
  {
   "attachments": {},
   "cell_type": "markdown",
   "metadata": {},
   "source": [
    "The `verbose` argument is used to control the verbosity of the training. The `verbose` argument takes an integer as an argument. The following are the possible values of the `verbose` argument:\n",
    "\n",
    "- If 0, onlt a progress bar will be printed\n",
    "- If 1, the loss and metrics will be printed after 100 epoch\n",
    "- If 2, the loss and metrics will be printed after 10 epoch\n",
    "- If 3, the loss and metrics will be printed after 1 epoch"
   ]
  },
  {
   "attachments": {},
   "cell_type": "markdown",
   "metadata": {},
   "source": [
    "### The `history` attribute"
   ]
  },
  {
   "attachments": {},
   "cell_type": "markdown",
   "metadata": {},
   "source": [
    "A fitted model has a `history` attribute. The `history` attribute is a dictionary of lists. The keys of the dictionary are the loss and metrics used to evaluate the model. The values of the dictionary are the values of the metrics and loss at each epoch. This is the same dictionary returned by the `fit` method. We can use it to plot the training history."
   ]
  },
  {
   "cell_type": "code",
   "execution_count": 15,
   "metadata": {},
   "outputs": [
    {
     "data": {
      "text/plain": [
       "dict_keys(['CategoricalCrossEntropy', 'Accuracy'])"
      ]
     },
     "execution_count": 15,
     "metadata": {},
     "output_type": "execute_result"
    }
   ],
   "source": [
    "history.keys()"
   ]
  },
  {
   "attachments": {},
   "cell_type": "markdown",
   "metadata": {},
   "source": [
    "Let's plot the history."
   ]
  },
  {
   "cell_type": "code",
   "execution_count": 16,
   "metadata": {},
   "outputs": [
    {
     "data": {
      "image/png": "[encoded data removed]",
      "text/plain": [
       "<Figure size 1000x700 with 1 Axes>"
      ]
     },
     "metadata": {},
     "output_type": "display_data"
    }
   ],
   "source": [
    "history_df = pd.DataFrame(history)\n",
    "history_df.plot(subplots=False)\n",
    "plt.tight_layout()"
   ]
  },
  {
   "attachments": {},
   "cell_type": "markdown",
   "metadata": {},
   "source": [
    "## Predictions"
   ]
  },
  {
   "attachments": {},
   "cell_type": "markdown",
   "metadata": {},
   "source": [
    "The module has a `predict` method to make predictions."
   ]
  },
  {
   "cell_type": "code",
   "execution_count": 17,
   "metadata": {},
   "outputs": [],
   "source": [
    "y_pred = model.predict(X)"
   ]
  },
  {
   "attachments": {},
   "cell_type": "markdown",
   "metadata": {},
   "source": [
    "The predictions are one-hot encoded. You can use `numpy.argmax` to get the class with the highest probability."
   ]
  },
  {
   "cell_type": "code",
   "execution_count": 18,
   "metadata": {},
   "outputs": [
    {
     "data": {
      "text/plain": [
       "array([0, 1, 2, 2, 3, 0, 8, 2, 5, 0])"
      ]
     },
     "execution_count": 18,
     "metadata": {},
     "output_type": "execute_result"
    }
   ],
   "source": [
    "y_pred = np.argmax(y_pred, axis=0)\n",
    "y_pred[:10]"
   ]
  }
 ],
 "metadata": {
  "kernelspec": {
   "display_name": "data-science",
   "language": "python",
   "name": "python3"
  },
  "language_info": {
   "codemirror_mode": {
    "name": "ipython",
    "version": 3
   },
   "file_extension": ".py",
   "mimetype": "text/x-python",
   "name": "python",
   "nbconvert_exporter": "python",
   "pygments_lexer": "ipython3",
   "version": "3.9.15"
  },
  "orig_nbformat": 4,
  "vscode": {
   "interpreter": {
    "hash": "2efee1efa502125d01e6b4768ba06d9453d29f3642bfd14ad5d4a769de82e88c"
   }
  }
 },
 "nbformat": 4,
 "nbformat_minor": 2
}
