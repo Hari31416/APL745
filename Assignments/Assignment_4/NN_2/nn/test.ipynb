{
 "cells": [
  {
   "cell_type": "code",
   "execution_count": 16,
   "metadata": {},
   "outputs": [],
   "source": [
    "from model import Sequential\n",
    "from layers import Input, Dense\n",
    "import numpy as np"
   ]
  },
  {
   "attachments": {},
   "cell_type": "markdown",
   "metadata": {},
   "source": [
    "## Classification"
   ]
  },
  {
   "cell_type": "code",
   "execution_count": 4,
   "metadata": {},
   "outputs": [
    {
     "name": "stdout",
     "output_type": "stream",
     "text": [
      "(1, 569) (30, 569) 0.9212432903035124 0.0\n",
      "Model: my_model\n",
      "_________________________________________________________________________________________\n",
      "Name           # Neurons  Weight Shapes    Bias Shapes      # Parameters  Output Shapes\n",
      "-----------  -----------  ---------------  -------------  --------------  ---------------\n",
      "First Input           30  (0, 0)           (0, 0)                      0  (30,)\n",
      "Dense 1               20  (20, 30)         (20, 1)                   620  (20,)\n",
      "Dense A               10  (10, 20)         (10, 1)                   210  (10,)\n",
      "Dense C                8  (8, 10)          (8, 1)                     88  (8,)\n",
      "Dense Z                1  (1, 8)           (1, 1)                      9  (1,)\n",
      "=========================================================================================\n",
      "Total Parameters: 927\n",
      "_________________________________________________________________________________________\n"
     ]
    }
   ],
   "source": [
    "from model import Sequential\n",
    "from layers import Input, Dense\n",
    "import numpy as np\n",
    "from sklearn.datasets import load_breast_cancer\n",
    "\n",
    "# nx, m = 10, 1000\n",
    "# ny = 1\n",
    "# X = np.random.randn(nx, m)\n",
    "# X = X / np.linalg.norm(X, axis=0)\n",
    "# y_label = np.random.randint(0, ny + 1, (1, m))\n",
    "\n",
    "X, y = load_breast_cancer(return_X_y=True)\n",
    "X = X.T\n",
    "X = X / np.linalg.norm(X, axis=0)\n",
    "y = y.reshape(1, -1)\n",
    "\n",
    "print(y.shape, X.shape, X.max(), X.min())\n",
    "\n",
    "nx, m = X.shape\n",
    "ny = 1\n",
    "\n",
    "# def one_hot(y_label, classes):\n",
    "#     y = np.zeros((classes, y_label.shape[1]))\n",
    "#     for i in range(y_label.shape[1]):\n",
    "#         y[y_label[0, i], i] = 1\n",
    "#     return y\n",
    "\n",
    "\n",
    "# Y = one_hot(y_label, ny)\n",
    "\n",
    "m = Sequential(\"my_model\")\n",
    "inp = Input((nx,), name=\"First Input\")\n",
    "dense = Dense(20, activation=\"sigmoid\", name=\"Dense 1\")\n",
    "m.add(inp)\n",
    "m.add(dense)\n",
    "m.add(Dense(10, name=\"Dense A\", activation=\"sigmoid\"))\n",
    "m.add(Dense(8, name=\"Dense C\", activation=\"sigmoid\"))\n",
    "m.add(Dense(ny, name=\"Dense Z\", activation=\"sigmoid\"))\n",
    "\n",
    "m.summary()\n",
    "\n",
    "m.compile(loss=\"binary_cross_entropy\", metrics=[\"accuracy\"])\n",
    "# m.compile(loss=\"mse\", metrics=[\"accuracy\"])\n",
    "\n",
    "# y_new = m[3].forward(m[2].forward(m[1].forward(X)))\n",
    "\n",
    "# y_hat = m.fit(X, y)\n",
    "# print(y_hat.max(), y_hat.min())\n",
    "# assert y_hat.shape == y.shape\n",
    "# assert np.allclose(y_hat, y_new)\n",
    "\n",
    "# m.fit(X, y, epochs=20, verbose=1, lr=0.1)"
   ]
  },
  {
   "cell_type": "code",
   "execution_count": 5,
   "metadata": {},
   "outputs": [],
   "source": [
    "m.fit(X, y, epochs=100, verbose=0, lr=0.1)"
   ]
  },
  {
   "cell_type": "code",
   "execution_count": 7,
   "metadata": {},
   "outputs": [],
   "source": [
    "# m[-1].output"
   ]
  },
  {
   "cell_type": "code",
   "execution_count": 28,
   "metadata": {},
   "outputs": [
    {
     "data": {
      "text/plain": [
       "((1, 569), 0.6274171258721395, 0.6274161781975626)"
      ]
     },
     "execution_count": 28,
     "metadata": {},
     "output_type": "execute_result"
    }
   ],
   "source": [
    "y_hat = m[-1].output\n",
    "y_hat.shape, y_hat.max(), y_hat.min()"
   ]
  },
  {
   "cell_type": "markdown",
   "metadata": {},
   "source": []
  },
  {
   "attachments": {},
   "cell_type": "markdown",
   "metadata": {},
   "source": [
    "## Regression"
   ]
  },
  {
   "cell_type": "code",
   "execution_count": 5,
   "metadata": {},
   "outputs": [
    {
     "name": "stdout",
     "output_type": "stream",
     "text": [
      "(1, 200) (10, 200) 0.8837480062988694 -0.8656949895270739\n",
      "Model: my_model\n",
      "_________________________________________________________________________________________\n",
      "Name           # Neurons  Weight Shapes    Bias Shapes      # Parameters  Output Shapes\n",
      "-----------  -----------  ---------------  -------------  --------------  ---------------\n",
      "First Input           10  (0, 0)           (0, 0)                      0  (10,)\n",
      "Dense 1               20  (20, 10)         (20, 1)                   220  (20,)\n",
      "Dense A               10  (10, 20)         (10, 1)                   210  (10,)\n",
      "Dense C                8  (8, 10)          (8, 1)                     88  (8,)\n",
      "Dense Z                1  (1, 8)           (1, 1)                      9  (1,)\n",
      "=========================================================================================\n",
      "Total Parameters: 527\n",
      "_________________________________________________________________________________________\n"
     ]
    }
   ],
   "source": [
    "from model import Sequential\n",
    "from layers import Input, Dense\n",
    "import numpy as np\n",
    "from sklearn.datasets import make_regression\n",
    "\n",
    "X, y = make_regression(n_samples=200, n_features=10, n_targets=1)\n",
    "X = X.T\n",
    "X = X / np.linalg.norm(X, axis=0)\n",
    "y = y.reshape(1, -1)\n",
    "\n",
    "print(y.shape, X.shape, X.max(), X.min())\n",
    "\n",
    "nx, m = X.shape\n",
    "ny = 1\n",
    "\n",
    "\n",
    "m = Sequential(\"my_model\")\n",
    "inp = Input((nx,), name=\"First Input\")\n",
    "dense = Dense(20, activation=\"sigmoid\", name=\"Dense 1\")\n",
    "m.add(inp)\n",
    "m.add(dense)\n",
    "m.add(Dense(10, name=\"Dense A\", activation=\"sigmoid\"))\n",
    "m.add(Dense(8, name=\"Dense C\", activation=\"sigmoid\"))\n",
    "m.add(Dense(ny, name=\"Dense Z\", activation=\"linear\"))\n",
    "\n",
    "m.summary()\n",
    "\n",
    "m.compile(loss=\"mse\", metrics=[\"mse\"])"
   ]
  },
  {
   "cell_type": "code",
   "execution_count": 4,
   "metadata": {},
   "outputs": [
    {
     "name": "stdout",
     "output_type": "stream",
     "text": [
      "Epoch 1/10 | Loss: 19372.7614 | MeanSquaredError: 19755.3802 | \n",
      "Epoch 2/10 | Loss: 19372.7569 | MeanSquaredError: 19755.3802 | \n",
      "Epoch 3/10 | Loss: 19372.7519 | MeanSquaredError: 19755.3802 | \n",
      "Epoch 4/10 | Loss: 19372.7466 | MeanSquaredError: 19755.3802 | \n",
      "Epoch 5/10 | Loss: 19372.7409 | MeanSquaredError: 19755.3802 | \n",
      "Epoch 6/10 | Loss: 19372.7346 | MeanSquaredError: 19755.3802 | \n",
      "Epoch 7/10 | Loss: 19372.7278 | MeanSquaredError: 19755.3802 | \n",
      "Epoch 8/10 | Loss: 19372.7204 | MeanSquaredError: 19755.3802 | \n",
      "Epoch 9/10 | Loss: 19372.7122 | MeanSquaredError: 19755.3802 | \n",
      "Epoch 10/10 | Loss: 19372.7032 | MeanSquaredError: 19755.3802 | \n"
     ]
    }
   ],
   "source": [
    "m.fit(X, y, epochs=10, verbose=1, lr=0.2)"
   ]
  },
  {
   "cell_type": "code",
   "execution_count": null,
   "metadata": {},
   "outputs": [
    {
     "data": {
      "text/plain": [
       "((1, 569), 0.6274171258721395, 0.6274161781975626)"
      ]
     },
     "metadata": {},
     "output_type": "display_data"
    }
   ],
   "source": [
    "y_hat = m[-1].output\n",
    "y_hat.shape, y_hat.max(), y_hat.min()"
   ]
  },
  {
   "attachments": {},
   "cell_type": "markdown",
   "metadata": {},
   "source": [
    "## TF"
   ]
  },
  {
   "cell_type": "code",
   "execution_count": 3,
   "metadata": {},
   "outputs": [],
   "source": [
    "import tensorflow as tf\n",
    "import tensorflow.keras.layers as tfl\n",
    "from sklearn.datasets import load_breast_cancer\n",
    "import numpy as np"
   ]
  },
  {
   "cell_type": "code",
   "execution_count": 4,
   "metadata": {},
   "outputs": [
    {
     "name": "stdout",
     "output_type": "stream",
     "text": [
      "(569,) (569, 30) 0.37819872490192075 0.0\n"
     ]
    }
   ],
   "source": [
    "X, y = load_breast_cancer(return_X_y=True)\n",
    "# X = X.T\n",
    "X = X / np.linalg.norm(X, axis=0)\n",
    "# y = y.reshape(1, -1)\n",
    "print(y.shape, X.shape, X.max(), X.min())"
   ]
  },
  {
   "cell_type": "code",
   "execution_count": 10,
   "metadata": {},
   "outputs": [
    {
     "name": "stdout",
     "output_type": "stream",
     "text": [
      "Model: \"sequential_1\"\n",
      "_________________________________________________________________\n",
      " Layer (type)                Output Shape              Param #   \n",
      "=================================================================\n",
      " dense_4 (Dense)             (None, 20)                620       \n",
      "                                                                 \n",
      " dense_5 (Dense)             (None, 10)                210       \n",
      "                                                                 \n",
      " dense_6 (Dense)             (None, 8)                 88        \n",
      "                                                                 \n",
      " dense_7 (Dense)             (None, 1)                 9         \n",
      "                                                                 \n",
      "=================================================================\n",
      "Total params: 927\n",
      "Trainable params: 927\n",
      "Non-trainable params: 0\n",
      "_________________________________________________________________\n"
     ]
    }
   ],
   "source": [
    "model = tf.keras.Sequential()\n",
    "model.add(tfl.Dense(20, input_shape=(30,)))\n",
    "model.add(tfl.Dense(10))\n",
    "model.add(tfl.Dense(8))\n",
    "model.add(tfl.Dense(1, activation=\"sigmoid\"))\n",
    "\n",
    "model.summary()"
   ]
  },
  {
   "cell_type": "code",
   "execution_count": 11,
   "metadata": {},
   "outputs": [],
   "source": [
    "model.compile(loss=\"mse\", optimizer=tf.optimizers.SGD(learning_rate=0.1), metrics=[\"accuracy\"])"
   ]
  },
  {
   "cell_type": "code",
   "execution_count": 12,
   "metadata": {},
   "outputs": [
    {
     "name": "stdout",
     "output_type": "stream",
     "text": [
      "Epoch 1/20\n",
      "18/18 [==============================] - 1s 4ms/step - loss: 0.2441 - accuracy: 0.6257\n",
      "Epoch 2/20\n",
      "18/18 [==============================] - 0s 4ms/step - loss: 0.2386 - accuracy: 0.6274\n",
      "Epoch 3/20\n",
      "18/18 [==============================] - 0s 4ms/step - loss: 0.2365 - accuracy: 0.6274\n",
      "Epoch 4/20\n",
      "18/18 [==============================] - 0s 5ms/step - loss: 0.2349 - accuracy: 0.6274\n",
      "Epoch 5/20\n",
      "18/18 [==============================] - 0s 5ms/step - loss: 0.2329 - accuracy: 0.6274\n",
      "Epoch 6/20\n",
      "18/18 [==============================] - 0s 5ms/step - loss: 0.2318 - accuracy: 0.6274\n",
      "Epoch 7/20\n",
      "18/18 [==============================] - 0s 5ms/step - loss: 0.2303 - accuracy: 0.6274\n",
      "Epoch 8/20\n",
      "18/18 [==============================] - 0s 4ms/step - loss: 0.2277 - accuracy: 0.6274\n",
      "Epoch 9/20\n",
      "18/18 [==============================] - 0s 5ms/step - loss: 0.2260 - accuracy: 0.6274\n",
      "Epoch 10/20\n",
      "18/18 [==============================] - 0s 5ms/step - loss: 0.2238 - accuracy: 0.6274\n",
      "Epoch 11/20\n",
      "18/18 [==============================] - 0s 5ms/step - loss: 0.2211 - accuracy: 0.6309\n",
      "Epoch 12/20\n",
      "18/18 [==============================] - 0s 4ms/step - loss: 0.2192 - accuracy: 0.6327\n",
      "Epoch 13/20\n",
      "18/18 [==============================] - 0s 5ms/step - loss: 0.2164 - accuracy: 0.6327\n",
      "Epoch 14/20\n",
      "18/18 [==============================] - 0s 5ms/step - loss: 0.2119 - accuracy: 0.6327\n",
      "Epoch 15/20\n",
      "18/18 [==============================] - 0s 5ms/step - loss: 0.2081 - accuracy: 0.6380\n",
      "Epoch 16/20\n",
      "18/18 [==============================] - 0s 6ms/step - loss: 0.2027 - accuracy: 0.6696\n",
      "Epoch 17/20\n",
      "18/18 [==============================] - 0s 6ms/step - loss: 0.1995 - accuracy: 0.6731\n",
      "Epoch 18/20\n",
      "18/18 [==============================] - 0s 6ms/step - loss: 0.1917 - accuracy: 0.7047\n",
      "Epoch 19/20\n",
      "18/18 [==============================] - 0s 6ms/step - loss: 0.1839 - accuracy: 0.7293\n",
      "Epoch 20/20\n",
      "18/18 [==============================] - 0s 5ms/step - loss: 0.1762 - accuracy: 0.7522\n"
     ]
    },
    {
     "data": {
      "text/plain": [
       "<keras.callbacks.History at 0x7f48b84aaf40>"
      ]
     },
     "execution_count": 12,
     "metadata": {},
     "output_type": "execute_result"
    }
   ],
   "source": [
    "model.fit(X, y, epochs=20, verbose=1)"
   ]
  },
  {
   "cell_type": "code",
   "execution_count": 13,
   "metadata": {},
   "outputs": [
    {
     "name": "stdout",
     "output_type": "stream",
     "text": [
      "(1, 569) (30, 569) 0.9212432903035124 0.0\n",
      "Model: my_model\n",
      "_________________________________________________________________________________________\n",
      "Name           # Neurons  Weight Shapes    Bias Shapes      # Parameters  Output Shapes\n",
      "-----------  -----------  ---------------  -------------  --------------  ---------------\n",
      "First Input           30  (0, 0)           (0, 0)                      0  (30,)\n",
      "Dense 1               20  (20, 30)         (20, 1)                   620  (20,)\n",
      "Dense A               10  (10, 20)         (10, 1)                   210  (10,)\n",
      "Dense C                8  (8, 10)          (8, 1)                     88  (8,)\n",
      "Dense Z                1  (1, 8)           (1, 1)                      9  (1,)\n",
      "=========================================================================================\n",
      "Total Parameters: 927\n",
      "_________________________________________________________________________________________\n",
      "Epoch 1/20 | Loss: 0.1246 | Accuracy: 0.3726 | \n",
      "Epoch 2/20 | Loss: 0.1243 | Accuracy: 0.3726 | \n",
      "Epoch 3/20 | Loss: 0.1240 | Accuracy: 0.3726 | \n",
      "Epoch 4/20 | Loss: 0.1238 | Accuracy: 0.3726 | \n",
      "Epoch 5/20 | Loss: 0.1235 | Accuracy: 0.3726 | \n",
      "Epoch 6/20 | Loss: 0.1232 | Accuracy: 0.3726 | \n",
      "Epoch 7/20 | Loss: 0.1230 | Accuracy: 0.3726 | \n",
      "Epoch 8/20 | Loss: 0.1228 | Accuracy: 0.3726 | \n",
      "Epoch 9/20 | Loss: 0.1225 | Accuracy: 0.3726 | \n",
      "Epoch 10/20 | Loss: 0.1223 | Accuracy: 0.3726 | \n",
      "Epoch 11/20 | Loss: 0.1221 | Accuracy: 0.3726 | \n",
      "Epoch 12/20 | Loss: 0.1219 | Accuracy: 0.3726 | \n",
      "Epoch 13/20 | Loss: 0.1217 | Accuracy: 0.3726 | \n",
      "Epoch 14/20 | Loss: 0.1216 | Accuracy: 0.3726 | \n",
      "Epoch 15/20 | Loss: 0.1214 | Accuracy: 0.3726 | \n",
      "Epoch 16/20 | Loss: 0.1212 | Accuracy: 0.3726 | \n",
      "Epoch 17/20 | Loss: 0.1210 | Accuracy: 0.3726 | \n",
      "Epoch 18/20 | Loss: 0.1209 | Accuracy: 0.3726 | \n",
      "Epoch 19/20 | Loss: 0.1207 | Accuracy: 0.3726 | \n",
      "Epoch 20/20 | Loss: 0.1206 | Accuracy: 0.3726 | \n"
     ]
    }
   ],
   "source": [
    "from model import Sequential\n",
    "from layers import Input, Dense\n",
    "import numpy as np\n",
    "from sklearn.datasets import load_breast_cancer\n",
    "\n",
    "# nx, m = 10, 1000\n",
    "# ny = 1\n",
    "# X = np.random.randn(nx, m)\n",
    "# X = X / np.linalg.norm(X, axis=0)\n",
    "# y_label = np.random.randint(0, ny + 1, (1, m))\n",
    "\n",
    "X, y = load_breast_cancer(return_X_y=True)\n",
    "X = X.T\n",
    "X = X / np.linalg.norm(X, axis=0)\n",
    "y = y.reshape(1, -1)\n",
    "\n",
    "print(y.shape, X.shape, X.max(), X.min())\n",
    "\n",
    "nx, m = X.shape\n",
    "ny = 1\n",
    "\n",
    "# def one_hot(y_label, classes):\n",
    "#     y = np.zeros((classes, y_label.shape[1]))\n",
    "#     for i in range(y_label.shape[1]):\n",
    "#         y[y_label[0, i], i] = 1\n",
    "#     return y\n",
    "\n",
    "\n",
    "# Y = one_hot(y_label, ny)\n",
    "\n",
    "m = Sequential(\"my_model\")\n",
    "inp = Input((nx,), name=\"First Input\")\n",
    "dense = Dense(20, activation=\"sigmoid\", name=\"Dense 1\")\n",
    "m.add(inp)\n",
    "m.add(dense)\n",
    "m.add(Dense(10, name=\"Dense A\", activation=\"sigmoid\"))\n",
    "m.add(Dense(8, name=\"Dense C\", activation=\"sigmoid\"))\n",
    "m.add(Dense(ny, name=\"Dense Z\", activation=\"sigmoid\"))\n",
    "\n",
    "m.summary()\n",
    "\n",
    "# m.compile(loss=\"binary_cross_entropy\", metrics=[\"accuracy\"])\n",
    "m.compile(loss=\"mse\", metrics=[\"accuracy\"])\n",
    "\n",
    "# y_new = m[3].forward(m[2].forward(m[1].forward(X)))\n",
    "\n",
    "# y_hat = m.fit(X, y)\n",
    "# print(y_hat.max(), y_hat.min())\n",
    "# assert y_hat.shape == y.shape\n",
    "# assert np.allclose(y_hat, y_new)\n",
    "\n",
    "m.fit(X, y, epochs=20, verbose=1, lr=0.1)\n"
   ]
  },
  {
   "cell_type": "code",
   "execution_count": 15,
   "metadata": {},
   "outputs": [
    {
     "data": {
      "text/plain": [
       "(0.542861377938804, 0.5428613852025095, 0.5428613719099329)"
      ]
     },
     "execution_count": 15,
     "metadata": {},
     "output_type": "execute_result"
    }
   ],
   "source": [
    "y_pred = m.predict(X)\n",
    "y_pred.mean(), y_pred.max(), y_pred.min()"
   ]
  },
  {
   "cell_type": "code",
   "execution_count": null,
   "metadata": {},
   "outputs": [],
   "source": []
  },
  {
   "attachments": {},
   "cell_type": "markdown",
   "metadata": {},
   "source": [
    "## Others"
   ]
  },
  {
   "cell_type": "code",
   "execution_count": 11,
   "metadata": {},
   "outputs": [],
   "source": [
    "from activations import Sigmoid\n",
    "import matplotlib.pyplot as plt"
   ]
  },
  {
   "cell_type": "code",
   "execution_count": 12,
   "metadata": {},
   "outputs": [],
   "source": [
    "sigma = Sigmoid()"
   ]
  },
  {
   "cell_type": "code",
   "execution_count": 13,
   "metadata": {},
   "outputs": [],
   "source": [
    "x = np.linspace(-10, 10, 100)\n",
    "a = sigma(x)"
   ]
  },
  {
   "cell_type": "code",
   "execution_count": 14,
   "metadata": {},
   "outputs": [
    {
     "data": {
      "text/plain": [
       "[<matplotlib.lines.Line2D at 0x7f79f67a0df0>]"
      ]
     },
     "execution_count": 14,
     "metadata": {},
     "output_type": "execute_result"
    },
    {
     "data": {
      "image/png": "[encoded data removed]",
      "text/plain": [
       "<Figure size 640x480 with 1 Axes>"
      ]
     },
     "metadata": {},
     "output_type": "display_data"
    }
   ],
   "source": [
    "plt.plot(x, a)"
   ]
  },
  {
   "cell_type": "code",
   "execution_count": 24,
   "metadata": {},
   "outputs": [
    {
     "data": {
      "text/plain": [
       "((1, 2), (2, 2))"
      ]
     },
     "execution_count": 24,
     "metadata": {},
     "output_type": "execute_result"
    }
   ],
   "source": [
    "A = np.array([[1,2]])\n",
    "B = np.array([[1,2], [2, 1]])\n",
    "A.shape, B.shape"
   ]
  },
  {
   "cell_type": "code",
   "execution_count": 2,
   "metadata": {},
   "outputs": [],
   "source": [
    "import numpy as np"
   ]
  },
  {
   "cell_type": "code",
   "execution_count": 19,
   "metadata": {},
   "outputs": [],
   "source": [
    "def derivative(input: np.ndarray) -> np.ndarray:\n",
    "    temp1 = np.zeros(\n",
    "        (input.shape[0], input.shape[1]), dtype=np.float32\n",
    "    )\n",
    "    ny, m = input.shape\n",
    "    for i in range(m):\n",
    "        temp = np.zeros((ny, 1), dtype=np.float32)\n",
    "        sample = input[:, i]\n",
    "        # temp1[:, :, i] = np.outer(input[i], input[i])\n",
    "        for row in range(ny):\n",
    "            col_value = 0\n",
    "            for col in range(ny):\n",
    "                if row == col:\n",
    "                    col_value+=sample[row]*(1-sample[row])\n",
    "                else:\n",
    "                    col_value += -sample[row]*sample[col]\n",
    "            temp[row] = col_value\n",
    "        # print(temp.shape)\n",
    "        # print(temp1[:, i].shape)\n",
    "        temp1[:, i] = temp.squeeze()\n",
    "    return temp1"
   ]
  },
  {
   "cell_type": "code",
   "execution_count": 20,
   "metadata": {},
   "outputs": [],
   "source": [
    "m = 100\n",
    "ny = 10\n",
    "\n",
    "output = np.random.randn(ny, m)\n",
    "diff = derivative(output)\n",
    "assert diff.shape == output.shape"
   ]
  },
  {
   "cell_type": "code",
   "execution_count": 22,
   "metadata": {},
   "outputs": [
    {
     "data": {
      "text/plain": [
       "(10, 100)"
      ]
     },
     "execution_count": 22,
     "metadata": {},
     "output_type": "execute_result"
    }
   ],
   "source": [
    "diff.shape"
   ]
  },
  {
   "cell_type": "code",
   "execution_count": 30,
   "metadata": {},
   "outputs": [
    {
     "ename": "ValueError",
     "evalue": "shapes (10,1) and (100,8) not aligned: 1 (dim 1) != 100 (dim 0)",
     "output_type": "error",
     "traceback": [
      "\u001b[0;31m---------------------------------------------------------------------------\u001b[0m",
      "\u001b[0;31mValueError\u001b[0m                                Traceback (most recent call last)",
      "Cell \u001b[0;32mIn[30], line 6\u001b[0m\n\u001b[1;32m      3\u001b[0m A \u001b[39m=\u001b[39m np\u001b[39m.\u001b[39mrandom\u001b[39m.\u001b[39mrand(nl, \u001b[39m1\u001b[39m)\n\u001b[1;32m      4\u001b[0m B \u001b[39m=\u001b[39m np\u001b[39m.\u001b[39mrandom\u001b[39m.\u001b[39mrand(nl_prev, \u001b[39m100\u001b[39m)\n\u001b[0;32m----> 6\u001b[0m np\u001b[39m.\u001b[39;49mdot(A, B\u001b[39m.\u001b[39;49mT)\n",
      "File \u001b[0;32m<__array_function__ internals>:180\u001b[0m, in \u001b[0;36mdot\u001b[0;34m(*args, **kwargs)\u001b[0m\n",
      "\u001b[0;31mValueError\u001b[0m: shapes (10,1) and (100,8) not aligned: 1 (dim 1) != 100 (dim 0)"
     ]
    }
   ],
   "source": [
    "nl = 10\n",
    "nl_prev = 8\n",
    "A = np.random.rand(nl, 1)\n",
    "B = np.random.rand(nl_prev, 100)\n",
    "\n",
    "np.dot(A, B.T)"
   ]
  },
  {
   "cell_type": "code",
   "execution_count": 31,
   "metadata": {},
   "outputs": [
    {
     "name": "stderr",
     "output_type": "stream",
     "text": [
      "/tmp/ipykernel_41029/2385473660.py:1: VisibleDeprecationWarning: Creating an ndarray from ragged nested sequences (which is a list-or-tuple of lists-or-tuples-or ndarrays with different lengths or shapes) is deprecated. If you meant to do this, you must specify 'dtype=object' when creating the ndarray.\n",
      "  A_prev = np.array([[0.5, 0.5, 0.5, ..., 0.5, 0.5, 0.5],\n"
     ]
    }
   ],
   "source": [
    "A_prev = np.array([[0.5, 0.5, 0.5, ..., 0.5, 0.5, 0.5],\n",
    "       [0.5, 0.5, 0.5, ..., 0.5, 0.5, 0.5],\n",
    "       [0.5, 0.5, 0.5, ..., 0.5, 0.5, 0.5],\n",
    "       ...,\n",
    "       [0.5, 0.5, 0.5, ..., 0.5, 0.5, 0.5],\n",
    "       [0.5, 0.5, 0.5, ..., 0.5, 0.5, 0.5],\n",
    "       [0.5, 0.5, 0.5, ..., 0.5, 0.5, 0.5]])"
   ]
  },
  {
   "cell_type": "code",
   "execution_count": 33,
   "metadata": {},
   "outputs": [
    {
     "data": {
      "text/plain": [
       "(7,)"
      ]
     },
     "execution_count": 33,
     "metadata": {},
     "output_type": "execute_result"
    }
   ],
   "source": [
    "A_prev"
   ]
  },
  {
   "cell_type": "code",
   "execution_count": 35,
   "metadata": {},
   "outputs": [],
   "source": [
    "A_Prev = np.array([[0.5, 0.5, 0.5, 0.5, 0.5, 0.5, 0.5, 0.5, 0.5, 0.5, 0.5, 0.5, 0.5,\n",
    "        0.5, 0.5, 0.5, 0.5, 0.5, 0.5, 0.5, 0.5, 0.5, 0.5, 0.5, 0.5, 0.5,\n",
    "        0.5, 0.5, 0.5, 0.5, 0.5, 0.5, 0.5, 0.5, 0.5, 0.5, 0.5, 0.5, 0.5,\n",
    "        0.5, 0.5, 0.5, 0.5, 0.5, 0.5, 0.5, 0.5, 0.5, 0.5, 0.5],\n",
    "       [0.5, 0.5, 0.5, 0.5, 0.5, 0.5, 0.5, 0.5, 0.5, 0.5, 0.5, 0.5, 0.5,\n",
    "        0.5, 0.5, 0.5, 0.5, 0.5, 0.5, 0.5, 0.5, 0.5, 0.5, 0.5, 0.5, 0.5,\n",
    "        0.5, 0.5, 0.5, 0.5, 0.5, 0.5, 0.5, 0.5, 0.5, 0.5, 0.5, 0.5, 0.5,\n",
    "        0.5, 0.5, 0.5, 0.5, 0.5, 0.5, 0.5, 0.5, 0.5, 0.5, 0.5],\n",
    "       [0.5, 0.5, 0.5, 0.5, 0.5, 0.5, 0.5, 0.5, 0.5, 0.5, 0.5, 0.5, 0.5,\n",
    "        0.5, 0.5, 0.5, 0.5, 0.5, 0.5, 0.5, 0.5, 0.5, 0.5, 0.5, 0.5, 0.5,\n",
    "        0.5, 0.5, 0.5, 0.5, 0.5, 0.5, 0.5, 0.5, 0.5, 0.5, 0.5, 0.5, 0.5,\n",
    "        0.5, 0.5, 0.5, 0.5, 0.5, 0.5, 0.5, 0.5, 0.5, 0.5, 0.5],\n",
    "       [0.5, 0.5, 0.5, 0.5, 0.5, 0.5, 0.5, 0.5, 0.5, 0.5, 0.5, 0.5, 0.5,\n",
    "        0.5, 0.5, 0.5, 0.5, 0.5, 0.5, 0.5, 0.5, 0.5, 0.5, 0.5, 0.5, 0.5,\n",
    "        0.5, 0.5, 0.5, 0.5, 0.5, 0.5, 0.5, 0.5, 0.5, 0.5, 0.5, 0.5, 0.5,\n",
    "        0.5, 0.5, 0.5, 0.5, 0.5, 0.5, 0.5, 0.5, 0.5, 0.5, 0.5],\n",
    "       [0.5, 0.5, 0.5, 0.5, 0.5, 0.5, 0.5, 0.5, 0.5, 0.5, 0.5, 0.5, 0.5,\n",
    "        0.5, 0.5, 0.5, 0.5, 0.5, 0.5, 0.5, 0.5, 0.5, 0.5, 0.5, 0.5, 0.5,\n",
    "        0.5, 0.5, 0.5, 0.5, 0.5, 0.5, 0.5, 0.5, 0.5, 0.5, 0.5, 0.5, 0.5,\n",
    "        0.5, 0.5, 0.5, 0.5, 0.5, 0.5, 0.5, 0.5, 0.5, 0.5, 0.5],\n",
    "       [0.5, 0.5, 0.5, 0.5, 0.5, 0.5, 0.5, 0.5, 0.5, 0.5, 0.5, 0.5, 0.5,\n",
    "        0.5, 0.5, 0.5, 0.5, 0.5, 0.5, 0.5, 0.5, 0.5, 0.5, 0.5, 0.5, 0.5,\n",
    "        0.5, 0.5, 0.5, 0.5, 0.5, 0.5, 0.5, 0.5, 0.5, 0.5, 0.5, 0.5, 0.5,\n",
    "        0.5, 0.5, 0.5, 0.5, 0.5, 0.5, 0.5, 0.5, 0.5, 0.5, 0.5],\n",
    "       [0.5, 0.5, 0.5, 0.5, 0.5, 0.5, 0.5, 0.5, 0.5, 0.5, 0.5, 0.5, 0.5,\n",
    "        0.5, 0.5, 0.5, 0.5, 0.5, 0.5, 0.5, 0.5, 0.5, 0.5, 0.5, 0.5, 0.5,\n",
    "        0.5, 0.5, 0.5, 0.5, 0.5, 0.5, 0.5, 0.5, 0.5, 0.5, 0.5, 0.5, 0.5,\n",
    "        0.5, 0.5, 0.5, 0.5, 0.5, 0.5, 0.5, 0.5, 0.5, 0.5, 0.5],\n",
    "       [0.5, 0.5, 0.5, 0.5, 0.5, 0.5, 0.5, 0.5, 0.5, 0.5, 0.5, 0.5, 0.5,\n",
    "        0.5, 0.5, 0.5, 0.5, 0.5, 0.5, 0.5, 0.5, 0.5, 0.5, 0.5, 0.5, 0.5,\n",
    "        0.5, 0.5, 0.5, 0.5, 0.5, 0.5, 0.5, 0.5, 0.5, 0.5, 0.5, 0.5, 0.5,\n",
    "        0.5, 0.5, 0.5, 0.5, 0.5, 0.5, 0.5, 0.5, 0.5, 0.5, 0.5]])"
   ]
  },
  {
   "cell_type": "code",
   "execution_count": 36,
   "metadata": {},
   "outputs": [],
   "source": [
    "delta_l = np.array([[ 0.01,  0.01,  0.01,  0.01,  0.01,  0.01,  0.01,  0.01,  0.01,\n",
    "         0.01,  0.01,  0.01,  0.01,  0.01,  0.01,  0.01,  0.01,  0.01,\n",
    "         0.01, -0.01, -0.01, -0.01,  0.01,  0.01,  0.01,  0.01,  0.01,\n",
    "         0.01,  0.01,  0.01,  0.01,  0.01,  0.01,  0.01,  0.01,  0.01,\n",
    "         0.01, -0.01,  0.01,  0.01,  0.01,  0.01,  0.01,  0.01,  0.01,\n",
    "         0.01, -0.01,  0.01, -0.01, -0.01]])"
   ]
  },
  {
   "cell_type": "code",
   "execution_count": 45,
   "metadata": {},
   "outputs": [
    {
     "data": {
      "text/plain": [
       "((1, 50), (8, 50))"
      ]
     },
     "execution_count": 45,
     "metadata": {},
     "output_type": "execute_result"
    }
   ],
   "source": [
    "delta_l.shape, A_Prev.shape"
   ]
  },
  {
   "cell_type": "code",
   "execution_count": 49,
   "metadata": {},
   "outputs": [
    {
     "data": {
      "text/plain": [
       "(50, 8)"
      ]
     },
     "execution_count": 49,
     "metadata": {},
     "output_type": "execute_result"
    }
   ],
   "source": [
    "res = (A_Prev*delta_l).T\n",
    "res.shape"
   ]
  },
  {
   "cell_type": "code",
   "execution_count": 55,
   "metadata": {},
   "outputs": [
    {
     "data": {
      "text/plain": [
       "(50,)"
      ]
     },
     "execution_count": 55,
     "metadata": {},
     "output_type": "execute_result"
    }
   ],
   "source": [
    "res[:, 1].shape"
   ]
  },
  {
   "cell_type": "code",
   "execution_count": 50,
   "metadata": {},
   "outputs": [
    {
     "data": {
      "text/plain": [
       "array([0.18, 0.18, 0.18, 0.18, 0.18, 0.18, 0.18, 0.18])"
      ]
     },
     "execution_count": 50,
     "metadata": {},
     "output_type": "execute_result"
    }
   ],
   "source": [
    "np.sum(res, axis = 0)"
   ]
  },
  {
   "cell_type": "code",
   "execution_count": 41,
   "metadata": {},
   "outputs": [
    {
     "data": {
      "text/plain": [
       "array([[0.18, 0.18, 0.18, 0.18, 0.18, 0.18, 0.18, 0.18]])"
      ]
     },
     "execution_count": 41,
     "metadata": {},
     "output_type": "execute_result"
    }
   ],
   "source": [
    "np.dot( delta_l, A_Prev.T)"
   ]
  },
  {
   "cell_type": "code",
   "execution_count": 1,
   "metadata": {},
   "outputs": [],
   "source": [
    "import numpy as np"
   ]
  },
  {
   "cell_type": "code",
   "execution_count": 2,
   "metadata": {},
   "outputs": [
    {
     "data": {
      "text/plain": [
       "array([[0.34729104, 0.88216545, 0.20821903],\n",
       "       [0.88824091, 0.63535394, 0.79179218]])"
      ]
     },
     "execution_count": 2,
     "metadata": {},
     "output_type": "execute_result"
    }
   ],
   "source": [
    "np.random.random((2, 3))"
   ]
  },
  {
   "attachments": {},
   "cell_type": "markdown",
   "metadata": {},
   "source": [
    "## Fashion"
   ]
  },
  {
   "cell_type": "code",
   "execution_count": 4,
   "metadata": {},
   "outputs": [],
   "source": [
    "import pandas as pd\n",
    "from utils import one_hot\n",
    "import numpy as np\n",
    "from model import Sequential\n",
    "from layers import Dense, Input\n",
    "import matplotlib.pyplot as plt"
   ]
  },
  {
   "cell_type": "code",
   "execution_count": 2,
   "metadata": {},
   "outputs": [
    {
     "name": "stdout",
     "output_type": "stream",
     "text": [
      "Model: my_model\n",
      "_________________________________________________________________________________________\n",
      "Name           # Neurons  Weight Shapes    Bias Shapes      # Parameters  Output Shapes\n",
      "-----------  -----------  ---------------  -------------  --------------  ---------------\n",
      "First Input          784  (0, 0)           (0, 0)                      0  (784,)\n",
      "Dense 1               20  (20, 784)        (20, 1)                 15700  (20,)\n",
      "Dense A               10  (10, 20)         (10, 1)                   210  (10,)\n",
      "Dense C                8  (8, 10)          (8, 1)                     88  (8,)\n",
      "Dense Z                1  (1, 8)           (1, 1)                      9  (1,)\n",
      "=========================================================================================\n",
      "Total Parameters: 16007\n",
      "_________________________________________________________________________________________\n",
      "Epoch 0100/0100 | Loss: 0.03339 | Accuracy: 0.98650 | Precision: 0.99795 | \n"
     ]
    }
   ],
   "source": [
    "fashion = pd.read_csv('../../fashion-mnist_train.csv')\n",
    "classes = (0,1)\n",
    "X = fashion.iloc[:, 1:].values\n",
    "y = fashion.iloc[:, 0].values\n",
    "\n",
    "y_1ids = np.where(y == classes[0])[0]\n",
    "y_2ids = np.where(y == classes[1])[0]\n",
    "\n",
    "y_final = np.concatenate((y_1ids, y_2ids))\n",
    "X_final = X[y_final]\n",
    "y_final = y[y_final]\n",
    "y_final = (y_final == classes[0]).astype(int)\n",
    "y = np.reshape(y_final, (1, -1))\n",
    "\n",
    "X = X_final.T\n",
    "X = X / X.max()\n",
    "nx, _ = X.shape\n",
    "ny = 1\n",
    "\n",
    "model = Sequential(\"my_model\")\n",
    "inp = Input((nx,), name=\"First Input\")\n",
    "dense = Dense(20, activation=\"tanh\", name=\"Dense 1\")\n",
    "model.add(inp)\n",
    "model.add(dense)\n",
    "model.add(Dense(10, name=\"Dense A\", activation=\"tanh\"))\n",
    "model.add(Dense(8, name=\"Dense C\", activation=\"tanh\"))\n",
    "model.add(Dense(ny, name=\"Dense Z\", activation=\"sigmoid\"))\n",
    "\n",
    "model.summary()\n",
    "\n",
    "model.compile(\n",
    "    loss=\"binary_cross_entropy\",\n",
    "    metrics=[\"accuracy\", \"precision\"],\n",
    "    initializer=\"glorot\",\n",
    ")\n",
    "\n",
    "history = model.fit(X, y, epochs=100, lr=0.01, batch_size=32, verbose=1)"
   ]
  },
  {
   "cell_type": "code",
   "execution_count": 10,
   "metadata": {},
   "outputs": [
    {
     "data": {
      "image/png": "[encoded data removed]",
      "text/plain": [
       "<Figure size 500x1500 with 3 Axes>"
      ]
     },
     "metadata": {},
     "output_type": "display_data"
    }
   ],
   "source": [
    "history_df = pd.DataFrame(history)\n",
    "\n",
    "history_df.plot(subplots=True, figsize=(5, 15));"
   ]
  },
  {
   "cell_type": "code",
   "execution_count": 71,
   "metadata": {},
   "outputs": [],
   "source": [
    "y_1ids = np.where(y == 0)[0]\n",
    "y_2ids = np.where(y == 1)[0]\n",
    "y_final = np.concatenate((y_1ids, y_2ids))\n",
    "X_final = X[y_final]\n",
    "y_final = y[y_final]\n",
    "y = np.reshape(y_final, (1, -1))\n",
    "\n",
    "X = X_final.T\n",
    "X = X/X.max()\n",
    "nx, m = X.shape\n",
    "ny = 1"
   ]
  },
  {
   "cell_type": "code",
   "execution_count": 81,
   "metadata": {},
   "outputs": [
    {
     "name": "stdout",
     "output_type": "stream",
     "text": [
      "Model: my_model\n",
      "_________________________________________________________________________________________\n",
      "Name           # Neurons  Weight Shapes    Bias Shapes      # Parameters  Output Shapes\n",
      "-----------  -----------  ---------------  -------------  --------------  ---------------\n",
      "First Input          784  (0, 0)           (0, 0)                      0  (784,)\n",
      "Dense 1               20  (20, 784)        (20, 1)                 15700  (20,)\n",
      "Dense A               10  (10, 20)         (10, 1)                   210  (10,)\n",
      "Dense C                8  (8, 10)          (8, 1)                     88  (8,)\n",
      "Dense Z                1  (1, 8)           (1, 1)                      9  (1,)\n",
      "=========================================================================================\n",
      "Total Parameters: 16007\n",
      "_________________________________________________________________________________________\n"
     ]
    }
   ],
   "source": [
    "model = Sequential(\"my_model\")\n",
    "inp = Input((nx,), name=\"First Input\")\n",
    "dense = Dense(20, activation=\"relu\", name=\"Dense 1\")\n",
    "model.add(inp)\n",
    "model.add(dense)\n",
    "model.add(Dense(10, name=\"Dense A\", activation=\"relu\"))\n",
    "model.add(Dense(8, name=\"Dense C\", activation=\"relu\"))\n",
    "model.add(Dense(ny, name=\"Dense Z\", activation=\"sigmoid\"))\n",
    "\n",
    "model.summary()"
   ]
  },
  {
   "cell_type": "code",
   "execution_count": 87,
   "metadata": {},
   "outputs": [],
   "source": [
    "model.compile(loss=\"binary_cross_entropy\", metrics=[\"accuracy\", \"precision\"], initializer=\"glorot\")"
   ]
  },
  {
   "cell_type": "code",
   "execution_count": 88,
   "metadata": {},
   "outputs": [
    {
     "name": "stdout",
     "output_type": "stream",
     "text": [
      "Epoch 0001/0030 | Loss: 0.02402 | Accuracy: 0.82450 | Precision: 0.74885 | \n",
      "Epoch 0002/0030 | Loss: 0.06507 | Accuracy: 0.89850 | Precision: 0.84669 | \n",
      "Epoch 0003/0030 | Loss: 0.05300 | Accuracy: 0.89350 | Precision: 0.83705 | \n",
      "Epoch 0004/0030 | Loss: 0.03754 | Accuracy: 0.89400 | Precision: 0.83604 | \n",
      "Epoch 0005/0030 | Loss: 0.02367 | Accuracy: 0.89750 | Precision: 0.83759 | \n",
      "Epoch 0006/0030 | Loss: -0.00598 | Accuracy: 0.89650 | Precision: 0.83277 | \n",
      "Epoch 0007/0030 | Loss: -0.03755 | Accuracy: 0.89750 | Precision: 0.83194 | \n",
      "Epoch 0008/0030 | Loss: -0.06586 | Accuracy: 0.90200 | Precision: 0.83711 | \n",
      "Epoch 0009/0030 | Loss: -0.08826 | Accuracy: 0.90600 | Precision: 0.84277 | \n",
      "Epoch 0010/0030 | Loss: -0.10090 | Accuracy: 0.91400 | Precision: 0.85433 | \n",
      "Epoch 0011/0030 | Loss: -0.10545 | Accuracy: 0.92000 | Precision: 0.86320 | \n",
      "Epoch 0012/0030 | Loss: -0.10734 | Accuracy: 0.92200 | Precision: 0.86620 | \n",
      "Epoch 0013/0030 | Loss: -0.10560 | Accuracy: 0.93150 | Precision: 0.88007 | \n",
      "Epoch 0014/0030 | Loss: -0.10097 | Accuracy: 0.93700 | Precision: 0.88869 | \n",
      "Epoch 0015/0030 | Loss: -0.09665 | Accuracy: 0.94100 | Precision: 0.89507 | \n",
      "Epoch 0016/0030 | Loss: -0.09247 | Accuracy: 0.94500 | Precision: 0.90154 | \n",
      "Epoch 0017/0030 | Loss: -0.08889 | Accuracy: 0.94800 | Precision: 0.90719 | \n",
      "Epoch 0018/0030 | Loss: -0.08528 | Accuracy: 0.95050 | Precision: 0.91133 | \n",
      "Epoch 0019/0030 | Loss: -0.08153 | Accuracy: 0.95250 | Precision: 0.91468 | \n",
      "Epoch 0020/0030 | Loss: -0.07816 | Accuracy: 0.95500 | Precision: 0.91889 | \n",
      "Epoch 0021/0030 | Loss: -0.07542 | Accuracy: 0.95600 | Precision: 0.92059 | \n",
      "Epoch 0022/0030 | Loss: -0.07292 | Accuracy: 0.95750 | Precision: 0.92393 | \n",
      "Epoch 0023/0030 | Loss: -0.07053 | Accuracy: 0.95750 | Precision: 0.92393 | \n",
      "Epoch 0024/0030 | Loss: -0.06817 | Accuracy: 0.96000 | Precision: 0.92824 | \n",
      "Epoch 0025/0030 | Loss: -0.06599 | Accuracy: 0.96100 | Precision: 0.92997 | \n",
      "Epoch 0026/0030 | Loss: -0.06411 | Accuracy: 0.96150 | Precision: 0.93084 | \n",
      "Epoch 0027/0030 | Loss: -0.06232 | Accuracy: 0.96250 | Precision: 0.93258 | \n",
      "Epoch 0028/0030 | Loss: -0.06069 | Accuracy: 0.96400 | Precision: 0.93521 | \n",
      "Epoch 0029/0030 | Loss: -0.05896 | Accuracy: 0.96600 | Precision: 0.93874 | \n",
      "Epoch 0030/0030 | Loss: -0.05760 | Accuracy: 0.96700 | Precision: 0.94051 | \n"
     ]
    }
   ],
   "source": [
    "model.fit(X, y, epochs=30, lr=0.01, batch_size=128)"
   ]
  },
  {
   "attachments": {},
   "cell_type": "markdown",
   "metadata": {},
   "source": [
    "## Multiclass"
   ]
  },
  {
   "cell_type": "code",
   "execution_count": null,
   "metadata": {},
   "outputs": [],
   "source": [
    "import pandas as pd\n",
    "from utils import one_hot\n",
    "import numpy as np\n",
    "from model import Sequential\n",
    "from layers import Dense, Input"
   ]
  },
  {
   "cell_type": "code",
   "execution_count": null,
   "metadata": {},
   "outputs": [],
   "source": [
    "fashion = pd.read_csv('../../fashion-mnist_train.csv')\n",
    "X = fashion.iloc[:, 1:].values\n",
    "y = fashion.iloc[:, 0].values\n",
    "X.shape, y.shape"
   ]
  },
  {
   "cell_type": "code",
   "execution_count": 26,
   "metadata": {},
   "outputs": [],
   "source": [
    "y_oh = one_hot(y, 10)"
   ]
  },
  {
   "cell_type": "code",
   "execution_count": 27,
   "metadata": {},
   "outputs": [
    {
     "data": {
      "text/plain": [
       "((30, 569), (10, 569), 0.0, 1.0)"
      ]
     },
     "execution_count": 27,
     "metadata": {},
     "output_type": "execute_result"
    }
   ],
   "source": [
    "X = X.T\n",
    "X = X/X.max()\n",
    "X.shape, y_oh.shape, X.min(), X.max()"
   ]
  },
  {
   "cell_type": "code",
   "execution_count": 6,
   "metadata": {},
   "outputs": [
    {
     "name": "stdout",
     "output_type": "stream",
     "text": [
      "784 10 10000\n"
     ]
    }
   ],
   "source": [
    "nx, m = X.shape\n",
    "ny, m = y_oh.shape\n",
    "print(nx, ny, m)"
   ]
  },
  {
   "cell_type": "code",
   "execution_count": 17,
   "metadata": {},
   "outputs": [
    {
     "data": {
      "text/plain": [
       "True"
      ]
     },
     "execution_count": 17,
     "metadata": {},
     "output_type": "execute_result"
    }
   ],
   "source": [
    "np.alltrue(y_oh.argmax(axis = 0) == y)"
   ]
  },
  {
   "cell_type": "code",
   "execution_count": 7,
   "metadata": {},
   "outputs": [],
   "source": [
    "from model import Sequential\n",
    "from layers import Dense, Input"
   ]
  },
  {
   "cell_type": "code",
   "execution_count": 8,
   "metadata": {},
   "outputs": [
    {
     "name": "stdout",
     "output_type": "stream",
     "text": [
      "Model: my_model\n",
      "_________________________________________________________________________________________\n",
      "Name           # Neurons  Weight Shapes    Bias Shapes      # Parameters  Output Shapes\n",
      "-----------  -----------  ---------------  -------------  --------------  ---------------\n",
      "First Input          784  (0, 0)           (0, 0)                      0  (784,)\n",
      "Dense 1               20  (20, 784)        (20, 1)                 15700  (20,)\n",
      "Dense A               10  (10, 20)         (10, 1)                   210  (10,)\n",
      "Dense C                8  (8, 10)          (8, 1)                     88  (8,)\n",
      "Dense Z               10  (10, 8)          (10, 1)                    90  (10,)\n",
      "=========================================================================================\n",
      "Total Parameters: 16088\n",
      "_________________________________________________________________________________________\n"
     ]
    }
   ],
   "source": [
    "model = Sequential(\"my_model\")\n",
    "inp = Input((nx,), name=\"First Input\")\n",
    "dense = Dense(20, activation=\"tanh\", name=\"Dense 1\")\n",
    "model.add(inp)\n",
    "model.add(dense)\n",
    "model.add(Dense(10, name=\"Dense A\", activation=\"tanh\"))\n",
    "model.add(Dense(8, name=\"Dense C\", activation=\"tanh\"))\n",
    "model.add(Dense(ny, name=\"Dense Z\", activation=\"softmax\"))\n",
    "\n",
    "model.summary()"
   ]
  },
  {
   "cell_type": "code",
   "execution_count": 9,
   "metadata": {},
   "outputs": [],
   "source": [
    "model.compile(loss=\"categorical_cross_entropy\", metrics=[\"accuracy\", \"precision\"], initializer=\"glorot\")"
   ]
  },
  {
   "cell_type": "code",
   "execution_count": 12,
   "metadata": {},
   "outputs": [
    {
     "data": {
      "text/plain": [
       "array([[1., 0., 0., ..., 0., 0., 0.],\n",
       "       [0., 1., 0., ..., 0., 0., 1.],\n",
       "       [0., 0., 1., ..., 0., 0., 0.],\n",
       "       ...,\n",
       "       [0., 0., 0., ..., 0., 0., 0.],\n",
       "       [0., 0., 0., ..., 1., 1., 0.],\n",
       "       [0., 0., 0., ..., 0., 0., 0.]])"
      ]
     },
     "execution_count": 12,
     "metadata": {},
     "output_type": "execute_result"
    }
   ],
   "source": [
    "y_oh"
   ]
  },
  {
   "cell_type": "code",
   "execution_count": 10,
   "metadata": {},
   "outputs": [
    {
     "name": "stdout",
     "output_type": "stream",
     "text": [
      "Epoch    1/  10 | Loss: 2.34757 | Accuracy: 9.00000 | Precision: 0.00000 | \n",
      "Epoch    2/  10 | Loss: 2.33998 | Accuracy: 9.00000 | Precision: 0.00000 | \n",
      "Epoch    3/  10 | Loss: 2.33368 | Accuracy: 9.00000 | Precision: 0.00000 | \n",
      "Epoch    4/  10 | Loss: 2.32829 | Accuracy: 9.00000 | Precision: 0.00000 | \n",
      "Epoch    5/  10 | Loss: 2.32356 | Accuracy: 9.00000 | Precision: 0.00000 | \n",
      "Epoch    6/  10 | Loss: 2.31934 | Accuracy: 9.00000 | Precision: 0.00000 | \n",
      "Epoch    7/  10 | Loss: 2.31555 | Accuracy: 9.00000 | Precision: 0.00000 | \n",
      "Epoch    8/  10 | Loss: 2.31212 | Accuracy: 9.00000 | Precision: 0.00000 | \n",
      "Epoch    9/  10 | Loss: 2.30904 | Accuracy: 9.00000 | Precision: 0.00000 | \n",
      "Epoch   10/  10 | Loss: 2.30628 | Accuracy: 9.00000 | Precision: 0.00000 | \n"
     ]
    }
   ],
   "source": [
    "model.fit(X, y_oh, epochs=10, lr=0.01, batch_size=64)"
   ]
  },
  {
   "cell_type": "code",
   "execution_count": 13,
   "metadata": {},
   "outputs": [],
   "source": [
    "y_pred = model.predict(X)"
   ]
  },
  {
   "cell_type": "code",
   "execution_count": 14,
   "metadata": {},
   "outputs": [
    {
     "data": {
      "text/plain": [
       "(10, 10000)"
      ]
     },
     "execution_count": 14,
     "metadata": {},
     "output_type": "execute_result"
    }
   ],
   "source": [
    "y_pred.shape"
   ]
  },
  {
   "cell_type": "code",
   "execution_count": 17,
   "metadata": {},
   "outputs": [],
   "source": [
    "import numpy as np"
   ]
  },
  {
   "cell_type": "code",
   "execution_count": 20,
   "metadata": {},
   "outputs": [
    {
     "data": {
      "text/plain": [
       "0.03439"
      ]
     },
     "execution_count": 20,
     "metadata": {},
     "output_type": "execute_result"
    }
   ],
   "source": [
    "np.mean((y_oh == np.argmax(y_pred, axis=0)))"
   ]
  },
  {
   "cell_type": "code",
   "execution_count": 11,
   "metadata": {},
   "outputs": [],
   "source": [
    "from sklearn.datasets import make_regression"
   ]
  },
  {
   "cell_type": "code",
   "execution_count": 16,
   "metadata": {},
   "outputs": [],
   "source": [
    "X, y, coef = make_regression(n_samples=1000, n_features=10, n_informative=5, n_targets=1, bias=0.0, effective_rank=None, tail_strength=0.5, noise=0.02, shuffle=True, coef=True, random_state=None)"
   ]
  },
  {
   "cell_type": "code",
   "execution_count": 18,
   "metadata": {},
   "outputs": [
    {
     "data": {
      "text/plain": [
       "((1000, 10),\n",
       " (1000,),\n",
       " array([ 0.        ,  0.        , 79.3296363 ,  0.        ,  0.        ,\n",
       "         0.        , 86.4055538 , 95.74265568, 88.76716511, 44.25350894]))"
      ]
     },
     "execution_count": 18,
     "metadata": {},
     "output_type": "execute_result"
    }
   ],
   "source": [
    "X.shape, y.shape, coef"
   ]
  },
  {
   "cell_type": "code",
   "execution_count": 21,
   "metadata": {},
   "outputs": [
    {
     "data": {
      "text/plain": [
       "(-3.672925653222597, 3.4994043601284357)"
      ]
     },
     "execution_count": 21,
     "metadata": {},
     "output_type": "execute_result"
    }
   ],
   "source": [
    "X.min(), X.max()"
   ]
  },
  {
   "cell_type": "code",
   "execution_count": 22,
   "metadata": {},
   "outputs": [
    {
     "data": {
      "text/plain": [
       "(-559.8183861232799, 573.1392761055567)"
      ]
     },
     "execution_count": 22,
     "metadata": {},
     "output_type": "execute_result"
    }
   ],
   "source": [
    "y.min(), y.max()"
   ]
  }
 ],
 "metadata": {
  "kernelspec": {
   "display_name": "data-science",
   "language": "python",
   "name": "python3"
  },
  "language_info": {
   "codemirror_mode": {
    "name": "ipython",
    "version": 3
   },
   "file_extension": ".py",
   "mimetype": "text/x-python",
   "name": "python",
   "nbconvert_exporter": "python",
   "pygments_lexer": "ipython3",
   "version": "3.9.15"
  },
  "orig_nbformat": 4,
  "vscode": {
   "interpreter": {
    "hash": "2efee1efa502125d01e6b4768ba06d9453d29f3642bfd14ad5d4a769de82e88c"
   }
  }
 },
 "nbformat": 4,
 "nbformat_minor": 2
}
