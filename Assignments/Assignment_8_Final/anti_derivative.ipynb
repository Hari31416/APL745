{
  "cells": [
    {
      "attachments": {},
      "cell_type": "markdown",
      "metadata": {
        "id": "uR9Osd0EdA0T"
      },
      "source": [
        "# Imports"
      ]
    },
    {
      "cell_type": "code",
      "execution_count": 1,
      "metadata": {
        "id": "hhjDdUAldFv8"
      },
      "outputs": [
        {
          "name": "stdout",
          "output_type": "stream",
          "text": [
            "Using cpu device\n"
          ]
        }
      ],
      "source": [
        "import torch\n",
        "import torch.optim as optim         \n",
        "import matplotlib.pyplot as plt\n",
        "import numpy as np\n",
        "import os\n",
        "from anti_derivative import *"
      ]
    },
    {
      "cell_type": "code",
      "execution_count": 2,
      "metadata": {},
      "outputs": [],
      "source": [
        "DATA_DIR = 'data'\n",
        "SAVE_DIR = 'images'\n",
        "if not os.path.exists(SAVE_DIR):\n",
        "    os.makedirs(SAVE_DIR)"
      ]
    },
    {
      "attachments": {},
      "cell_type": "markdown",
      "metadata": {},
      "source": [
        "All the functions and objects are in the file `anti_derivative.py`."
      ]
    },
    {
      "attachments": {},
      "cell_type": "markdown",
      "metadata": {
        "id": "i1feBunPdT5z"
      },
      "source": [
        "# Loading Data And Creating Model"
      ]
    },
    {
      "cell_type": "code",
      "execution_count": 3,
      "metadata": {},
      "outputs": [
        {
          "name": "stdout",
          "output_type": "stream",
          "text": [
            "DeepONet(\n",
            "  (branch): Sequential(\n",
            "    (linear0): Linear(in_features=100, out_features=50, bias=True)\n",
            "    (relu0): ReLU()\n",
            "    (linear1): Linear(in_features=50, out_features=50, bias=True)\n",
            "    (relu1): ReLU()\n",
            "    (linear2): Linear(in_features=50, out_features=50, bias=True)\n",
            "    (relu2): ReLU()\n",
            "    (linear3): Linear(in_features=50, out_features=50, bias=True)\n",
            "    (relu3): ReLU()\n",
            "    (linear4): Linear(in_features=50, out_features=50, bias=True)\n",
            "    (relu4): ReLU()\n",
            "  )\n",
            "  (trunk): Sequential(\n",
            "    (linear0): Linear(in_features=1, out_features=50, bias=True)\n",
            "    (relu0): ReLU()\n",
            "    (linear1): Linear(in_features=50, out_features=50, bias=True)\n",
            "    (relu1): ReLU()\n",
            "    (linear2): Linear(in_features=50, out_features=50, bias=True)\n",
            "    (relu2): ReLU()\n",
            "    (linear3): Linear(in_features=50, out_features=50, bias=True)\n",
            "    (relu3): ReLU()\n",
            "    (linear4): Linear(in_features=50, out_features=50, bias=True)\n",
            "    (relu4): ReLU()\n",
            "  )\n",
            ")\n"
          ]
        }
      ],
      "source": [
        "train_data_dir = os.path.join(DATA_DIR, 'antiderivative_aligned_train.npz')\n",
        "\n",
        "branch_layers = [100, 50, 50, 50, 50, 50]\n",
        "trunk_layers =  [1, 50, 50, 50, 50, 50]\n",
        "model = DeepONet(branch_layers=branch_layers, trunk_layers=trunk_layers)\n",
        "model.summary()"
      ]
    },
    {
      "attachments": {},
      "cell_type": "markdown",
      "metadata": {
        "id": "rhYpc7rKg9Dt"
      },
      "source": [
        "# Training and Evaluation"
      ]
    },
    {
      "cell_type": "code",
      "execution_count": 4,
      "metadata": {},
      "outputs": [],
      "source": [
        "optimizer = optim.Adam(model.parameters(), lr=0.001)"
      ]
    },
    {
      "cell_type": "code",
      "execution_count": 5,
      "metadata": {},
      "outputs": [
        {
          "name": "stdout",
          "output_type": "stream",
          "text": [
            "Epoch:   0, Loss: 0.117176\n",
            "Epoch:  20, Loss: 0.003596\n",
            "Epoch:  40, Loss: 0.000943\n",
            "Epoch:  60, Loss: 0.000464\n",
            "Epoch:  80, Loss: 0.000252\n",
            "Epoch: 100, Loss: 0.000142\n",
            "Epoch: 120, Loss: 0.000096\n",
            "Epoch: 140, Loss: 0.000094\n",
            "Epoch: 160, Loss: 0.000065\n",
            "Epoch: 180, Loss: 0.000066\n"
          ]
        }
      ],
      "source": [
        "deeponet_train = TrainDeepONet(model=model)\n",
        "losses = deeponet_train.train(train_data_path=train_data_dir, optimizer=optimizer, epochs=200, batch_size=128)"
      ]
    },
    {
      "cell_type": "code",
      "execution_count": 6,
      "metadata": {},
      "outputs": [
        {
          "data": {
            "image/png": "[encoded data removed]",
            "text/plain": [
              "<Figure size 640x480 with 1 Axes>"
            ]
          },
          "metadata": {},
          "output_type": "display_data"
        }
      ],
      "source": [
        "plt.figure()\n",
        "plt.plot(losses)\n",
        "plt.xlabel('Iteration')\n",
        "plt.ylabel('Loss')\n",
        "plt.savefig(os.path.join(SAVE_DIR, \"0101.png\"))"
      ]
    },
    {
      "cell_type": "code",
      "execution_count": 7,
      "metadata": {
        "id": "VcLMsWifhEnj"
      },
      "outputs": [],
      "source": [
        "test_data_dir = os.path.join(DATA_DIR, 'antiderivative_aligned_test.npz')\n",
        "u_test, y_test, s_test = deeponet_train.load_dataset(test_data_dir)\n",
        "u_test, y_test, s_test = deeponet_train.create_dataset(u_test, y_test, s_test)"
      ]
    },
    {
      "cell_type": "code",
      "execution_count": 8,
      "metadata": {},
      "outputs": [],
      "source": [
        "y_test_t = torch.tensor(y_test, dtype=torch.float32)\n",
        "u_test_t = torch.tensor(u_test, dtype=torch.float32)"
      ]
    },
    {
      "cell_type": "code",
      "execution_count": 9,
      "metadata": {
        "id": "NaWR05AbhI5q"
      },
      "outputs": [],
      "source": [
        "#Model Predictions \n",
        "s_pred = model.predict(u_test_t, y_test_t)"
      ]
    },
    {
      "attachments": {},
      "cell_type": "markdown",
      "metadata": {},
      "source": [
        "Let's calculate the mean absolute error on the test data."
      ]
    },
    {
      "cell_type": "code",
      "execution_count": 10,
      "metadata": {},
      "outputs": [
        {
          "name": "stdout",
          "output_type": "stream",
          "text": [
            "MAE: 0.013539\n"
          ]
        }
      ],
      "source": [
        "mae = np.mean(np.abs(s_pred - s_test))\n",
        "print(\"MAE: {0:.6f}\".format(mae))"
      ]
    }
  ],
  "metadata": {
    "colab": {
      "provenance": []
    },
    "kernelspec": {
      "display_name": "Python 3",
      "name": "python3"
    },
    "language_info": {
      "codemirror_mode": {
        "name": "ipython",
        "version": 3
      },
      "file_extension": ".py",
      "mimetype": "text/x-python",
      "name": "python",
      "nbconvert_exporter": "python",
      "pygments_lexer": "ipython3",
      "version": "3.9.15"
    }
  },
  "nbformat": 4,
  "nbformat_minor": 0
}
