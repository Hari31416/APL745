{
 "cells": [
  {
   "attachments": {},
   "cell_type": "markdown",
   "metadata": {},
   "source": [
    "# Imports"
   ]
  },
  {
   "cell_type": "code",
   "execution_count": 1,
   "metadata": {},
   "outputs": [],
   "source": [
    "import numpy as np\n",
    "import matplotlib.pyplot as plt\n",
    "import os\n",
    "import pandas as pd\n",
    "from scipy.optimize import minimize\n",
    "\n",
    "\n",
    "plt.rcParams['figure.figsize'] = (10.0, 7.0)\n",
    "plt.rcParams[\"font.size\"] = 16\n",
    "plt.rcParams[\"font.family\"] = \"Serif\""
   ]
  },
  {
   "cell_type": "code",
   "execution_count": 2,
   "metadata": {},
   "outputs": [],
   "source": [
    "DATA_DIR = 'data'\n",
    "SAVE_DIR = \"plots\""
   ]
  },
  {
   "attachments": {},
   "cell_type": "markdown",
   "metadata": {},
   "source": [
    "# The Problems"
   ]
  },
  {
   "attachments": {},
   "cell_type": "markdown",
   "metadata": {},
   "source": [
    "Here are the problems:"
   ]
  },
  {
   "attachments": {},
   "cell_type": "markdown",
   "metadata": {},
   "source": [
    "Apply the logistic regression (linear classifier) algorithm discussed in the lab session to predict next-day rain based on the 10 years of daily weather observations from many locations within a country. The dataset contains many factors taken into consideration to specify whether it rained or not on that particular day. The training and testing dataset is provided in the files titled ‘weather_train.csv’ and ‘weather_test.csv’, respectively. Carry out the following tasks as assignment problems:\n",
    "\n",
    "1. Inspect and plot some portion of the training data using pandas. Segregate the training and testing data into two separate variables consisting of ‘feature values’ and corresponding ‘predictions’ (the prediction column is titled ‘RainTomorrow’ in the dataset). To simplify the problem a bit, clean the whole data by carrying out the following sub-tasks:\n",
    "    - Convert the predictions in the binary format by using ‘1’ for ‘YES’ and ‘0’ for ‘NO’.\n",
    "    - Identify and drop the feature columns having datatype ‘object’.\n",
    "    - Identify cells having ‘NaN’ or ‘NA’ values and replace them with mean values of their respective columns.\n",
    "    - Normalize all the feature values by scaling them between 0 and 1. The values in feature matrix $X$ can be normalized as:\n",
    "   $$\n",
    "   X_{norm} = \\frac{X - min(X)}{max(X) - min(X)}\n",
    "   $$\n",
    "Execute the above sub-tasks and display some portion of the data and its head after each data cleaning step.\n",
    "\n",
    "2. Classify the cleaned dataset using binary classification algorithm discussed in the class and calculate the optimized weights and training set accuracy for the model (use Truncated Newton’s Method in SciPy for optimization).\n",
    "3. Plot the cost history ($J$) vs. the number of iterations\n",
    "4. Apply the trained model on the cleaned test dataset to predict the testing accuracy of the model."
   ]
  },
  {
   "attachments": {},
   "cell_type": "markdown",
   "metadata": {},
   "source": [
    "## The Approach"
   ]
  },
  {
   "attachments": {},
   "cell_type": "markdown",
   "metadata": {},
   "source": [
    "We can formulate the problem of logistic regression as an optimization problem. For this, let's define some quantities."
   ]
  },
  {
   "attachments": {},
   "cell_type": "markdown",
   "metadata": {},
   "source": [
    "Suppose the input data is $X \\in \\mathbb{R}^{m\\times n}$ where $m$ is number of samples and $n$ number of fearures. The target variable $\\mathbf{y}\\in \\mathbb{R}^m$ has just two possible values, say $0$ and $1$."
   ]
  },
  {
   "attachments": {},
   "cell_type": "markdown",
   "metadata": {},
   "source": [
    "### Hypothesis Function"
   ]
  },
  {
   "attachments": {},
   "cell_type": "markdown",
   "metadata": {},
   "source": [
    "The hypothesis function for logistic regression is:\n",
    "$$\n",
    "h(\\theta) = z(\\mathbf{w}^TX)\n",
    "$$\n",
    "Here $\\mathbf{w} \\in \\mathbb{R}^{n+1}$ is the weight including the bias term, that is $\\mathbf{w} = [w_0, w_1, \\cdots, w_n]$ and $z$ is a function, called the sigmoid function defined as:\n",
    "$$\n",
    "z = \\frac{1}{1+e^{-x}}\n",
    "$$"
   ]
  },
  {
   "attachments": {},
   "cell_type": "markdown",
   "metadata": {},
   "source": [
    "### Cost Function"
   ]
  },
  {
   "attachments": {},
   "cell_type": "markdown",
   "metadata": {},
   "source": [
    "The cost function which we will use for the logistic regression is\n",
    "$$\n",
    "  J(\\hat{y}, \\mathbf{y}) = \\begin{cases}\n",
    "    - \\log(\\hat{y}) & \\text{if $\\mathbf{y}=1$}\\\\\n",
    "    - \\log( 1 - \\hat{y}) & \\text{if $\\mathbf{y}=0$}\n",
    "  \\end{cases}\n",
    "$$"
   ]
  },
  {
   "attachments": {},
   "cell_type": "markdown",
   "metadata": {},
   "source": [
    "This can be rewritten as:\n",
    "$$\n",
    "J(\\hat{y}, \\mathbf{y}) = -\\mathbf{y}\\log(\\hat{y}) - (1-\\mathbf{y})\\log( 1 - \\hat{y})\n",
    "$$"
   ]
  },
  {
   "attachments": {},
   "cell_type": "markdown",
   "metadata": {},
   "source": [
    "Note that $J$ is function of $\\hat{y}$ which in turn is function of $\\mathbf{w}$ and $X$, so, $J$ is function of $J(\\mathbf{w}, X, \\mathbf{y})$."
   ]
  },
  {
   "attachments": {},
   "cell_type": "markdown",
   "metadata": {},
   "source": [
    "### Optimization Problem"
   ]
  },
  {
   "attachments": {},
   "cell_type": "markdown",
   "metadata": {},
   "source": [
    "Using these definitions, we can formulate the optimization problem as:\n",
    "$$\n",
    "\\text{minimize}_{\\mathbf{w}} \\, J(\\mathbf{w}, X, \\mathbf{y})\n",
    "$$"
   ]
  },
  {
   "attachments": {},
   "cell_type": "markdown",
   "metadata": {},
   "source": [
    "# Solving The Third Problem"
   ]
  },
  {
   "attachments": {},
   "cell_type": "markdown",
   "metadata": {},
   "source": [
    "## Problem 3.1"
   ]
  },
  {
   "cell_type": "code",
   "execution_count": 3,
   "metadata": {},
   "outputs": [
    {
     "data": {
      "text/html": [
       "<div>\n",
       "<style scoped>\n",
       "    .dataframe tbody tr th:only-of-type {\n",
       "        vertical-align: middle;\n",
       "    }\n",
       "\n",
       "    .dataframe tbody tr th {\n",
       "        vertical-align: top;\n",
       "    }\n",
       "\n",
       "    .dataframe thead th {\n",
       "        text-align: right;\n",
       "    }\n",
       "</style>\n",
       "<table border=\"1\" class=\"dataframe\">\n",
       "  <thead>\n",
       "    <tr style=\"text-align: right;\">\n",
       "      <th></th>\n",
       "      <th>Date</th>\n",
       "      <th>Location</th>\n",
       "      <th>MinTemp</th>\n",
       "      <th>MaxTemp</th>\n",
       "      <th>Rainfall</th>\n",
       "      <th>Evaporation</th>\n",
       "      <th>Sunshine</th>\n",
       "      <th>WindGustDir</th>\n",
       "      <th>WindGustSpeed</th>\n",
       "      <th>WindDir9am</th>\n",
       "      <th>...</th>\n",
       "      <th>Humidity9am</th>\n",
       "      <th>Humidity3pm</th>\n",
       "      <th>Pressure9am</th>\n",
       "      <th>Pressure3pm</th>\n",
       "      <th>Cloud9am</th>\n",
       "      <th>Cloud3pm</th>\n",
       "      <th>Temp9am</th>\n",
       "      <th>Temp3pm</th>\n",
       "      <th>RainToday</th>\n",
       "      <th>RainTomorrow</th>\n",
       "    </tr>\n",
       "  </thead>\n",
       "  <tbody>\n",
       "    <tr>\n",
       "      <th>0</th>\n",
       "      <td>01-12-2008</td>\n",
       "      <td>Albury</td>\n",
       "      <td>13.4</td>\n",
       "      <td>22.9</td>\n",
       "      <td>0.6</td>\n",
       "      <td>NaN</td>\n",
       "      <td>NaN</td>\n",
       "      <td>W</td>\n",
       "      <td>44.0</td>\n",
       "      <td>W</td>\n",
       "      <td>...</td>\n",
       "      <td>71.0</td>\n",
       "      <td>22.0</td>\n",
       "      <td>1007.7</td>\n",
       "      <td>1007.1</td>\n",
       "      <td>8.0</td>\n",
       "      <td>NaN</td>\n",
       "      <td>16.9</td>\n",
       "      <td>21.8</td>\n",
       "      <td>No</td>\n",
       "      <td>No</td>\n",
       "    </tr>\n",
       "    <tr>\n",
       "      <th>1</th>\n",
       "      <td>02-12-2008</td>\n",
       "      <td>Albury</td>\n",
       "      <td>7.4</td>\n",
       "      <td>25.1</td>\n",
       "      <td>0.0</td>\n",
       "      <td>NaN</td>\n",
       "      <td>NaN</td>\n",
       "      <td>WNW</td>\n",
       "      <td>44.0</td>\n",
       "      <td>NNW</td>\n",
       "      <td>...</td>\n",
       "      <td>44.0</td>\n",
       "      <td>25.0</td>\n",
       "      <td>1010.6</td>\n",
       "      <td>1007.8</td>\n",
       "      <td>NaN</td>\n",
       "      <td>NaN</td>\n",
       "      <td>17.2</td>\n",
       "      <td>24.3</td>\n",
       "      <td>No</td>\n",
       "      <td>No</td>\n",
       "    </tr>\n",
       "    <tr>\n",
       "      <th>2</th>\n",
       "      <td>03-12-2008</td>\n",
       "      <td>Albury</td>\n",
       "      <td>12.9</td>\n",
       "      <td>25.7</td>\n",
       "      <td>0.0</td>\n",
       "      <td>NaN</td>\n",
       "      <td>NaN</td>\n",
       "      <td>WSW</td>\n",
       "      <td>46.0</td>\n",
       "      <td>W</td>\n",
       "      <td>...</td>\n",
       "      <td>38.0</td>\n",
       "      <td>30.0</td>\n",
       "      <td>1007.6</td>\n",
       "      <td>1008.7</td>\n",
       "      <td>NaN</td>\n",
       "      <td>2.0</td>\n",
       "      <td>21.0</td>\n",
       "      <td>23.2</td>\n",
       "      <td>No</td>\n",
       "      <td>No</td>\n",
       "    </tr>\n",
       "    <tr>\n",
       "      <th>3</th>\n",
       "      <td>04-12-2008</td>\n",
       "      <td>Albury</td>\n",
       "      <td>9.2</td>\n",
       "      <td>28.0</td>\n",
       "      <td>0.0</td>\n",
       "      <td>NaN</td>\n",
       "      <td>NaN</td>\n",
       "      <td>NE</td>\n",
       "      <td>24.0</td>\n",
       "      <td>SE</td>\n",
       "      <td>...</td>\n",
       "      <td>45.0</td>\n",
       "      <td>16.0</td>\n",
       "      <td>1017.6</td>\n",
       "      <td>1012.8</td>\n",
       "      <td>NaN</td>\n",
       "      <td>NaN</td>\n",
       "      <td>18.1</td>\n",
       "      <td>26.5</td>\n",
       "      <td>No</td>\n",
       "      <td>No</td>\n",
       "    </tr>\n",
       "    <tr>\n",
       "      <th>4</th>\n",
       "      <td>05-12-2008</td>\n",
       "      <td>Albury</td>\n",
       "      <td>17.5</td>\n",
       "      <td>32.3</td>\n",
       "      <td>1.0</td>\n",
       "      <td>NaN</td>\n",
       "      <td>NaN</td>\n",
       "      <td>W</td>\n",
       "      <td>41.0</td>\n",
       "      <td>ENE</td>\n",
       "      <td>...</td>\n",
       "      <td>82.0</td>\n",
       "      <td>33.0</td>\n",
       "      <td>1010.8</td>\n",
       "      <td>1006.0</td>\n",
       "      <td>7.0</td>\n",
       "      <td>8.0</td>\n",
       "      <td>17.8</td>\n",
       "      <td>29.7</td>\n",
       "      <td>No</td>\n",
       "      <td>No</td>\n",
       "    </tr>\n",
       "  </tbody>\n",
       "</table>\n",
       "<p>5 rows × 23 columns</p>\n",
       "</div>"
      ],
      "text/plain": [
       "         Date Location  MinTemp  MaxTemp  Rainfall  Evaporation  Sunshine  \\\n",
       "0  01-12-2008   Albury     13.4     22.9       0.6          NaN       NaN   \n",
       "1  02-12-2008   Albury      7.4     25.1       0.0          NaN       NaN   \n",
       "2  03-12-2008   Albury     12.9     25.7       0.0          NaN       NaN   \n",
       "3  04-12-2008   Albury      9.2     28.0       0.0          NaN       NaN   \n",
       "4  05-12-2008   Albury     17.5     32.3       1.0          NaN       NaN   \n",
       "\n",
       "  WindGustDir  WindGustSpeed WindDir9am  ... Humidity9am  Humidity3pm  \\\n",
       "0           W           44.0          W  ...        71.0         22.0   \n",
       "1         WNW           44.0        NNW  ...        44.0         25.0   \n",
       "2         WSW           46.0          W  ...        38.0         30.0   \n",
       "3          NE           24.0         SE  ...        45.0         16.0   \n",
       "4           W           41.0        ENE  ...        82.0         33.0   \n",
       "\n",
       "   Pressure9am  Pressure3pm  Cloud9am  Cloud3pm  Temp9am  Temp3pm  RainToday  \\\n",
       "0       1007.7       1007.1       8.0       NaN     16.9     21.8         No   \n",
       "1       1010.6       1007.8       NaN       NaN     17.2     24.3         No   \n",
       "2       1007.6       1008.7       NaN       2.0     21.0     23.2         No   \n",
       "3       1017.6       1012.8       NaN       NaN     18.1     26.5         No   \n",
       "4       1010.8       1006.0       7.0       8.0     17.8     29.7         No   \n",
       "\n",
       "   RainTomorrow  \n",
       "0            No  \n",
       "1            No  \n",
       "2            No  \n",
       "3            No  \n",
       "4            No  \n",
       "\n",
       "[5 rows x 23 columns]"
      ]
     },
     "execution_count": 3,
     "metadata": {},
     "output_type": "execute_result"
    }
   ],
   "source": [
    "train = pd.read_csv(os.path.join(DATA_DIR, \"weather_train.csv\"))\n",
    "test = pd.read_csv(os.path.join(DATA_DIR, \"weather_test.csv\"))\n",
    "train.head()"
   ]
  },
  {
   "cell_type": "code",
   "execution_count": 4,
   "metadata": {},
   "outputs": [
    {
     "data": {
      "text/html": [
       "<div>\n",
       "<style scoped>\n",
       "    .dataframe tbody tr th:only-of-type {\n",
       "        vertical-align: middle;\n",
       "    }\n",
       "\n",
       "    .dataframe tbody tr th {\n",
       "        vertical-align: top;\n",
       "    }\n",
       "\n",
       "    .dataframe thead th {\n",
       "        text-align: right;\n",
       "    }\n",
       "</style>\n",
       "<table border=\"1\" class=\"dataframe\">\n",
       "  <thead>\n",
       "    <tr style=\"text-align: right;\">\n",
       "      <th></th>\n",
       "      <th>Date</th>\n",
       "      <th>Location</th>\n",
       "      <th>MinTemp</th>\n",
       "      <th>MaxTemp</th>\n",
       "      <th>Rainfall</th>\n",
       "      <th>Evaporation</th>\n",
       "      <th>Sunshine</th>\n",
       "      <th>WindGustDir</th>\n",
       "      <th>WindGustSpeed</th>\n",
       "      <th>WindDir9am</th>\n",
       "      <th>...</th>\n",
       "      <th>Humidity9am</th>\n",
       "      <th>Humidity3pm</th>\n",
       "      <th>Pressure9am</th>\n",
       "      <th>Pressure3pm</th>\n",
       "      <th>Cloud9am</th>\n",
       "      <th>Cloud3pm</th>\n",
       "      <th>Temp9am</th>\n",
       "      <th>Temp3pm</th>\n",
       "      <th>RainToday</th>\n",
       "      <th>RainTomorrow</th>\n",
       "    </tr>\n",
       "  </thead>\n",
       "  <tbody>\n",
       "    <tr>\n",
       "      <th>0</th>\n",
       "      <td>11-01-2014</td>\n",
       "      <td>PearceRAAF</td>\n",
       "      <td>19.0</td>\n",
       "      <td>44.5</td>\n",
       "      <td>0.0</td>\n",
       "      <td>NaN</td>\n",
       "      <td>13.1</td>\n",
       "      <td>E</td>\n",
       "      <td>54.0</td>\n",
       "      <td>E</td>\n",
       "      <td>...</td>\n",
       "      <td>27.0</td>\n",
       "      <td>10.0</td>\n",
       "      <td>1015.3</td>\n",
       "      <td>1009.7</td>\n",
       "      <td>NaN</td>\n",
       "      <td>NaN</td>\n",
       "      <td>31.2</td>\n",
       "      <td>42.9</td>\n",
       "      <td>No</td>\n",
       "      <td>No</td>\n",
       "    </tr>\n",
       "    <tr>\n",
       "      <th>1</th>\n",
       "      <td>12-01-2014</td>\n",
       "      <td>PearceRAAF</td>\n",
       "      <td>31.2</td>\n",
       "      <td>44.3</td>\n",
       "      <td>0.0</td>\n",
       "      <td>NaN</td>\n",
       "      <td>12.2</td>\n",
       "      <td>E</td>\n",
       "      <td>54.0</td>\n",
       "      <td>N</td>\n",
       "      <td>...</td>\n",
       "      <td>10.0</td>\n",
       "      <td>22.0</td>\n",
       "      <td>1007.7</td>\n",
       "      <td>1007.8</td>\n",
       "      <td>NaN</td>\n",
       "      <td>NaN</td>\n",
       "      <td>40.2</td>\n",
       "      <td>35.8</td>\n",
       "      <td>No</td>\n",
       "      <td>No</td>\n",
       "    </tr>\n",
       "    <tr>\n",
       "      <th>2</th>\n",
       "      <td>13-01-2014</td>\n",
       "      <td>PearceRAAF</td>\n",
       "      <td>19.3</td>\n",
       "      <td>30.3</td>\n",
       "      <td>0.0</td>\n",
       "      <td>NaN</td>\n",
       "      <td>9.4</td>\n",
       "      <td>WSW</td>\n",
       "      <td>46.0</td>\n",
       "      <td>SSW</td>\n",
       "      <td>...</td>\n",
       "      <td>63.0</td>\n",
       "      <td>43.0</td>\n",
       "      <td>1010.9</td>\n",
       "      <td>1009.5</td>\n",
       "      <td>7.0</td>\n",
       "      <td>2.0</td>\n",
       "      <td>23.2</td>\n",
       "      <td>27.6</td>\n",
       "      <td>No</td>\n",
       "      <td>No</td>\n",
       "    </tr>\n",
       "    <tr>\n",
       "      <th>3</th>\n",
       "      <td>14-01-2014</td>\n",
       "      <td>PearceRAAF</td>\n",
       "      <td>14.0</td>\n",
       "      <td>29.7</td>\n",
       "      <td>0.0</td>\n",
       "      <td>NaN</td>\n",
       "      <td>13.1</td>\n",
       "      <td>WSW</td>\n",
       "      <td>44.0</td>\n",
       "      <td>SSE</td>\n",
       "      <td>...</td>\n",
       "      <td>43.0</td>\n",
       "      <td>29.0</td>\n",
       "      <td>1012.2</td>\n",
       "      <td>1009.5</td>\n",
       "      <td>0.0</td>\n",
       "      <td>0.0</td>\n",
       "      <td>23.0</td>\n",
       "      <td>29.0</td>\n",
       "      <td>No</td>\n",
       "      <td>No</td>\n",
       "    </tr>\n",
       "    <tr>\n",
       "      <th>4</th>\n",
       "      <td>15-01-2014</td>\n",
       "      <td>PearceRAAF</td>\n",
       "      <td>12.7</td>\n",
       "      <td>27.9</td>\n",
       "      <td>0.0</td>\n",
       "      <td>NaN</td>\n",
       "      <td>12.4</td>\n",
       "      <td>W</td>\n",
       "      <td>50.0</td>\n",
       "      <td>NW</td>\n",
       "      <td>...</td>\n",
       "      <td>48.0</td>\n",
       "      <td>34.0</td>\n",
       "      <td>1008.4</td>\n",
       "      <td>1008.4</td>\n",
       "      <td>1.0</td>\n",
       "      <td>3.0</td>\n",
       "      <td>23.4</td>\n",
       "      <td>25.7</td>\n",
       "      <td>No</td>\n",
       "      <td>No</td>\n",
       "    </tr>\n",
       "  </tbody>\n",
       "</table>\n",
       "<p>5 rows × 23 columns</p>\n",
       "</div>"
      ],
      "text/plain": [
       "         Date    Location  MinTemp  MaxTemp  Rainfall  Evaporation  Sunshine  \\\n",
       "0  11-01-2014  PearceRAAF     19.0     44.5       0.0          NaN      13.1   \n",
       "1  12-01-2014  PearceRAAF     31.2     44.3       0.0          NaN      12.2   \n",
       "2  13-01-2014  PearceRAAF     19.3     30.3       0.0          NaN       9.4   \n",
       "3  14-01-2014  PearceRAAF     14.0     29.7       0.0          NaN      13.1   \n",
       "4  15-01-2014  PearceRAAF     12.7     27.9       0.0          NaN      12.4   \n",
       "\n",
       "  WindGustDir  WindGustSpeed WindDir9am  ... Humidity9am  Humidity3pm  \\\n",
       "0           E           54.0          E  ...        27.0         10.0   \n",
       "1           E           54.0          N  ...        10.0         22.0   \n",
       "2         WSW           46.0        SSW  ...        63.0         43.0   \n",
       "3         WSW           44.0        SSE  ...        43.0         29.0   \n",
       "4           W           50.0         NW  ...        48.0         34.0   \n",
       "\n",
       "   Pressure9am  Pressure3pm  Cloud9am  Cloud3pm  Temp9am  Temp3pm  RainToday  \\\n",
       "0       1015.3       1009.7       NaN       NaN     31.2     42.9         No   \n",
       "1       1007.7       1007.8       NaN       NaN     40.2     35.8         No   \n",
       "2       1010.9       1009.5       7.0       2.0     23.2     27.6         No   \n",
       "3       1012.2       1009.5       0.0       0.0     23.0     29.0         No   \n",
       "4       1008.4       1008.4       1.0       3.0     23.4     25.7         No   \n",
       "\n",
       "   RainTomorrow  \n",
       "0            No  \n",
       "1            No  \n",
       "2            No  \n",
       "3            No  \n",
       "4            No  \n",
       "\n",
       "[5 rows x 23 columns]"
      ]
     },
     "execution_count": 4,
     "metadata": {},
     "output_type": "execute_result"
    }
   ],
   "source": [
    "test.head()"
   ]
  },
  {
   "cell_type": "code",
   "execution_count": 5,
   "metadata": {},
   "outputs": [
    {
     "name": "stdout",
     "output_type": "stream",
     "text": [
      "<class 'pandas.core.frame.DataFrame'>\n",
      "RangeIndex: 52062 entries, 0 to 52061\n",
      "Data columns (total 23 columns):\n",
      " #   Column         Non-Null Count  Dtype  \n",
      "---  ------         --------------  -----  \n",
      " 0   Date           52062 non-null  object \n",
      " 1   Location       52062 non-null  object \n",
      " 2   MinTemp        51538 non-null  float64\n",
      " 3   MaxTemp        51672 non-null  float64\n",
      " 4   Rainfall       50766 non-null  float64\n",
      " 5   Evaporation    24047 non-null  float64\n",
      " 6   Sunshine       18441 non-null  float64\n",
      " 7   WindGustDir    46533 non-null  object \n",
      " 8   WindGustSpeed  46540 non-null  float64\n",
      " 9   WindDir9am     46068 non-null  object \n",
      " 10  WindDir3pm     49611 non-null  object \n",
      " 11  WindSpeed9am   50930 non-null  float64\n",
      " 12  WindSpeed3pm   50306 non-null  float64\n",
      " 13  Humidity9am    51272 non-null  float64\n",
      " 14  Humidity3pm    50667 non-null  float64\n",
      " 15  Pressure9am    45067 non-null  float64\n",
      " 16  Pressure3pm    45117 non-null  float64\n",
      " 17  Cloud9am       29614 non-null  float64\n",
      " 18  Cloud3pm       29176 non-null  float64\n",
      " 19  Temp9am        51553 non-null  float64\n",
      " 20  Temp3pm        50906 non-null  float64\n",
      " 21  RainToday      50766 non-null  object \n",
      " 22  RainTomorrow   52062 non-null  object \n",
      "dtypes: float64(16), object(7)\n",
      "memory usage: 9.1+ MB\n"
     ]
    }
   ],
   "source": [
    "train.info()"
   ]
  },
  {
   "cell_type": "code",
   "execution_count": 6,
   "metadata": {},
   "outputs": [
    {
     "name": "stdout",
     "output_type": "stream",
     "text": [
      "<class 'pandas.core.frame.DataFrame'>\n",
      "RangeIndex: 29093 entries, 0 to 29092\n",
      "Data columns (total 23 columns):\n",
      " #   Column         Non-Null Count  Dtype  \n",
      "---  ------         --------------  -----  \n",
      " 0   Date           29093 non-null  object \n",
      " 1   Location       29093 non-null  object \n",
      " 2   MinTemp        28922 non-null  float64\n",
      " 3   MaxTemp        28954 non-null  float64\n",
      " 4   Rainfall       28689 non-null  float64\n",
      " 5   Evaporation    16976 non-null  float64\n",
      " 6   Sunshine       16341 non-null  float64\n",
      " 7   WindGustDir    28580 non-null  object \n",
      " 8   WindGustSpeed  28617 non-null  float64\n",
      " 9   WindDir9am     27638 non-null  object \n",
      " 10  WindDir3pm     28783 non-null  object \n",
      " 11  WindSpeed9am   28938 non-null  float64\n",
      " 12  WindSpeed3pm   28932 non-null  float64\n",
      " 13  Humidity9am    28863 non-null  float64\n",
      " 14  Humidity3pm    28110 non-null  float64\n",
      " 15  Pressure9am    24890 non-null  float64\n",
      " 16  Pressure3pm    24889 non-null  float64\n",
      " 17  Cloud9am       17456 non-null  float64\n",
      " 18  Cloud3pm       16785 non-null  float64\n",
      " 19  Temp9am        28961 non-null  float64\n",
      " 20  Temp3pm        28278 non-null  float64\n",
      " 21  RainToday      28689 non-null  object \n",
      " 22  RainTomorrow   28685 non-null  object \n",
      "dtypes: float64(16), object(7)\n",
      "memory usage: 5.1+ MB\n"
     ]
    }
   ],
   "source": [
    "test.info()"
   ]
  },
  {
   "attachments": {},
   "cell_type": "markdown",
   "metadata": {},
   "source": [
    "All the preprocessing steps which we are doing will also be done to the test dataset. This is why, we'll take both of the datasets together."
   ]
  },
  {
   "attachments": {},
   "cell_type": "markdown",
   "metadata": {},
   "source": [
    "### (a)"
   ]
  },
  {
   "attachments": {},
   "cell_type": "markdown",
   "metadata": {},
   "source": [
    "We can easily convert this to 0 or 1 using `pandas` `apply` method."
   ]
  },
  {
   "cell_type": "code",
   "execution_count": 7,
   "metadata": {},
   "outputs": [],
   "source": [
    "train[\"RainTomorrow\"] = train[\"RainTomorrow\"].apply(lambda x: 0 if x==\"No\" else 1)\n",
    "test[\"RainTomorrow\"] = test[\"RainTomorrow\"].apply(lambda x: 0 if x==\"No\" else 1)"
   ]
  },
  {
   "cell_type": "code",
   "execution_count": 8,
   "metadata": {},
   "outputs": [
    {
     "data": {
      "text/html": [
       "<div>\n",
       "<style scoped>\n",
       "    .dataframe tbody tr th:only-of-type {\n",
       "        vertical-align: middle;\n",
       "    }\n",
       "\n",
       "    .dataframe tbody tr th {\n",
       "        vertical-align: top;\n",
       "    }\n",
       "\n",
       "    .dataframe thead th {\n",
       "        text-align: right;\n",
       "    }\n",
       "</style>\n",
       "<table border=\"1\" class=\"dataframe\">\n",
       "  <thead>\n",
       "    <tr style=\"text-align: right;\">\n",
       "      <th></th>\n",
       "      <th>Date</th>\n",
       "      <th>Location</th>\n",
       "      <th>MinTemp</th>\n",
       "      <th>MaxTemp</th>\n",
       "      <th>Rainfall</th>\n",
       "      <th>Evaporation</th>\n",
       "      <th>Sunshine</th>\n",
       "      <th>WindGustDir</th>\n",
       "      <th>WindGustSpeed</th>\n",
       "      <th>WindDir9am</th>\n",
       "      <th>...</th>\n",
       "      <th>Humidity9am</th>\n",
       "      <th>Humidity3pm</th>\n",
       "      <th>Pressure9am</th>\n",
       "      <th>Pressure3pm</th>\n",
       "      <th>Cloud9am</th>\n",
       "      <th>Cloud3pm</th>\n",
       "      <th>Temp9am</th>\n",
       "      <th>Temp3pm</th>\n",
       "      <th>RainToday</th>\n",
       "      <th>RainTomorrow</th>\n",
       "    </tr>\n",
       "  </thead>\n",
       "  <tbody>\n",
       "    <tr>\n",
       "      <th>0</th>\n",
       "      <td>01-12-2008</td>\n",
       "      <td>Albury</td>\n",
       "      <td>13.4</td>\n",
       "      <td>22.9</td>\n",
       "      <td>0.6</td>\n",
       "      <td>NaN</td>\n",
       "      <td>NaN</td>\n",
       "      <td>W</td>\n",
       "      <td>44.0</td>\n",
       "      <td>W</td>\n",
       "      <td>...</td>\n",
       "      <td>71.0</td>\n",
       "      <td>22.0</td>\n",
       "      <td>1007.7</td>\n",
       "      <td>1007.1</td>\n",
       "      <td>8.0</td>\n",
       "      <td>NaN</td>\n",
       "      <td>16.9</td>\n",
       "      <td>21.8</td>\n",
       "      <td>No</td>\n",
       "      <td>0</td>\n",
       "    </tr>\n",
       "    <tr>\n",
       "      <th>1</th>\n",
       "      <td>02-12-2008</td>\n",
       "      <td>Albury</td>\n",
       "      <td>7.4</td>\n",
       "      <td>25.1</td>\n",
       "      <td>0.0</td>\n",
       "      <td>NaN</td>\n",
       "      <td>NaN</td>\n",
       "      <td>WNW</td>\n",
       "      <td>44.0</td>\n",
       "      <td>NNW</td>\n",
       "      <td>...</td>\n",
       "      <td>44.0</td>\n",
       "      <td>25.0</td>\n",
       "      <td>1010.6</td>\n",
       "      <td>1007.8</td>\n",
       "      <td>NaN</td>\n",
       "      <td>NaN</td>\n",
       "      <td>17.2</td>\n",
       "      <td>24.3</td>\n",
       "      <td>No</td>\n",
       "      <td>0</td>\n",
       "    </tr>\n",
       "    <tr>\n",
       "      <th>2</th>\n",
       "      <td>03-12-2008</td>\n",
       "      <td>Albury</td>\n",
       "      <td>12.9</td>\n",
       "      <td>25.7</td>\n",
       "      <td>0.0</td>\n",
       "      <td>NaN</td>\n",
       "      <td>NaN</td>\n",
       "      <td>WSW</td>\n",
       "      <td>46.0</td>\n",
       "      <td>W</td>\n",
       "      <td>...</td>\n",
       "      <td>38.0</td>\n",
       "      <td>30.0</td>\n",
       "      <td>1007.6</td>\n",
       "      <td>1008.7</td>\n",
       "      <td>NaN</td>\n",
       "      <td>2.0</td>\n",
       "      <td>21.0</td>\n",
       "      <td>23.2</td>\n",
       "      <td>No</td>\n",
       "      <td>0</td>\n",
       "    </tr>\n",
       "    <tr>\n",
       "      <th>3</th>\n",
       "      <td>04-12-2008</td>\n",
       "      <td>Albury</td>\n",
       "      <td>9.2</td>\n",
       "      <td>28.0</td>\n",
       "      <td>0.0</td>\n",
       "      <td>NaN</td>\n",
       "      <td>NaN</td>\n",
       "      <td>NE</td>\n",
       "      <td>24.0</td>\n",
       "      <td>SE</td>\n",
       "      <td>...</td>\n",
       "      <td>45.0</td>\n",
       "      <td>16.0</td>\n",
       "      <td>1017.6</td>\n",
       "      <td>1012.8</td>\n",
       "      <td>NaN</td>\n",
       "      <td>NaN</td>\n",
       "      <td>18.1</td>\n",
       "      <td>26.5</td>\n",
       "      <td>No</td>\n",
       "      <td>0</td>\n",
       "    </tr>\n",
       "    <tr>\n",
       "      <th>4</th>\n",
       "      <td>05-12-2008</td>\n",
       "      <td>Albury</td>\n",
       "      <td>17.5</td>\n",
       "      <td>32.3</td>\n",
       "      <td>1.0</td>\n",
       "      <td>NaN</td>\n",
       "      <td>NaN</td>\n",
       "      <td>W</td>\n",
       "      <td>41.0</td>\n",
       "      <td>ENE</td>\n",
       "      <td>...</td>\n",
       "      <td>82.0</td>\n",
       "      <td>33.0</td>\n",
       "      <td>1010.8</td>\n",
       "      <td>1006.0</td>\n",
       "      <td>7.0</td>\n",
       "      <td>8.0</td>\n",
       "      <td>17.8</td>\n",
       "      <td>29.7</td>\n",
       "      <td>No</td>\n",
       "      <td>0</td>\n",
       "    </tr>\n",
       "  </tbody>\n",
       "</table>\n",
       "<p>5 rows × 23 columns</p>\n",
       "</div>"
      ],
      "text/plain": [
       "         Date Location  MinTemp  MaxTemp  Rainfall  Evaporation  Sunshine  \\\n",
       "0  01-12-2008   Albury     13.4     22.9       0.6          NaN       NaN   \n",
       "1  02-12-2008   Albury      7.4     25.1       0.0          NaN       NaN   \n",
       "2  03-12-2008   Albury     12.9     25.7       0.0          NaN       NaN   \n",
       "3  04-12-2008   Albury      9.2     28.0       0.0          NaN       NaN   \n",
       "4  05-12-2008   Albury     17.5     32.3       1.0          NaN       NaN   \n",
       "\n",
       "  WindGustDir  WindGustSpeed WindDir9am  ... Humidity9am  Humidity3pm  \\\n",
       "0           W           44.0          W  ...        71.0         22.0   \n",
       "1         WNW           44.0        NNW  ...        44.0         25.0   \n",
       "2         WSW           46.0          W  ...        38.0         30.0   \n",
       "3          NE           24.0         SE  ...        45.0         16.0   \n",
       "4           W           41.0        ENE  ...        82.0         33.0   \n",
       "\n",
       "   Pressure9am  Pressure3pm  Cloud9am  Cloud3pm  Temp9am  Temp3pm  RainToday  \\\n",
       "0       1007.7       1007.1       8.0       NaN     16.9     21.8         No   \n",
       "1       1010.6       1007.8       NaN       NaN     17.2     24.3         No   \n",
       "2       1007.6       1008.7       NaN       2.0     21.0     23.2         No   \n",
       "3       1017.6       1012.8       NaN       NaN     18.1     26.5         No   \n",
       "4       1010.8       1006.0       7.0       8.0     17.8     29.7         No   \n",
       "\n",
       "   RainTomorrow  \n",
       "0             0  \n",
       "1             0  \n",
       "2             0  \n",
       "3             0  \n",
       "4             0  \n",
       "\n",
       "[5 rows x 23 columns]"
      ]
     },
     "execution_count": 8,
     "metadata": {},
     "output_type": "execute_result"
    }
   ],
   "source": [
    "train.head()"
   ]
  },
  {
   "attachments": {},
   "cell_type": "markdown",
   "metadata": {},
   "source": [
    "### (b)"
   ]
  },
  {
   "cell_type": "code",
   "execution_count": 9,
   "metadata": {},
   "outputs": [
    {
     "data": {
      "text/plain": [
       "(Index(['Date', 'Location', 'WindGustDir', 'WindDir9am', 'WindDir3pm',\n",
       "        'RainToday'],\n",
       "       dtype='object'),\n",
       " Index(['Date', 'Location', 'WindGustDir', 'WindDir9am', 'WindDir3pm',\n",
       "        'RainToday'],\n",
       "       dtype='object'))"
      ]
     },
     "execution_count": 9,
     "metadata": {},
     "output_type": "execute_result"
    }
   ],
   "source": [
    "object_cols_train = train.columns[train.dtypes == \"object\"]\n",
    "object_cols_test = test.columns[test.dtypes == \"object\"]\n",
    "\n",
    "object_cols_train, object_cols_test"
   ]
  },
  {
   "attachments": {},
   "cell_type": "markdown",
   "metadata": {},
   "source": [
    "These are the `object` columns. We'll drop them:"
   ]
  },
  {
   "cell_type": "code",
   "execution_count": 10,
   "metadata": {},
   "outputs": [],
   "source": [
    "train.drop(object_cols_train, axis=1, inplace=True)\n",
    "test.drop(object_cols_test, axis=1, inplace=True)"
   ]
  },
  {
   "cell_type": "code",
   "execution_count": 11,
   "metadata": {},
   "outputs": [
    {
     "data": {
      "text/html": [
       "<div>\n",
       "<style scoped>\n",
       "    .dataframe tbody tr th:only-of-type {\n",
       "        vertical-align: middle;\n",
       "    }\n",
       "\n",
       "    .dataframe tbody tr th {\n",
       "        vertical-align: top;\n",
       "    }\n",
       "\n",
       "    .dataframe thead th {\n",
       "        text-align: right;\n",
       "    }\n",
       "</style>\n",
       "<table border=\"1\" class=\"dataframe\">\n",
       "  <thead>\n",
       "    <tr style=\"text-align: right;\">\n",
       "      <th></th>\n",
       "      <th>MinTemp</th>\n",
       "      <th>MaxTemp</th>\n",
       "      <th>Rainfall</th>\n",
       "      <th>Evaporation</th>\n",
       "      <th>Sunshine</th>\n",
       "      <th>WindGustSpeed</th>\n",
       "      <th>WindSpeed9am</th>\n",
       "      <th>WindSpeed3pm</th>\n",
       "      <th>Humidity9am</th>\n",
       "      <th>Humidity3pm</th>\n",
       "      <th>Pressure9am</th>\n",
       "      <th>Pressure3pm</th>\n",
       "      <th>Cloud9am</th>\n",
       "      <th>Cloud3pm</th>\n",
       "      <th>Temp9am</th>\n",
       "      <th>Temp3pm</th>\n",
       "      <th>RainTomorrow</th>\n",
       "    </tr>\n",
       "  </thead>\n",
       "  <tbody>\n",
       "    <tr>\n",
       "      <th>0</th>\n",
       "      <td>13.4</td>\n",
       "      <td>22.9</td>\n",
       "      <td>0.6</td>\n",
       "      <td>NaN</td>\n",
       "      <td>NaN</td>\n",
       "      <td>44.0</td>\n",
       "      <td>20.0</td>\n",
       "      <td>24.0</td>\n",
       "      <td>71.0</td>\n",
       "      <td>22.0</td>\n",
       "      <td>1007.7</td>\n",
       "      <td>1007.1</td>\n",
       "      <td>8.0</td>\n",
       "      <td>NaN</td>\n",
       "      <td>16.9</td>\n",
       "      <td>21.8</td>\n",
       "      <td>0</td>\n",
       "    </tr>\n",
       "    <tr>\n",
       "      <th>1</th>\n",
       "      <td>7.4</td>\n",
       "      <td>25.1</td>\n",
       "      <td>0.0</td>\n",
       "      <td>NaN</td>\n",
       "      <td>NaN</td>\n",
       "      <td>44.0</td>\n",
       "      <td>4.0</td>\n",
       "      <td>22.0</td>\n",
       "      <td>44.0</td>\n",
       "      <td>25.0</td>\n",
       "      <td>1010.6</td>\n",
       "      <td>1007.8</td>\n",
       "      <td>NaN</td>\n",
       "      <td>NaN</td>\n",
       "      <td>17.2</td>\n",
       "      <td>24.3</td>\n",
       "      <td>0</td>\n",
       "    </tr>\n",
       "    <tr>\n",
       "      <th>2</th>\n",
       "      <td>12.9</td>\n",
       "      <td>25.7</td>\n",
       "      <td>0.0</td>\n",
       "      <td>NaN</td>\n",
       "      <td>NaN</td>\n",
       "      <td>46.0</td>\n",
       "      <td>19.0</td>\n",
       "      <td>26.0</td>\n",
       "      <td>38.0</td>\n",
       "      <td>30.0</td>\n",
       "      <td>1007.6</td>\n",
       "      <td>1008.7</td>\n",
       "      <td>NaN</td>\n",
       "      <td>2.0</td>\n",
       "      <td>21.0</td>\n",
       "      <td>23.2</td>\n",
       "      <td>0</td>\n",
       "    </tr>\n",
       "    <tr>\n",
       "      <th>3</th>\n",
       "      <td>9.2</td>\n",
       "      <td>28.0</td>\n",
       "      <td>0.0</td>\n",
       "      <td>NaN</td>\n",
       "      <td>NaN</td>\n",
       "      <td>24.0</td>\n",
       "      <td>11.0</td>\n",
       "      <td>9.0</td>\n",
       "      <td>45.0</td>\n",
       "      <td>16.0</td>\n",
       "      <td>1017.6</td>\n",
       "      <td>1012.8</td>\n",
       "      <td>NaN</td>\n",
       "      <td>NaN</td>\n",
       "      <td>18.1</td>\n",
       "      <td>26.5</td>\n",
       "      <td>0</td>\n",
       "    </tr>\n",
       "    <tr>\n",
       "      <th>4</th>\n",
       "      <td>17.5</td>\n",
       "      <td>32.3</td>\n",
       "      <td>1.0</td>\n",
       "      <td>NaN</td>\n",
       "      <td>NaN</td>\n",
       "      <td>41.0</td>\n",
       "      <td>7.0</td>\n",
       "      <td>20.0</td>\n",
       "      <td>82.0</td>\n",
       "      <td>33.0</td>\n",
       "      <td>1010.8</td>\n",
       "      <td>1006.0</td>\n",
       "      <td>7.0</td>\n",
       "      <td>8.0</td>\n",
       "      <td>17.8</td>\n",
       "      <td>29.7</td>\n",
       "      <td>0</td>\n",
       "    </tr>\n",
       "  </tbody>\n",
       "</table>\n",
       "</div>"
      ],
      "text/plain": [
       "   MinTemp  MaxTemp  Rainfall  Evaporation  Sunshine  WindGustSpeed  \\\n",
       "0     13.4     22.9       0.6          NaN       NaN           44.0   \n",
       "1      7.4     25.1       0.0          NaN       NaN           44.0   \n",
       "2     12.9     25.7       0.0          NaN       NaN           46.0   \n",
       "3      9.2     28.0       0.0          NaN       NaN           24.0   \n",
       "4     17.5     32.3       1.0          NaN       NaN           41.0   \n",
       "\n",
       "   WindSpeed9am  WindSpeed3pm  Humidity9am  Humidity3pm  Pressure9am  \\\n",
       "0          20.0          24.0         71.0         22.0       1007.7   \n",
       "1           4.0          22.0         44.0         25.0       1010.6   \n",
       "2          19.0          26.0         38.0         30.0       1007.6   \n",
       "3          11.0           9.0         45.0         16.0       1017.6   \n",
       "4           7.0          20.0         82.0         33.0       1010.8   \n",
       "\n",
       "   Pressure3pm  Cloud9am  Cloud3pm  Temp9am  Temp3pm  RainTomorrow  \n",
       "0       1007.1       8.0       NaN     16.9     21.8             0  \n",
       "1       1007.8       NaN       NaN     17.2     24.3             0  \n",
       "2       1008.7       NaN       2.0     21.0     23.2             0  \n",
       "3       1012.8       NaN       NaN     18.1     26.5             0  \n",
       "4       1006.0       7.0       8.0     17.8     29.7             0  "
      ]
     },
     "execution_count": 11,
     "metadata": {},
     "output_type": "execute_result"
    }
   ],
   "source": [
    "train.head()"
   ]
  },
  {
   "attachments": {},
   "cell_type": "markdown",
   "metadata": {},
   "source": [
    "### (c)"
   ]
  },
  {
   "attachments": {},
   "cell_type": "markdown",
   "metadata": {},
   "source": [
    "Let's print some of the cells which are Null:"
   ]
  },
  {
   "cell_type": "code",
   "execution_count": 12,
   "metadata": {},
   "outputs": [
    {
     "data": {
      "text/html": [
       "<div>\n",
       "<style scoped>\n",
       "    .dataframe tbody tr th:only-of-type {\n",
       "        vertical-align: middle;\n",
       "    }\n",
       "\n",
       "    .dataframe tbody tr th {\n",
       "        vertical-align: top;\n",
       "    }\n",
       "\n",
       "    .dataframe thead th {\n",
       "        text-align: right;\n",
       "    }\n",
       "</style>\n",
       "<table border=\"1\" class=\"dataframe\">\n",
       "  <thead>\n",
       "    <tr style=\"text-align: right;\">\n",
       "      <th></th>\n",
       "      <th>MinTemp</th>\n",
       "      <th>MaxTemp</th>\n",
       "      <th>Rainfall</th>\n",
       "      <th>Evaporation</th>\n",
       "      <th>Sunshine</th>\n",
       "      <th>WindGustSpeed</th>\n",
       "      <th>WindSpeed9am</th>\n",
       "      <th>WindSpeed3pm</th>\n",
       "      <th>Humidity9am</th>\n",
       "      <th>Humidity3pm</th>\n",
       "      <th>Pressure9am</th>\n",
       "      <th>Pressure3pm</th>\n",
       "      <th>Cloud9am</th>\n",
       "      <th>Cloud3pm</th>\n",
       "      <th>Temp9am</th>\n",
       "      <th>Temp3pm</th>\n",
       "      <th>RainTomorrow</th>\n",
       "    </tr>\n",
       "  </thead>\n",
       "  <tbody>\n",
       "    <tr>\n",
       "      <th>0</th>\n",
       "      <td>NaN</td>\n",
       "      <td>NaN</td>\n",
       "      <td>NaN</td>\n",
       "      <td>NaN</td>\n",
       "      <td>NaN</td>\n",
       "      <td>NaN</td>\n",
       "      <td>NaN</td>\n",
       "      <td>NaN</td>\n",
       "      <td>NaN</td>\n",
       "      <td>NaN</td>\n",
       "      <td>NaN</td>\n",
       "      <td>NaN</td>\n",
       "      <td>NaN</td>\n",
       "      <td>NaN</td>\n",
       "      <td>NaN</td>\n",
       "      <td>NaN</td>\n",
       "      <td>NaN</td>\n",
       "    </tr>\n",
       "    <tr>\n",
       "      <th>1</th>\n",
       "      <td>NaN</td>\n",
       "      <td>NaN</td>\n",
       "      <td>NaN</td>\n",
       "      <td>NaN</td>\n",
       "      <td>NaN</td>\n",
       "      <td>NaN</td>\n",
       "      <td>NaN</td>\n",
       "      <td>NaN</td>\n",
       "      <td>NaN</td>\n",
       "      <td>NaN</td>\n",
       "      <td>NaN</td>\n",
       "      <td>NaN</td>\n",
       "      <td>NaN</td>\n",
       "      <td>NaN</td>\n",
       "      <td>NaN</td>\n",
       "      <td>NaN</td>\n",
       "      <td>NaN</td>\n",
       "    </tr>\n",
       "    <tr>\n",
       "      <th>2</th>\n",
       "      <td>NaN</td>\n",
       "      <td>NaN</td>\n",
       "      <td>NaN</td>\n",
       "      <td>NaN</td>\n",
       "      <td>NaN</td>\n",
       "      <td>NaN</td>\n",
       "      <td>NaN</td>\n",
       "      <td>NaN</td>\n",
       "      <td>NaN</td>\n",
       "      <td>NaN</td>\n",
       "      <td>NaN</td>\n",
       "      <td>NaN</td>\n",
       "      <td>NaN</td>\n",
       "      <td>NaN</td>\n",
       "      <td>NaN</td>\n",
       "      <td>NaN</td>\n",
       "      <td>NaN</td>\n",
       "    </tr>\n",
       "    <tr>\n",
       "      <th>3</th>\n",
       "      <td>NaN</td>\n",
       "      <td>NaN</td>\n",
       "      <td>NaN</td>\n",
       "      <td>NaN</td>\n",
       "      <td>NaN</td>\n",
       "      <td>NaN</td>\n",
       "      <td>NaN</td>\n",
       "      <td>NaN</td>\n",
       "      <td>NaN</td>\n",
       "      <td>NaN</td>\n",
       "      <td>NaN</td>\n",
       "      <td>NaN</td>\n",
       "      <td>NaN</td>\n",
       "      <td>NaN</td>\n",
       "      <td>NaN</td>\n",
       "      <td>NaN</td>\n",
       "      <td>NaN</td>\n",
       "    </tr>\n",
       "    <tr>\n",
       "      <th>4</th>\n",
       "      <td>NaN</td>\n",
       "      <td>NaN</td>\n",
       "      <td>NaN</td>\n",
       "      <td>NaN</td>\n",
       "      <td>NaN</td>\n",
       "      <td>NaN</td>\n",
       "      <td>NaN</td>\n",
       "      <td>NaN</td>\n",
       "      <td>NaN</td>\n",
       "      <td>NaN</td>\n",
       "      <td>NaN</td>\n",
       "      <td>NaN</td>\n",
       "      <td>NaN</td>\n",
       "      <td>NaN</td>\n",
       "      <td>NaN</td>\n",
       "      <td>NaN</td>\n",
       "      <td>NaN</td>\n",
       "    </tr>\n",
       "    <tr>\n",
       "      <th>...</th>\n",
       "      <td>...</td>\n",
       "      <td>...</td>\n",
       "      <td>...</td>\n",
       "      <td>...</td>\n",
       "      <td>...</td>\n",
       "      <td>...</td>\n",
       "      <td>...</td>\n",
       "      <td>...</td>\n",
       "      <td>...</td>\n",
       "      <td>...</td>\n",
       "      <td>...</td>\n",
       "      <td>...</td>\n",
       "      <td>...</td>\n",
       "      <td>...</td>\n",
       "      <td>...</td>\n",
       "      <td>...</td>\n",
       "      <td>...</td>\n",
       "    </tr>\n",
       "    <tr>\n",
       "      <th>52057</th>\n",
       "      <td>NaN</td>\n",
       "      <td>NaN</td>\n",
       "      <td>NaN</td>\n",
       "      <td>NaN</td>\n",
       "      <td>NaN</td>\n",
       "      <td>NaN</td>\n",
       "      <td>NaN</td>\n",
       "      <td>NaN</td>\n",
       "      <td>NaN</td>\n",
       "      <td>NaN</td>\n",
       "      <td>NaN</td>\n",
       "      <td>NaN</td>\n",
       "      <td>NaN</td>\n",
       "      <td>NaN</td>\n",
       "      <td>NaN</td>\n",
       "      <td>NaN</td>\n",
       "      <td>NaN</td>\n",
       "    </tr>\n",
       "    <tr>\n",
       "      <th>52058</th>\n",
       "      <td>NaN</td>\n",
       "      <td>NaN</td>\n",
       "      <td>NaN</td>\n",
       "      <td>NaN</td>\n",
       "      <td>NaN</td>\n",
       "      <td>NaN</td>\n",
       "      <td>NaN</td>\n",
       "      <td>NaN</td>\n",
       "      <td>NaN</td>\n",
       "      <td>NaN</td>\n",
       "      <td>NaN</td>\n",
       "      <td>NaN</td>\n",
       "      <td>NaN</td>\n",
       "      <td>NaN</td>\n",
       "      <td>NaN</td>\n",
       "      <td>NaN</td>\n",
       "      <td>NaN</td>\n",
       "    </tr>\n",
       "    <tr>\n",
       "      <th>52059</th>\n",
       "      <td>NaN</td>\n",
       "      <td>NaN</td>\n",
       "      <td>NaN</td>\n",
       "      <td>NaN</td>\n",
       "      <td>NaN</td>\n",
       "      <td>NaN</td>\n",
       "      <td>NaN</td>\n",
       "      <td>NaN</td>\n",
       "      <td>NaN</td>\n",
       "      <td>NaN</td>\n",
       "      <td>NaN</td>\n",
       "      <td>NaN</td>\n",
       "      <td>NaN</td>\n",
       "      <td>NaN</td>\n",
       "      <td>NaN</td>\n",
       "      <td>NaN</td>\n",
       "      <td>NaN</td>\n",
       "    </tr>\n",
       "    <tr>\n",
       "      <th>52060</th>\n",
       "      <td>NaN</td>\n",
       "      <td>NaN</td>\n",
       "      <td>NaN</td>\n",
       "      <td>NaN</td>\n",
       "      <td>NaN</td>\n",
       "      <td>NaN</td>\n",
       "      <td>NaN</td>\n",
       "      <td>NaN</td>\n",
       "      <td>NaN</td>\n",
       "      <td>NaN</td>\n",
       "      <td>NaN</td>\n",
       "      <td>NaN</td>\n",
       "      <td>NaN</td>\n",
       "      <td>NaN</td>\n",
       "      <td>NaN</td>\n",
       "      <td>NaN</td>\n",
       "      <td>NaN</td>\n",
       "    </tr>\n",
       "    <tr>\n",
       "      <th>52061</th>\n",
       "      <td>NaN</td>\n",
       "      <td>NaN</td>\n",
       "      <td>NaN</td>\n",
       "      <td>NaN</td>\n",
       "      <td>NaN</td>\n",
       "      <td>NaN</td>\n",
       "      <td>NaN</td>\n",
       "      <td>NaN</td>\n",
       "      <td>NaN</td>\n",
       "      <td>NaN</td>\n",
       "      <td>NaN</td>\n",
       "      <td>NaN</td>\n",
       "      <td>NaN</td>\n",
       "      <td>NaN</td>\n",
       "      <td>NaN</td>\n",
       "      <td>NaN</td>\n",
       "      <td>NaN</td>\n",
       "    </tr>\n",
       "  </tbody>\n",
       "</table>\n",
       "<p>52062 rows × 17 columns</p>\n",
       "</div>"
      ],
      "text/plain": [
       "       MinTemp  MaxTemp  Rainfall  Evaporation  Sunshine  WindGustSpeed  \\\n",
       "0          NaN      NaN       NaN          NaN       NaN            NaN   \n",
       "1          NaN      NaN       NaN          NaN       NaN            NaN   \n",
       "2          NaN      NaN       NaN          NaN       NaN            NaN   \n",
       "3          NaN      NaN       NaN          NaN       NaN            NaN   \n",
       "4          NaN      NaN       NaN          NaN       NaN            NaN   \n",
       "...        ...      ...       ...          ...       ...            ...   \n",
       "52057      NaN      NaN       NaN          NaN       NaN            NaN   \n",
       "52058      NaN      NaN       NaN          NaN       NaN            NaN   \n",
       "52059      NaN      NaN       NaN          NaN       NaN            NaN   \n",
       "52060      NaN      NaN       NaN          NaN       NaN            NaN   \n",
       "52061      NaN      NaN       NaN          NaN       NaN            NaN   \n",
       "\n",
       "       WindSpeed9am  WindSpeed3pm  Humidity9am  Humidity3pm  Pressure9am  \\\n",
       "0               NaN           NaN          NaN          NaN          NaN   \n",
       "1               NaN           NaN          NaN          NaN          NaN   \n",
       "2               NaN           NaN          NaN          NaN          NaN   \n",
       "3               NaN           NaN          NaN          NaN          NaN   \n",
       "4               NaN           NaN          NaN          NaN          NaN   \n",
       "...             ...           ...          ...          ...          ...   \n",
       "52057           NaN           NaN          NaN          NaN          NaN   \n",
       "52058           NaN           NaN          NaN          NaN          NaN   \n",
       "52059           NaN           NaN          NaN          NaN          NaN   \n",
       "52060           NaN           NaN          NaN          NaN          NaN   \n",
       "52061           NaN           NaN          NaN          NaN          NaN   \n",
       "\n",
       "       Pressure3pm  Cloud9am  Cloud3pm  Temp9am  Temp3pm  RainTomorrow  \n",
       "0              NaN       NaN       NaN      NaN      NaN           NaN  \n",
       "1              NaN       NaN       NaN      NaN      NaN           NaN  \n",
       "2              NaN       NaN       NaN      NaN      NaN           NaN  \n",
       "3              NaN       NaN       NaN      NaN      NaN           NaN  \n",
       "4              NaN       NaN       NaN      NaN      NaN           NaN  \n",
       "...            ...       ...       ...      ...      ...           ...  \n",
       "52057          NaN       NaN       NaN      NaN      NaN           NaN  \n",
       "52058          NaN       NaN       NaN      NaN      NaN           NaN  \n",
       "52059          NaN       NaN       NaN      NaN      NaN           NaN  \n",
       "52060          NaN       NaN       NaN      NaN      NaN           NaN  \n",
       "52061          NaN       NaN       NaN      NaN      NaN           NaN  \n",
       "\n",
       "[52062 rows x 17 columns]"
      ]
     },
     "execution_count": 12,
     "metadata": {},
     "output_type": "execute_result"
    }
   ],
   "source": [
    "train[train.isna()]"
   ]
  },
  {
   "attachments": {},
   "cell_type": "markdown",
   "metadata": {},
   "source": [
    "These are all the cells with null values. We'll fill them by means."
   ]
  },
  {
   "cell_type": "code",
   "execution_count": 13,
   "metadata": {},
   "outputs": [],
   "source": [
    "cols = train.columns\n",
    "\n",
    "for col in cols:\n",
    "    train[col] = train[col].fillna(train[col].mean())\n",
    "    test[col] = test[col].fillna(test[col].mean())"
   ]
  },
  {
   "cell_type": "code",
   "execution_count": 14,
   "metadata": {},
   "outputs": [
    {
     "data": {
      "text/plain": [
       "MinTemp          0\n",
       "MaxTemp          0\n",
       "Rainfall         0\n",
       "Evaporation      0\n",
       "Sunshine         0\n",
       "WindGustSpeed    0\n",
       "WindSpeed9am     0\n",
       "WindSpeed3pm     0\n",
       "Humidity9am      0\n",
       "Humidity3pm      0\n",
       "Pressure9am      0\n",
       "Pressure3pm      0\n",
       "Cloud9am         0\n",
       "Cloud3pm         0\n",
       "Temp9am          0\n",
       "Temp3pm          0\n",
       "RainTomorrow     0\n",
       "dtype: int64"
      ]
     },
     "execution_count": 14,
     "metadata": {},
     "output_type": "execute_result"
    }
   ],
   "source": [
    "train.isna().sum()"
   ]
  },
  {
   "cell_type": "code",
   "execution_count": 15,
   "metadata": {},
   "outputs": [
    {
     "data": {
      "text/plain": [
       "MinTemp          0\n",
       "MaxTemp          0\n",
       "Rainfall         0\n",
       "Evaporation      0\n",
       "Sunshine         0\n",
       "WindGustSpeed    0\n",
       "WindSpeed9am     0\n",
       "WindSpeed3pm     0\n",
       "Humidity9am      0\n",
       "Humidity3pm      0\n",
       "Pressure9am      0\n",
       "Pressure3pm      0\n",
       "Cloud9am         0\n",
       "Cloud3pm         0\n",
       "Temp9am          0\n",
       "Temp3pm          0\n",
       "RainTomorrow     0\n",
       "dtype: int64"
      ]
     },
     "execution_count": 15,
     "metadata": {},
     "output_type": "execute_result"
    }
   ],
   "source": [
    "test.isna().sum()"
   ]
  },
  {
   "attachments": {},
   "cell_type": "markdown",
   "metadata": {},
   "source": [
    "We see that there are no null values!"
   ]
  },
  {
   "attachments": {},
   "cell_type": "markdown",
   "metadata": {},
   "source": [
    "### (d)"
   ]
  },
  {
   "attachments": {},
   "cell_type": "markdown",
   "metadata": {},
   "source": [
    "Let's make sure that all the columns are numerical:"
   ]
  },
  {
   "cell_type": "code",
   "execution_count": 16,
   "metadata": {},
   "outputs": [
    {
     "data": {
      "text/plain": [
       "MinTemp          float64\n",
       "MaxTemp          float64\n",
       "Rainfall         float64\n",
       "Evaporation      float64\n",
       "Sunshine         float64\n",
       "WindGustSpeed    float64\n",
       "WindSpeed9am     float64\n",
       "WindSpeed3pm     float64\n",
       "Humidity9am      float64\n",
       "Humidity3pm      float64\n",
       "Pressure9am      float64\n",
       "Pressure3pm      float64\n",
       "Cloud9am         float64\n",
       "Cloud3pm         float64\n",
       "Temp9am          float64\n",
       "Temp3pm          float64\n",
       "RainTomorrow       int64\n",
       "dtype: object"
      ]
     },
     "execution_count": 16,
     "metadata": {},
     "output_type": "execute_result"
    }
   ],
   "source": [
    "train.dtypes"
   ]
  },
  {
   "attachments": {},
   "cell_type": "markdown",
   "metadata": {},
   "source": [
    "They are! Next, let's normalize the columns by:\n",
    "\n",
    "$$\n",
    "   X_{norm} = \\frac{X - min(X)}{max(X) - min(X)}\n",
    "$$"
   ]
  },
  {
   "cell_type": "code",
   "execution_count": 18,
   "metadata": {},
   "outputs": [],
   "source": [
    "def scale_one(col, df):\n",
    "    minimum = df[col].min()\n",
    "    maximum = df[col].max()\n",
    "    return (df[col]-minimum)/(maximum-minimum)"
   ]
  },
  {
   "cell_type": "code",
   "execution_count": 19,
   "metadata": {},
   "outputs": [],
   "source": [
    "cols = train.columns\n",
    "\n",
    "for col in cols:\n",
    "   train[col] = scale_one(col, train)\n",
    "   test[col] = scale_one(col, test)"
   ]
  },
  {
   "cell_type": "code",
   "execution_count": 20,
   "metadata": {},
   "outputs": [
    {
     "name": "stdout",
     "output_type": "stream",
     "text": [
      "MinTemp Max 1.0 1.0\n",
      "MinTemp Min 0.0 0.0\n",
      "MaxTemp Max 1.0 1.0\n",
      "MaxTemp Min 0.0 0.0\n",
      "Rainfall Max 1.0 1.0\n",
      "Rainfall Min 0.0 0.0\n",
      "Evaporation Max 1.0 1.0\n",
      "Evaporation Min 0.0 0.0\n",
      "Sunshine Max 1.0 1.0\n",
      "Sunshine Min 0.0 0.0\n",
      "WindGustSpeed Max 1.0 1.0\n",
      "WindGustSpeed Min 0.0 0.0\n",
      "WindSpeed9am Max 1.0 1.0\n",
      "WindSpeed9am Min 0.0 0.0\n",
      "WindSpeed3pm Max 1.0 1.0\n",
      "WindSpeed3pm Min 0.0 0.0\n",
      "Humidity9am Max 1.0 1.0\n",
      "Humidity9am Min 0.0 0.0\n",
      "Humidity3pm Max 1.0 1.0\n",
      "Humidity3pm Min 0.0 0.0\n",
      "Pressure9am Max 1.0 1.0\n",
      "Pressure9am Min 0.0 0.0\n",
      "Pressure3pm Max 1.0 1.0\n",
      "Pressure3pm Min 0.0 0.0\n",
      "Cloud9am Max 1.0 1.0\n",
      "Cloud9am Min 0.0 0.0\n",
      "Cloud3pm Max 1.0 1.0\n",
      "Cloud3pm Min 0.0 0.0\n",
      "Temp9am Max 1.0 1.0\n",
      "Temp9am Min 0.0 0.0\n",
      "Temp3pm Max 1.0 1.0\n",
      "Temp3pm Min 0.0 0.0\n",
      "RainTomorrow Max 1.0 1.0\n",
      "RainTomorrow Min 0.0 0.0\n"
     ]
    }
   ],
   "source": [
    "for col in cols:\n",
    "    print(col, \"Max\", max(train[col]), max(test[col]))\n",
    "    print(col, \"Min\", min(train[col]), min(test[col]))"
   ]
  },
  {
   "attachments": {},
   "cell_type": "markdown",
   "metadata": {},
   "source": [
    "Now, all values are between 0 and 1."
   ]
  },
  {
   "cell_type": "code",
   "execution_count": 21,
   "metadata": {},
   "outputs": [
    {
     "data": {
      "text/html": [
       "<div>\n",
       "<style scoped>\n",
       "    .dataframe tbody tr th:only-of-type {\n",
       "        vertical-align: middle;\n",
       "    }\n",
       "\n",
       "    .dataframe tbody tr th {\n",
       "        vertical-align: top;\n",
       "    }\n",
       "\n",
       "    .dataframe thead th {\n",
       "        text-align: right;\n",
       "    }\n",
       "</style>\n",
       "<table border=\"1\" class=\"dataframe\">\n",
       "  <thead>\n",
       "    <tr style=\"text-align: right;\">\n",
       "      <th></th>\n",
       "      <th>MinTemp</th>\n",
       "      <th>MaxTemp</th>\n",
       "      <th>Rainfall</th>\n",
       "      <th>Evaporation</th>\n",
       "      <th>Sunshine</th>\n",
       "      <th>WindGustSpeed</th>\n",
       "      <th>WindSpeed9am</th>\n",
       "      <th>WindSpeed3pm</th>\n",
       "      <th>Humidity9am</th>\n",
       "      <th>Humidity3pm</th>\n",
       "      <th>Pressure9am</th>\n",
       "      <th>Pressure3pm</th>\n",
       "      <th>Cloud9am</th>\n",
       "      <th>Cloud3pm</th>\n",
       "      <th>Temp9am</th>\n",
       "      <th>Temp3pm</th>\n",
       "      <th>RainTomorrow</th>\n",
       "    </tr>\n",
       "  </thead>\n",
       "  <tbody>\n",
       "    <tr>\n",
       "      <th>0</th>\n",
       "      <td>0.569921</td>\n",
       "      <td>0.454139</td>\n",
       "      <td>0.001617</td>\n",
       "      <td>0.038129</td>\n",
       "      <td>0.536788</td>\n",
       "      <td>0.289062</td>\n",
       "      <td>0.153846</td>\n",
       "      <td>0.289157</td>\n",
       "      <td>0.701031</td>\n",
       "      <td>0.212121</td>\n",
       "      <td>0.452579</td>\n",
       "      <td>0.477080</td>\n",
       "      <td>0.888889</td>\n",
       "      <td>0.560902</td>\n",
       "      <td>0.490196</td>\n",
       "      <td>0.439189</td>\n",
       "      <td>0.0</td>\n",
       "    </tr>\n",
       "    <tr>\n",
       "      <th>1</th>\n",
       "      <td>0.411609</td>\n",
       "      <td>0.503356</td>\n",
       "      <td>0.000000</td>\n",
       "      <td>0.038129</td>\n",
       "      <td>0.536788</td>\n",
       "      <td>0.289062</td>\n",
       "      <td>0.030769</td>\n",
       "      <td>0.265060</td>\n",
       "      <td>0.422680</td>\n",
       "      <td>0.242424</td>\n",
       "      <td>0.500832</td>\n",
       "      <td>0.488964</td>\n",
       "      <td>0.492462</td>\n",
       "      <td>0.560902</td>\n",
       "      <td>0.497549</td>\n",
       "      <td>0.495495</td>\n",
       "      <td>0.0</td>\n",
       "    </tr>\n",
       "    <tr>\n",
       "      <th>2</th>\n",
       "      <td>0.556728</td>\n",
       "      <td>0.516779</td>\n",
       "      <td>0.000000</td>\n",
       "      <td>0.038129</td>\n",
       "      <td>0.536788</td>\n",
       "      <td>0.304688</td>\n",
       "      <td>0.146154</td>\n",
       "      <td>0.313253</td>\n",
       "      <td>0.360825</td>\n",
       "      <td>0.292929</td>\n",
       "      <td>0.450915</td>\n",
       "      <td>0.504244</td>\n",
       "      <td>0.492462</td>\n",
       "      <td>0.250000</td>\n",
       "      <td>0.590686</td>\n",
       "      <td>0.470721</td>\n",
       "      <td>0.0</td>\n",
       "    </tr>\n",
       "    <tr>\n",
       "      <th>3</th>\n",
       "      <td>0.459103</td>\n",
       "      <td>0.568233</td>\n",
       "      <td>0.000000</td>\n",
       "      <td>0.038129</td>\n",
       "      <td>0.536788</td>\n",
       "      <td>0.132812</td>\n",
       "      <td>0.084615</td>\n",
       "      <td>0.108434</td>\n",
       "      <td>0.432990</td>\n",
       "      <td>0.151515</td>\n",
       "      <td>0.617304</td>\n",
       "      <td>0.573854</td>\n",
       "      <td>0.492462</td>\n",
       "      <td>0.560902</td>\n",
       "      <td>0.519608</td>\n",
       "      <td>0.545045</td>\n",
       "      <td>0.0</td>\n",
       "    </tr>\n",
       "    <tr>\n",
       "      <th>4</th>\n",
       "      <td>0.678100</td>\n",
       "      <td>0.664430</td>\n",
       "      <td>0.002695</td>\n",
       "      <td>0.038129</td>\n",
       "      <td>0.536788</td>\n",
       "      <td>0.265625</td>\n",
       "      <td>0.053846</td>\n",
       "      <td>0.240964</td>\n",
       "      <td>0.814433</td>\n",
       "      <td>0.323232</td>\n",
       "      <td>0.504160</td>\n",
       "      <td>0.458404</td>\n",
       "      <td>0.777778</td>\n",
       "      <td>1.000000</td>\n",
       "      <td>0.512255</td>\n",
       "      <td>0.617117</td>\n",
       "      <td>0.0</td>\n",
       "    </tr>\n",
       "  </tbody>\n",
       "</table>\n",
       "</div>"
      ],
      "text/plain": [
       "    MinTemp   MaxTemp  Rainfall  Evaporation  Sunshine  WindGustSpeed  \\\n",
       "0  0.569921  0.454139  0.001617     0.038129  0.536788       0.289062   \n",
       "1  0.411609  0.503356  0.000000     0.038129  0.536788       0.289062   \n",
       "2  0.556728  0.516779  0.000000     0.038129  0.536788       0.304688   \n",
       "3  0.459103  0.568233  0.000000     0.038129  0.536788       0.132812   \n",
       "4  0.678100  0.664430  0.002695     0.038129  0.536788       0.265625   \n",
       "\n",
       "   WindSpeed9am  WindSpeed3pm  Humidity9am  Humidity3pm  Pressure9am  \\\n",
       "0      0.153846      0.289157     0.701031     0.212121     0.452579   \n",
       "1      0.030769      0.265060     0.422680     0.242424     0.500832   \n",
       "2      0.146154      0.313253     0.360825     0.292929     0.450915   \n",
       "3      0.084615      0.108434     0.432990     0.151515     0.617304   \n",
       "4      0.053846      0.240964     0.814433     0.323232     0.504160   \n",
       "\n",
       "   Pressure3pm  Cloud9am  Cloud3pm   Temp9am   Temp3pm  RainTomorrow  \n",
       "0     0.477080  0.888889  0.560902  0.490196  0.439189           0.0  \n",
       "1     0.488964  0.492462  0.560902  0.497549  0.495495           0.0  \n",
       "2     0.504244  0.492462  0.250000  0.590686  0.470721           0.0  \n",
       "3     0.573854  0.492462  0.560902  0.519608  0.545045           0.0  \n",
       "4     0.458404  0.777778  1.000000  0.512255  0.617117           0.0  "
      ]
     },
     "execution_count": 21,
     "metadata": {},
     "output_type": "execute_result"
    }
   ],
   "source": [
    "train.head()"
   ]
  },
  {
   "cell_type": "code",
   "execution_count": 22,
   "metadata": {},
   "outputs": [
    {
     "data": {
      "text/html": [
       "<div>\n",
       "<style scoped>\n",
       "    .dataframe tbody tr th:only-of-type {\n",
       "        vertical-align: middle;\n",
       "    }\n",
       "\n",
       "    .dataframe tbody tr th {\n",
       "        vertical-align: top;\n",
       "    }\n",
       "\n",
       "    .dataframe thead th {\n",
       "        text-align: right;\n",
       "    }\n",
       "</style>\n",
       "<table border=\"1\" class=\"dataframe\">\n",
       "  <thead>\n",
       "    <tr style=\"text-align: right;\">\n",
       "      <th></th>\n",
       "      <th>MinTemp</th>\n",
       "      <th>MaxTemp</th>\n",
       "      <th>Rainfall</th>\n",
       "      <th>Evaporation</th>\n",
       "      <th>Sunshine</th>\n",
       "      <th>WindGustSpeed</th>\n",
       "      <th>WindSpeed9am</th>\n",
       "      <th>WindSpeed3pm</th>\n",
       "      <th>Humidity9am</th>\n",
       "      <th>Humidity3pm</th>\n",
       "      <th>Pressure9am</th>\n",
       "      <th>Pressure3pm</th>\n",
       "      <th>Cloud9am</th>\n",
       "      <th>Cloud3pm</th>\n",
       "      <th>Temp9am</th>\n",
       "      <th>Temp3pm</th>\n",
       "      <th>RainTomorrow</th>\n",
       "    </tr>\n",
       "  </thead>\n",
       "  <tbody>\n",
       "    <tr>\n",
       "      <th>0</th>\n",
       "      <td>0.664835</td>\n",
       "      <td>0.954198</td>\n",
       "      <td>0.0</td>\n",
       "      <td>0.121439</td>\n",
       "      <td>0.922535</td>\n",
       "      <td>0.387097</td>\n",
       "      <td>0.412698</td>\n",
       "      <td>0.238095</td>\n",
       "      <td>0.262626</td>\n",
       "      <td>0.090909</td>\n",
       "      <td>0.567753</td>\n",
       "      <td>0.5216</td>\n",
       "      <td>0.472588</td>\n",
       "      <td>0.491987</td>\n",
       "      <td>0.788235</td>\n",
       "      <td>0.955882</td>\n",
       "      <td>0.0</td>\n",
       "    </tr>\n",
       "    <tr>\n",
       "      <th>1</th>\n",
       "      <td>1.000000</td>\n",
       "      <td>0.949109</td>\n",
       "      <td>0.0</td>\n",
       "      <td>0.121439</td>\n",
       "      <td>0.859155</td>\n",
       "      <td>0.387097</td>\n",
       "      <td>0.492063</td>\n",
       "      <td>0.476190</td>\n",
       "      <td>0.090909</td>\n",
       "      <td>0.212121</td>\n",
       "      <td>0.437393</td>\n",
       "      <td>0.4912</td>\n",
       "      <td>0.472588</td>\n",
       "      <td>0.491987</td>\n",
       "      <td>1.000000</td>\n",
       "      <td>0.781863</td>\n",
       "      <td>0.0</td>\n",
       "    </tr>\n",
       "    <tr>\n",
       "      <th>2</th>\n",
       "      <td>0.673077</td>\n",
       "      <td>0.592875</td>\n",
       "      <td>0.0</td>\n",
       "      <td>0.121439</td>\n",
       "      <td>0.661972</td>\n",
       "      <td>0.322581</td>\n",
       "      <td>0.349206</td>\n",
       "      <td>0.444444</td>\n",
       "      <td>0.626263</td>\n",
       "      <td>0.424242</td>\n",
       "      <td>0.492281</td>\n",
       "      <td>0.5184</td>\n",
       "      <td>0.875000</td>\n",
       "      <td>0.250000</td>\n",
       "      <td>0.600000</td>\n",
       "      <td>0.580882</td>\n",
       "      <td>0.0</td>\n",
       "    </tr>\n",
       "    <tr>\n",
       "      <th>3</th>\n",
       "      <td>0.527473</td>\n",
       "      <td>0.577608</td>\n",
       "      <td>0.0</td>\n",
       "      <td>0.121439</td>\n",
       "      <td>0.922535</td>\n",
       "      <td>0.306452</td>\n",
       "      <td>0.269841</td>\n",
       "      <td>0.476190</td>\n",
       "      <td>0.424242</td>\n",
       "      <td>0.282828</td>\n",
       "      <td>0.514580</td>\n",
       "      <td>0.5184</td>\n",
       "      <td>0.000000</td>\n",
       "      <td>0.000000</td>\n",
       "      <td>0.595294</td>\n",
       "      <td>0.615196</td>\n",
       "      <td>0.0</td>\n",
       "    </tr>\n",
       "    <tr>\n",
       "      <th>4</th>\n",
       "      <td>0.491758</td>\n",
       "      <td>0.531807</td>\n",
       "      <td>0.0</td>\n",
       "      <td>0.121439</td>\n",
       "      <td>0.873239</td>\n",
       "      <td>0.354839</td>\n",
       "      <td>0.174603</td>\n",
       "      <td>0.492063</td>\n",
       "      <td>0.474747</td>\n",
       "      <td>0.333333</td>\n",
       "      <td>0.449400</td>\n",
       "      <td>0.5008</td>\n",
       "      <td>0.125000</td>\n",
       "      <td>0.375000</td>\n",
       "      <td>0.604706</td>\n",
       "      <td>0.534314</td>\n",
       "      <td>0.0</td>\n",
       "    </tr>\n",
       "  </tbody>\n",
       "</table>\n",
       "</div>"
      ],
      "text/plain": [
       "    MinTemp   MaxTemp  Rainfall  Evaporation  Sunshine  WindGustSpeed  \\\n",
       "0  0.664835  0.954198       0.0     0.121439  0.922535       0.387097   \n",
       "1  1.000000  0.949109       0.0     0.121439  0.859155       0.387097   \n",
       "2  0.673077  0.592875       0.0     0.121439  0.661972       0.322581   \n",
       "3  0.527473  0.577608       0.0     0.121439  0.922535       0.306452   \n",
       "4  0.491758  0.531807       0.0     0.121439  0.873239       0.354839   \n",
       "\n",
       "   WindSpeed9am  WindSpeed3pm  Humidity9am  Humidity3pm  Pressure9am  \\\n",
       "0      0.412698      0.238095     0.262626     0.090909     0.567753   \n",
       "1      0.492063      0.476190     0.090909     0.212121     0.437393   \n",
       "2      0.349206      0.444444     0.626263     0.424242     0.492281   \n",
       "3      0.269841      0.476190     0.424242     0.282828     0.514580   \n",
       "4      0.174603      0.492063     0.474747     0.333333     0.449400   \n",
       "\n",
       "   Pressure3pm  Cloud9am  Cloud3pm   Temp9am   Temp3pm  RainTomorrow  \n",
       "0       0.5216  0.472588  0.491987  0.788235  0.955882           0.0  \n",
       "1       0.4912  0.472588  0.491987  1.000000  0.781863           0.0  \n",
       "2       0.5184  0.875000  0.250000  0.600000  0.580882           0.0  \n",
       "3       0.5184  0.000000  0.000000  0.595294  0.615196           0.0  \n",
       "4       0.5008  0.125000  0.375000  0.604706  0.534314           0.0  "
      ]
     },
     "execution_count": 22,
     "metadata": {},
     "output_type": "execute_result"
    }
   ],
   "source": [
    "test.head()"
   ]
  },
  {
   "attachments": {},
   "cell_type": "markdown",
   "metadata": {},
   "source": [
    "## Problem 3.2"
   ]
  },
  {
   "attachments": {},
   "cell_type": "markdown",
   "metadata": {},
   "source": [
    "We have given the the formal definition of the optimization problem in the section 2.1. Here, we'll just optimize the cost function using `scipy.optimize.minimize` function."
   ]
  },
  {
   "attachments": {},
   "cell_type": "markdown",
   "metadata": {},
   "source": [
    "### Defining Some Functions"
   ]
  },
  {
   "attachments": {},
   "cell_type": "markdown",
   "metadata": {},
   "source": [
    "First, let's define some functions"
   ]
  },
  {
   "cell_type": "code",
   "execution_count": 25,
   "metadata": {},
   "outputs": [],
   "source": [
    "def sigmoid(x):\n",
    "    \"\"\"The sigmoid function\"\"\"\n",
    "    return 1 / (1 + np.exp(-x))\n",
    "\n",
    "def _get_loss(y_hat, y_true):\n",
    "    \"\"\"The loss function for logistic regression\"\"\"\n",
    "    m = len(y_hat)\n",
    "    return np.sum(-y_true * np.log(y_hat) - (1 - y_true) * (np.log(1 - y_hat))) / m\n",
    "\n",
    "def _get_yhat(X, w):\n",
    "    \"\"\"To get the predicted values for a given weight vector w\"\"\"\n",
    "    return sigmoid(np.dot(X, w.T))\n",
    "\n",
    "def _get_weights(n):\n",
    "        \"\"\"Gets a random weight vector of size n\"\"\"\n",
    "        w = np.random.random((n))\n",
    "        return w"
   ]
  },
  {
   "cell_type": "code",
   "execution_count": 26,
   "metadata": {},
   "outputs": [],
   "source": [
    "def loss(w, X, y_true):\n",
    "    \"\"\"\n",
    "    The objective function. This is the function which will be used to optimize\n",
    "    \"\"\"\n",
    "    y_hat = sigmoid(np.dot(X, w.T))\n",
    "    m = len(y_hat)\n",
    "    loss = np.sum(-y_true * np.log(y_hat) - (1 - y_true) * (np.log(1 - y_hat))) / m\n",
    "    return loss"
   ]
  },
  {
   "attachments": {},
   "cell_type": "markdown",
   "metadata": {},
   "source": [
    "### Creating $X$ and $\\mathbf{y}$"
   ]
  },
  {
   "attachments": {},
   "cell_type": "markdown",
   "metadata": {},
   "source": [
    "Here, we'll seperate $X$ and $\\mathbf{y}$. Also, as our hypothesis function contains a bias term, we'll add a vector of $1$ to the $X$ so that $b$ is contained in $\\mathbf{w}$."
   ]
  },
  {
   "cell_type": "code",
   "execution_count": 27,
   "metadata": {},
   "outputs": [],
   "source": [
    "X = train.drop(\"RainTomorrow\", axis=1).values\n",
    "y = train[\"RainTomorrow\"]\n",
    "ones = np.ones((X.shape[0], 1))\n",
    "X = np.append(ones, X, axis=1)\n",
    "\n",
    "test_X = test.drop(\"RainTomorrow\", axis=1).values\n",
    "test_y = test[\"RainTomorrow\"]\n",
    "ones = np.ones((test_X.shape[0], 1))\n",
    "test_X = np.append(ones, test_X, axis=1)"
   ]
  },
  {
   "attachments": {},
   "cell_type": "markdown",
   "metadata": {},
   "source": [
    "We won't be creating a train-test split aswe already have a test set!"
   ]
  },
  {
   "attachments": {},
   "cell_type": "markdown",
   "metadata": {},
   "source": [
    "### Initializing $\\mathbf{w}$"
   ]
  },
  {
   "attachments": {},
   "cell_type": "markdown",
   "metadata": {},
   "source": [
    "Next step is to initialize the weights. Instead of initializing them by zeros or ones, I'm doing a random initialization."
   ]
  },
  {
   "cell_type": "code",
   "execution_count": 28,
   "metadata": {},
   "outputs": [
    {
     "data": {
      "text/plain": [
       "array([0.37454012, 0.95071431, 0.73199394, 0.59865848, 0.15601864,\n",
       "       0.15599452, 0.05808361, 0.86617615, 0.60111501, 0.70807258,\n",
       "       0.02058449, 0.96990985, 0.83244264, 0.21233911, 0.18182497,\n",
       "       0.18340451, 0.30424224])"
      ]
     },
     "execution_count": 28,
     "metadata": {},
     "output_type": "execute_result"
    }
   ],
   "source": [
    "np.random.seed(42)\n",
    "m, n = X.shape\n",
    "init_weights = _get_weights(n)\n",
    "init_weights"
   ]
  },
  {
   "attachments": {},
   "cell_type": "markdown",
   "metadata": {},
   "source": [
    "### Optimization"
   ]
  },
  {
   "attachments": {},
   "cell_type": "markdown",
   "metadata": {},
   "source": [
    "Before optimization, we'll create a callback function which will be used for plotting purposes."
   ]
  },
  {
   "cell_type": "code",
   "execution_count": 29,
   "metadata": {},
   "outputs": [],
   "source": [
    "train_losses = []\n",
    "test_losses = []\n",
    "epoch = 1\n",
    "def callback(w):\n",
    "    global epoch\n",
    "    print(f\"On Iteration {epoch:3.0f}\", end=\"\\r\")\n",
    "    train_loss = loss(w, X, y)\n",
    "    test_loss = loss(w, test_X, test_y)\n",
    "    train_losses.append(train_loss)\n",
    "    test_losses.append(test_loss)\n",
    "    epoch+=1"
   ]
  },
  {
   "attachments": {},
   "cell_type": "markdown",
   "metadata": {},
   "source": [
    "The problem specifies that we need to use Truncated Newton's method. We'll use `scipy.optimize.minimize` function for this. We'll use `TNC` method for this."
   ]
  },
  {
   "cell_type": "code",
   "execution_count": 30,
   "metadata": {},
   "outputs": [
    {
     "name": "stdout",
     "output_type": "stream",
     "text": [
      "On Iteration 142\r"
     ]
    }
   ],
   "source": [
    "train_losses = []\n",
    "test_losses = []\n",
    "\n",
    "optimizer = minimize(\n",
    "    loss,\n",
    "    init_weights,\n",
    "    args=(X, y),\n",
    "    method=\"TNC\",\n",
    "    options={\"maxiter\": 1000},\n",
    "    callback=callback,\n",
    "    tol=1e-8\n",
    ")\n"
   ]
  },
  {
   "cell_type": "code",
   "execution_count": 31,
   "metadata": {},
   "outputs": [
    {
     "data": {
      "text/plain": [
       "array([-5.57841148,  0.3942323 ,  1.43262747,  2.35296417, -0.07447357,\n",
       "       -1.57413976,  5.29430146,  0.65212976, -1.73175333,  1.87786876,\n",
       "        4.16884424,  0.41801538, -1.55171722,  0.11354733,  0.90514991,\n",
       "        0.5589355 , -1.36817804])"
      ]
     },
     "execution_count": 31,
     "metadata": {},
     "output_type": "execute_result"
    }
   ],
   "source": [
    "w_final = optimizer[\"x\"]\n",
    "w_final"
   ]
  },
  {
   "attachments": {},
   "cell_type": "markdown",
   "metadata": {},
   "source": [
    "So, these are the weights. Let's see the accuracy of the model on the train dataset to see whether the model is working or not."
   ]
  },
  {
   "cell_type": "code",
   "execution_count": 32,
   "metadata": {},
   "outputs": [],
   "source": [
    "def accuracy(y_true, y_pred):\n",
    "    return np.mean(y_true==y_pred)"
   ]
  },
  {
   "cell_type": "code",
   "execution_count": 33,
   "metadata": {},
   "outputs": [],
   "source": [
    "y_pred = _get_yhat(X, w_final)\n",
    "y_pred = np.round(y_pred)"
   ]
  },
  {
   "cell_type": "code",
   "execution_count": 34,
   "metadata": {},
   "outputs": [
    {
     "name": "stdout",
     "output_type": "stream",
     "text": [
      "Training accuracy is: 82.03%\n"
     ]
    }
   ],
   "source": [
    "train_acc = accuracy(y, y_pred)\n",
    "print(f\"Training accuracy is: {train_acc*100:.2f}%\")"
   ]
  },
  {
   "attachments": {},
   "cell_type": "markdown",
   "metadata": {},
   "source": [
    "## Problem 3.3"
   ]
  },
  {
   "attachments": {},
   "cell_type": "markdown",
   "metadata": {},
   "source": [
    "I've already used callback function to store the loss function at each iteration. Let's plot them!"
   ]
  },
  {
   "cell_type": "code",
   "execution_count": 35,
   "metadata": {},
   "outputs": [
    {
     "data": {
      "image/png": "[encoded data removed]",
      "text/plain": [
       "<Figure size 1000x700 with 1 Axes>"
      ]
     },
     "metadata": {},
     "output_type": "display_data"
    }
   ],
   "source": [
    "fig, ax = plt.subplots()\n",
    "ax.plot(train_losses, label = \"Training Loss\")\n",
    "ax.plot(test_losses, label = \"Testing Loss\")\n",
    "ax.set_xlabel(\"Iteration\")\n",
    "ax.set_ylabel(\"Loss\")\n",
    "ax.set_title(\"Loss With Iteration\")\n",
    "ax.legend()\n",
    "fig.savefig(os.path.join(SAVE_DIR, \"0301.png\"))"
   ]
  },
  {
   "attachments": {},
   "cell_type": "markdown",
   "metadata": {},
   "source": [
    "Okay, we see that both the training and testing accuracy is descreasing with iteration. No significant change occurs after about 20 iterations."
   ]
  },
  {
   "attachments": {},
   "cell_type": "markdown",
   "metadata": {},
   "source": [
    "## Problem 3.4"
   ]
  },
  {
   "attachments": {},
   "cell_type": "markdown",
   "metadata": {},
   "source": [
    "We have the model as `optimizer`. We also have the weights of the model which is all we need. Let's determine the testing accuracy."
   ]
  },
  {
   "cell_type": "code",
   "execution_count": 36,
   "metadata": {},
   "outputs": [
    {
     "name": "stdout",
     "output_type": "stream",
     "text": [
      "Testing accuracy is: 84.78%\n"
     ]
    }
   ],
   "source": [
    "y_pred = _get_yhat(test_X, w_final)\n",
    "y_pred = np.round(y_pred)\n",
    "\n",
    "test_acc = accuracy(test_y, y_pred)\n",
    "print(f\"Testing accuracy is: {test_acc*100:.2f}%\")"
   ]
  },
  {
   "attachments": {},
   "cell_type": "markdown",
   "metadata": {},
   "source": [
    "So, testing accuracy is greater than the train accuracy. Means model is not overfitting."
   ]
  },
  {
   "attachments": {},
   "cell_type": "markdown",
   "metadata": {},
   "source": [
    "# Extra"
   ]
  },
  {
   "attachments": {},
   "cell_type": "markdown",
   "metadata": {},
   "source": [
    "I implemented logistic regression using gradient descent along with linear regression. The class `LogisticGradientDescent` is a subclass of `BatchGradientDescent`.\n",
    "Let's see how this model performs."
   ]
  },
  {
   "cell_type": "code",
   "execution_count": 46,
   "metadata": {},
   "outputs": [],
   "source": [
    "from GD import LogisticGradientDescent\n",
    "\n",
    "lgd = LogisticGradientDescent(fit_intercept=True, tol = 1e-6)"
   ]
  },
  {
   "cell_type": "code",
   "execution_count": 47,
   "metadata": {},
   "outputs": [
    {
     "name": "stdout",
     "output_type": "stream",
     "text": [
      "\u001b[36m10000/10000 [=================== ] 100.0%\u001b[0m\r"
     ]
    }
   ],
   "source": [
    "lgd.fit(X, y, epochs=10000, learning_rate=0.1, verbose=0)"
   ]
  },
  {
   "cell_type": "code",
   "execution_count": 49,
   "metadata": {},
   "outputs": [
    {
     "name": "stdout",
     "output_type": "stream",
     "text": [
      "Training accuracy is: 81.88%\n",
      "Testing accuracy is: 84.70%\n"
     ]
    }
   ],
   "source": [
    "train_acc = lgd.score(X, y)\n",
    "test_acc = lgd.score(test_X, test_y)\n",
    "print(f\"Training accuracy is: {train_acc*100:.2f}%\")\n",
    "print(f\"Testing accuracy is: {test_acc*100:.2f}%\")"
   ]
  },
  {
   "attachments": {},
   "cell_type": "markdown",
   "metadata": {},
   "source": [
    "The accuracy is almost same as that by optimizing. Let's plot the cost function."
   ]
  },
  {
   "cell_type": "code",
   "execution_count": 50,
   "metadata": {},
   "outputs": [
    {
     "data": {
      "image/png": "[encoded data removed]",
      "text/plain": [
       "<Figure size 1000x700 with 1 Axes>"
      ]
     },
     "metadata": {},
     "output_type": "display_data"
    }
   ],
   "source": [
    "fig, ax = plt.subplots()\n",
    "ax.plot(lgd._losses, label = \"Training Loss\")\n",
    "ax.set_xlabel(\"Iteration\")\n",
    "ax.set_ylabel(\"Loss\")\n",
    "ax.set_title(\"Loss With Iteration\")\n",
    "ax.legend()\n",
    "fig.savefig(os.path.join(SAVE_DIR, \"0302.png\"))"
   ]
  },
  {
   "attachments": {},
   "cell_type": "markdown",
   "metadata": {},
   "source": [
    "The curve is much smoother."
   ]
  }
 ],
 "metadata": {
  "kernelspec": {
   "display_name": "data-science",
   "language": "python",
   "name": "python3"
  },
  "language_info": {
   "codemirror_mode": {
    "name": "ipython",
    "version": 3
   },
   "file_extension": ".py",
   "mimetype": "text/x-python",
   "name": "python",
   "nbconvert_exporter": "python",
   "pygments_lexer": "ipython3",
   "version": "3.9.15 (main, Nov 24 2022, 14:31:59) \n[GCC 11.2.0]"
  },
  "orig_nbformat": 4,
  "vscode": {
   "interpreter": {
    "hash": "2efee1efa502125d01e6b4768ba06d9453d29f3642bfd14ad5d4a769de82e88c"
   }
  }
 },
 "nbformat": 4,
 "nbformat_minor": 2
}
