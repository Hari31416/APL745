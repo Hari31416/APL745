{
  "cells": [
    {
      "cell_type": "markdown",
      "id": "MVaR4b9-iu3L",
      "metadata": {
        "id": "MVaR4b9-iu3L"
      },
      "source": [
        "This file is the main file where we define the problem data, initiate model and train the model"
      ]
    },
    {
      "cell_type": "markdown",
      "id": "24f6ebHvjSap",
      "metadata": {
        "id": "24f6ebHvjSap"
      },
      "source": [
        "1. First we import all the relevant classes and libraries"
      ]
    },
    {
      "cell_type": "code",
      "execution_count": 1,
      "id": "w_l4adLOjGyJ",
      "metadata": {
        "id": "w_l4adLOjGyJ"
      },
      "outputs": [],
      "source": [
        "from physicsinformed import InversePhysicsInformedBarModel # py file which has custom class defined\n",
        "import numpy as np\n",
        "import torch\n",
        "import os\n",
        "import matplotlib.pyplot as plt"
      ]
    },
    {
      "cell_type": "code",
      "execution_count": 2,
      "id": "d318da2f",
      "metadata": {},
      "outputs": [
        {
          "name": "stdout",
          "output_type": "stream",
          "text": [
            "../images\n"
          ]
        }
      ],
      "source": [
        "SAVE_DIR = os.path.join(\"..\", \"images\")\n",
        "print(SAVE_DIR)"
      ]
    },
    {
      "attachments": {},
      "cell_type": "markdown",
      "id": "46a508ee",
      "metadata": {},
      "source": [
        "Custom function needed to generate training and testing data"
      ]
    },
    {
      "cell_type": "code",
      "execution_count": 3,
      "id": "a49dd9bc",
      "metadata": {},
      "outputs": [],
      "source": [
        "def generate_grid_1d(length, samples=20, initial_coordinate=0.0):\n",
        "    \"\"\"Generate an evenly space grid of a given length and a given number of samples.\"\"\"\n",
        "\n",
        "    # Generate the grid\n",
        "    x = torch.linspace(initial_coordinate, initial_coordinate + length, samples, requires_grad=True)\n",
        "\n",
        "    return x"
      ]
    },
    {
      "cell_type": "markdown",
      "id": "-RcvGRwGjdLu",
      "metadata": {
        "id": "-RcvGRwGjdLu"
      },
      "source": [
        "2. Analytical 'u' is given"
      ]
    },
    {
      "cell_type": "code",
      "execution_count": 4,
      "id": "4ppF7bu2jsvd",
      "metadata": {
        "id": "4ppF7bu2jsvd"
      },
      "outputs": [
        {
          "name": "stdout",
          "output_type": "stream",
          "text": [
            "torch.Size([100, 1])\n"
          ]
        }
      ],
      "source": [
        "L = 1\n",
        "X_c = generate_grid_1d(length = 1, samples = 100)\n",
        "inputs = X_c.unsqueeze(1)\n",
        "print(inputs.shape)\n",
        "u_analytic = lambda x: torch.sin(2*torch.pi*x)\n",
        "u = u_analytic(X_c)"
      ]
    },
    {
      "cell_type": "markdown",
      "id": "ZXJmEzduTVfz",
      "metadata": {
        "id": "ZXJmEzduTVfz"
      },
      "source": [
        "Analytical inverse solution for validation"
      ]
    },
    {
      "cell_type": "code",
      "execution_count": 5,
      "id": "mo9j4BAoTWUk",
      "metadata": {
        "id": "mo9j4BAoTWUk"
      },
      "outputs": [],
      "source": [
        "EA_analytic = lambda x: x**3 - x**2 + 1"
      ]
    },
    {
      "attachments": {},
      "cell_type": "markdown",
      "id": "aj1oXOV3j0oE",
      "metadata": {
        "id": "aj1oXOV3j0oE"
      },
      "source": [
        "3. Problem data are defined. Here the known data like boundary condition and loading conditions are defined"
      ]
    },
    {
      "cell_type": "code",
      "execution_count": 6,
      "id": "wixdAtJckJs0",
      "metadata": {
        "id": "wixdAtJckJs0"
      },
      "outputs": [],
      "source": [
        "distLoad = lambda x: -2*(3*x**2 - 2*x)*torch.pi*torch.cos(2*torch.pi*x) + 4*(x**3 - x**2 + 1)*torch.pi**2*torch.sin(2*torch.pi*x)"
      ]
    },
    {
      "attachments": {},
      "cell_type": "markdown",
      "id": "9RzoofTZkNxz",
      "metadata": {
        "id": "9RzoofTZkNxz"
      },
      "source": [
        "4. Next we generate the neural network model using the imported class InversePhysicsInformedBarModel"
      ]
    },
    {
      "attachments": {},
      "cell_type": "markdown",
      "id": "52d46380",
      "metadata": {},
      "source": [
        ">Instead of passing the `u` values to the model, I'm calculating them inside the model using the function of `u` defined above."
      ]
    },
    {
      "cell_type": "code",
      "execution_count": 7,
      "id": "aOK1MmCGkdEA",
      "metadata": {
        "id": "aOK1MmCGkdEA"
      },
      "outputs": [],
      "source": [
        "pinn_model = InversePhysicsInformedBarModel(inputs, L, distLoad) # custom class defined in physicsinformed.py file"
      ]
    },
    {
      "cell_type": "markdown",
      "id": "9YLwGbdpkhxv",
      "metadata": {
        "id": "9YLwGbdpkhxv"
      },
      "source": [
        "5. Next we train our model. The method/function 'train' is defined in the class PhysicsInformedBarModel"
      ]
    },
    {
      "cell_type": "code",
      "execution_count": 8,
      "id": "UKjY96mRkoFa",
      "metadata": {
        "colab": {
          "base_uri": "https://localhost:8080/"
        },
        "id": "UKjY96mRkoFa",
        "outputId": "2a2a8d61-7fb2-4764-bb6e-59c1d0168be5"
      },
      "outputs": [
        {
          "name": "stdout",
          "output_type": "stream",
          "text": [
            "Epoch    1/20 | loss=1140.5326\n",
            "Epoch    2/20 | loss=54.2815\n",
            "Epoch    3/20 | loss=11.6560\n",
            "Epoch    4/20 | loss=8.0934\n",
            "Epoch    5/20 | loss=7.2920\n",
            "Epoch    6/20 | loss=3.3236\n",
            "Epoch    7/20 | loss=0.6535\n",
            "Epoch    8/20 | loss=0.0642\n",
            "Epoch    9/20 | loss=0.0147\n",
            "Epoch   10/20 | loss=0.0086\n",
            "Epoch   11/20 | loss=0.0065\n",
            "Epoch   12/20 | loss=0.0022\n",
            "Epoch   13/20 | loss=0.0012\n",
            "Epoch   14/20 | loss=0.0006\n",
            "Epoch   15/20 | loss=0.0003\n",
            "Epoch   16/20 | loss=0.0001\n",
            "Epoch   17/20 | loss=0.0001\n",
            "Epoch   18/20 | loss=0.0001\n",
            "Epoch   19/20 | loss=0.0001\n",
            "Epoch   20/20 | loss=0.0001\n"
          ]
        }
      ],
      "source": [
        "epochs = 20\n",
        "lr = 1e-2\n",
        "\n",
        "losses = pinn_model.train(epochs, optimizer='LBFGS', lr=lr)"
      ]
    },
    {
      "cell_type": "markdown",
      "id": "1TneSGHGkrCq",
      "metadata": {
        "id": "1TneSGHGkrCq"
      },
      "source": [
        "6. We generate sample test data using utilities library and then predict the displacements at those test points"
      ]
    },
    {
      "cell_type": "code",
      "execution_count": 9,
      "id": "tdUpXT6flc5o",
      "metadata": {
        "id": "tdUpXT6flc5o"
      },
      "outputs": [],
      "source": [
        "samples = 100\n",
        "x_test = generate_grid_1d(L, samples)\n",
        "x_test = x_test.unsqueeze(1)\n",
        "EA_test = pinn_model.predict(x_test) # function defined in custom class for predicting EA values"
      ]
    },
    {
      "cell_type": "markdown",
      "id": "DUl2FSDzlhnp",
      "metadata": {
        "id": "DUl2FSDzlhnp"
      },
      "source": [
        "7. We plot predicted coefficient (EA) at test points and also the training history"
      ]
    },
    {
      "cell_type": "code",
      "execution_count": 10,
      "id": "8f1125c4",
      "metadata": {
        "colab": {
          "base_uri": "https://localhost:8080/",
          "height": 449
        },
        "id": "8f1125c4",
        "outputId": "9d828aab-daaf-4b73-c158-299eaf4c0f2a"
      },
      "outputs": [
        {
          "data": {
            "image/png": "[encoded data removed]",
            "text/plain": [
              "<Figure size 640x480 with 1 Axes>"
            ]
          },
          "metadata": {},
          "output_type": "display_data"
        }
      ],
      "source": [
        "# plot the results and training losses. Refer the pptx file results slide for more information\n",
        "plt.plot(x_test.detach().numpy(), EA_test.detach().numpy(), label='Predicted EA',  lw=3)\n",
        "plt.plot(x_test.detach().numpy(), EA_analytic(x_test).detach().numpy(), label='Analytical EA', linestyle=\"--\", lw=3)\n",
        "plt.legend()\n",
        "plt.title('EA vs x')\n",
        "plt.xlabel('x')\n",
        "plt.ylabel('EA')\n",
        "plt.savefig(os.path.join(SAVE_DIR, \"0201.png\"))\n",
        "plt.show()"
      ]
    },
    {
      "cell_type": "code",
      "execution_count": 11,
      "id": "baf93563",
      "metadata": {},
      "outputs": [
        {
          "data": {
            "image/png": "[encoded data removed]",
            "text/plain": [
              "<Figure size 640x480 with 1 Axes>"
            ]
          },
          "metadata": {},
          "output_type": "display_data"
        }
      ],
      "source": [
        "plt.plot(losses)\n",
        "plt.xlabel('Epochs')\n",
        "plt.ylabel('Loss')\n",
        "plt.savefig(os.path.join(SAVE_DIR, \"0202.png\"))\n",
        "plt.show()"
      ]
    }
  ],
  "metadata": {
    "colab": {
      "name": "PINN_bar_inverse_main.ipynb",
      "provenance": []
    },
    "kernelspec": {
      "display_name": "Python 3 (ipykernel)",
      "language": "python",
      "name": "python3"
    },
    "language_info": {
      "codemirror_mode": {
        "name": "ipython",
        "version": 3
      },
      "file_extension": ".py",
      "mimetype": "text/x-python",
      "name": "python",
      "nbconvert_exporter": "python",
      "pygments_lexer": "ipython3",
      "version": "3.9.15"
    }
  },
  "nbformat": 4,
  "nbformat_minor": 5
}
