{
  "cells": [
    {
      "cell_type": "markdown",
      "id": "MVaR4b9-iu3L",
      "metadata": {
        "id": "MVaR4b9-iu3L"
      },
      "source": [
        "This file is the main file where we define the problem data, initiate model and train the model"
      ]
    },
    {
      "cell_type": "markdown",
      "id": "24f6ebHvjSap",
      "metadata": {
        "id": "24f6ebHvjSap"
      },
      "source": [
        "1. First we import all the relevant classes and libraries"
      ]
    },
    {
      "cell_type": "code",
      "execution_count": 1,
      "id": "w_l4adLOjGyJ",
      "metadata": {
        "id": "w_l4adLOjGyJ"
      },
      "outputs": [],
      "source": [
        "from physicsinformed import PhysicsInformedBarModel # py file which contains custom class for training\n",
        "import numpy as np\n",
        "import torch\n",
        "import os\n",
        "import matplotlib.pyplot as plt"
      ]
    },
    {
      "cell_type": "code",
      "execution_count": 2,
      "id": "a8534e5a",
      "metadata": {},
      "outputs": [
        {
          "name": "stdout",
          "output_type": "stream",
          "text": [
            "../images\n"
          ]
        }
      ],
      "source": [
        "SAVE_DIR = os.path.join(\"..\", \"images\")\n",
        "print(SAVE_DIR)"
      ]
    },
    {
      "attachments": {},
      "cell_type": "markdown",
      "id": "896f76ea",
      "metadata": {},
      "source": [
        "Custom function needed to generate training and testing data"
      ]
    },
    {
      "cell_type": "code",
      "execution_count": 3,
      "id": "7f7b5b6f",
      "metadata": {},
      "outputs": [],
      "source": [
        "def generate_grid_1d(length, samples=20, initial_coordinate=0.0):\n",
        "    \"\"\"Generate an evenly space grid of a given length and a given number of samples.\"\"\"\n",
        "\n",
        "    # Generate the grid\n",
        "    x = torch.linspace(initial_coordinate, initial_coordinate + length, samples, requires_grad=True)\n",
        "\n",
        "    return x"
      ]
    },
    {
      "cell_type": "code",
      "execution_count": 4,
      "id": "344067a9",
      "metadata": {},
      "outputs": [],
      "source": [
        "L = 1\n",
        "x_c = generate_grid_1d(L, samples=100)"
      ]
    },
    {
      "attachments": {},
      "cell_type": "markdown",
      "id": "-RcvGRwGjdLu",
      "metadata": {
        "id": "-RcvGRwGjdLu"
      },
      "source": [
        "2. Analytical solution for validation"
      ]
    },
    {
      "cell_type": "code",
      "execution_count": 5,
      "id": "4ppF7bu2jsvd",
      "metadata": {
        "id": "4ppF7bu2jsvd"
      },
      "outputs": [],
      "source": [
        "u_analytic = lambda x: np.sin(2 * np.pi * x / L)"
      ]
    },
    {
      "cell_type": "markdown",
      "id": "aj1oXOV3j0oE",
      "metadata": {
        "id": "aj1oXOV3j0oE"
      },
      "source": [
        "3. Problem data are defined. Here the known data like mechanical parameters, boundary condition and loading conditions are defined"
      ]
    },
    {
      "cell_type": "code",
      "execution_count": 6,
      "id": "wixdAtJckJs0",
      "metadata": {
        "id": "wixdAtJckJs0"
      },
      "outputs": [],
      "source": [
        "E = 1\n",
        "A = 1\n",
        "#Initial condition\n",
        "u0 = torch.tensor([0., 0.], requires_grad=True, dtype=torch.float32)\n",
        "x0 = torch.tensor([0., 1.], requires_grad=True, dtype=torch.float32)\n",
        "distLoad = lambda x: 4*torch.pi**2 * torch.sin(2*torch.pi * x)"
      ]
    },
    {
      "cell_type": "code",
      "execution_count": 7,
      "id": "d0861b00",
      "metadata": {},
      "outputs": [
        {
          "data": {
            "text/plain": [
              "torch.Size([102, 1])"
            ]
          },
          "execution_count": 7,
          "metadata": {},
          "output_type": "execute_result"
        }
      ],
      "source": [
        "inputs = torch.cat([x0, x_c], 0) #Concatenate tensors along a given dimension\n",
        "inputs = inputs.unsqueeze(1) #Add another dimension to the tensor\n",
        "inputs.shape"
      ]
    },
    {
      "cell_type": "markdown",
      "id": "9RzoofTZkNxz",
      "metadata": {
        "id": "9RzoofTZkNxz"
      },
      "source": [
        "4. Next we generate the neural network model using the imported class PhysicsInformedBarModel"
      ]
    },
    {
      "cell_type": "code",
      "execution_count": 8,
      "id": "aOK1MmCGkdEA",
      "metadata": {
        "colab": {
          "base_uri": "https://localhost:8080/"
        },
        "id": "aOK1MmCGkdEA",
        "outputId": "c81f4848-6661-44ca-c1e5-f7b564b12406"
      },
      "outputs": [],
      "source": [
        "pinn_model = PhysicsInformedBarModel(inputs, E, A, L, u0, dist_load=distLoad) # use the designed custom class from physicsinformed.py file"
      ]
    },
    {
      "cell_type": "markdown",
      "id": "9YLwGbdpkhxv",
      "metadata": {
        "id": "9YLwGbdpkhxv"
      },
      "source": [
        "5. Next we train our model. The method/function 'train' is defined in the class PhysicsInformedBarModel"
      ]
    },
    {
      "cell_type": "code",
      "execution_count": 9,
      "id": "UKjY96mRkoFa",
      "metadata": {
        "colab": {
          "base_uri": "https://localhost:8080/"
        },
        "id": "UKjY96mRkoFa",
        "outputId": "6580de39-e794-4adb-e9f5-17d7793b4f55"
      },
      "outputs": [
        {
          "name": "stdout",
          "output_type": "stream",
          "text": [
            "Epoch    1/10\n",
            "MSEu: 0.0032 | MSEc: 770.9749 | Total: 770.9780\n",
            "Epoch    2/10\n",
            "MSEu: 11.4975 | MSEc: 45.1274 | Total: 56.6250\n",
            "Epoch    3/10\n",
            "MSEu: 13.5512 | MSEc: 17.5951 | Total: 31.1463\n",
            "Epoch    4/10\n",
            "MSEu: 4.4894 | MSEc: 5.6717 | Total: 10.1611\n",
            "Epoch    5/10\n",
            "MSEu: 0.1306 | MSEc: 1.2587 | Total: 1.3893\n",
            "Epoch    6/10\n",
            "MSEu: 0.0114 | MSEc: 0.3276 | Total: 0.3389\n",
            "Epoch    7/10\n",
            "MSEu: 0.0058 | MSEc: 0.0803 | Total: 0.0862\n",
            "Epoch    8/10\n",
            "MSEu: 0.0007 | MSEc: 0.0331 | Total: 0.0338\n",
            "Epoch    9/10\n",
            "MSEu: 0.0001 | MSEc: 0.0138 | Total: 0.0139\n",
            "Epoch   10/10\n",
            "MSEu: 0.0000 | MSEc: 0.0068 | Total: 0.0068\n"
          ]
        }
      ],
      "source": [
        "epochs = 10\n",
        "lr = 1e-2\n",
        "\n",
        "losses = pinn_model.train(epochs, optimizer='LBFGS', lr=lr) # function defined in custom class for training"
      ]
    },
    {
      "cell_type": "markdown",
      "id": "1TneSGHGkrCq",
      "metadata": {
        "id": "1TneSGHGkrCq"
      },
      "source": [
        "6. We generate sample test data using utilities library and then predict the displacements at those test points"
      ]
    },
    {
      "cell_type": "code",
      "execution_count": 10,
      "id": "tdUpXT6flc5o",
      "metadata": {
        "id": "tdUpXT6flc5o"
      },
      "outputs": [],
      "source": [
        "samples = 100\n",
        "x_test = generate_grid_1d(L, samples)\n",
        "x_test = x_test.unsqueeze(1)\n",
        "u_test = pinn_model.predict(x_test) # function defined in the custom class to get model predicted values"
      ]
    },
    {
      "cell_type": "markdown",
      "id": "DUl2FSDzlhnp",
      "metadata": {
        "id": "DUl2FSDzlhnp"
      },
      "source": [
        "7. We plot predicted displacements at test points and also the training history"
      ]
    },
    {
      "cell_type": "code",
      "execution_count": 11,
      "id": "8f1125c4",
      "metadata": {
        "colab": {
          "base_uri": "https://localhost:8080/",
          "height": 449
        },
        "id": "8f1125c4",
        "outputId": "e212e034-711b-4e85-9e1c-c0692a527b4f"
      },
      "outputs": [
        {
          "data": {
            "image/png": "[encoded data removed]",
            "text/plain": [
              "<Figure size 640x480 with 1 Axes>"
            ]
          },
          "metadata": {},
          "output_type": "display_data"
        }
      ],
      "source": [
        "# plot the results and training losses. Refer the pptx file results slide for more information\n",
        "displacement = u_test.detach().numpy()\n",
        "x_numpy = x_test.detach().numpy()\n",
        "plt.plot(x_numpy, displacement, label='Predicted', lw=3)\n",
        "plt.plot(x_numpy, u_analytic(x_numpy), label='Analytical', linestyle=\"--\", lw=3)\n",
        "plt.legend()\n",
        "plt.title('Displacement')\n",
        "plt.xlabel('x')\n",
        "plt.ylabel('u')\n",
        "plt.savefig(os.path.join(SAVE_DIR, \"0101.png\"))\n",
        "plt.show()"
      ]
    },
    {
      "cell_type": "code",
      "execution_count": 12,
      "id": "70f0ab15",
      "metadata": {},
      "outputs": [
        {
          "data": {
            "image/png": "[encoded data removed]",
            "text/plain": [
              "<Figure size 640x480 with 1 Axes>"
            ]
          },
          "metadata": {},
          "output_type": "display_data"
        }
      ],
      "source": [
        "plt.plot(losses)\n",
        "plt.xlabel('Epochs')\n",
        "plt.ylabel('Loss')\n",
        "plt.savefig(os.path.join(SAVE_DIR, \"0102.png\"))\n",
        "plt.show()"
      ]
    }
  ],
  "metadata": {
    "colab": {
      "name": "pinn_bar_main.ipynb",
      "provenance": []
    },
    "kernelspec": {
      "display_name": "Python 3 (ipykernel)",
      "language": "python",
      "name": "python3"
    },
    "language_info": {
      "codemirror_mode": {
        "name": "ipython",
        "version": 3
      },
      "file_extension": ".py",
      "mimetype": "text/x-python",
      "name": "python",
      "nbconvert_exporter": "python",
      "pygments_lexer": "ipython3",
      "version": "3.9.15"
    }
  },
  "nbformat": 4,
  "nbformat_minor": 5
}
