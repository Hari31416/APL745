{
 "cells": [
  {
   "attachments": {},
   "cell_type": "markdown",
   "metadata": {},
   "source": [
    "# Imports"
   ]
  },
  {
   "cell_type": "code",
   "execution_count": 11,
   "metadata": {},
   "outputs": [],
   "source": [
    "import torch\n",
    "import torch.nn as nn\n",
    "import numpy as np\n",
    "import matplotlib.pyplot as plt\n",
    "import os"
   ]
  },
  {
   "attachments": {},
   "cell_type": "markdown",
   "metadata": {},
   "source": [
    "# The Inverse Problem"
   ]
  },
  {
   "attachments": {},
   "cell_type": "markdown",
   "metadata": {},
   "source": [
    "## Problem Statement"
   ]
  },
  {
   "attachments": {},
   "cell_type": "markdown",
   "metadata": {},
   "source": [
    "Here, we'll use the PDE used above:\n",
    "\n",
    "$$\n",
    "\\frac{d}{dx}\\left(E(x)A(x)\\frac{d}{dx}u(x)\\right) +p(x) = 0\n",
    "$$\n",
    "\n",
    "to get the value of $EA(x)$ assuming that we know the solution. We'll use the same neural network architecture as above."
   ]
  },
  {
   "attachments": {},
   "cell_type": "markdown",
   "metadata": {},
   "source": [
    "The differential equation becomes:\n",
    "$$\n",
    "E(x)u_{xx} + E_x(x)u_x + p(x) = 0\n",
    "$$\n",
    "\n",
    "now define:\n",
    "\n",
    "$$\n",
    "f:=E(x)u_{xx} + E_x(x)u_x + p(x)\n",
    "$$"
   ]
  },
  {
   "attachments": {},
   "cell_type": "markdown",
   "metadata": {},
   "source": [
    "We already know $u$, $u_x$ and $u_{xx}$, so we will create a neural network to approximate $E(x)$."
   ]
  },
  {
   "attachments": {},
   "cell_type": "markdown",
   "metadata": {},
   "source": [
    ">Please note that I've dropped the A, it is assumed to be absorbed in the E."
   ]
  },
  {
   "attachments": {},
   "cell_type": "markdown",
   "metadata": {},
   "source": [
    "The analytical form of the functions are:\n",
    "$$\n",
    "\\begin{aligned}\n",
    "u(x) &= \\sin(2\\pi x)\\\\\n",
    "u_x(x) &= 2\\pi\\cos(2\\pi x)\\\\\n",
    "u_{xx}(x) &= -4\\pi^2\\sin(2\\pi x)\n",
    "\\end{aligned}\n",
    "$$\n",
    "\n",
    "while, we choose the following form for $E(x)$:\n",
    "$$\n",
    "E(x) = x^2 - x^2 +1\n",
    "$$\n",
    "\n",
    "For this, the load function becomes:\n",
    "\n",
    "$$\n",
    "p(x) = -2(3x^2 - 2x)\\pi \\cos(2\\pi x) + 4(x^3 - x^2 + 1)\\pi ^2\\sin(2\\pi x)\n",
    "$$"
   ]
  },
  {
   "attachments": {},
   "cell_type": "markdown",
   "metadata": {},
   "source": [
    "## Solution"
   ]
  },
  {
   "attachments": {},
   "cell_type": "markdown",
   "metadata": {},
   "source": [
    "Once again, we'll start by defining some variables:"
   ]
  },
  {
   "cell_type": "code",
   "execution_count": 12,
   "metadata": {},
   "outputs": [],
   "source": [
    "#The function u(x) = sin(2*pi*x)\n",
    "u_analytical = lambda x: torch.sin(2*torch.pi * x)\n",
    "E_analytical = lambda x: x**3 - x**2 + 1\n",
    "\n",
    "#The load function f(x) = 4*pi^2*sin(2*pi*x)\n",
    "p = lambda x: -2*(3*x**2 - 2*x)*torch.pi*torch.cos(2*torch.pi*x) + 4*(x**3 - x**2 + 1)*torch.pi**2*torch.sin(2*torch.pi*x)"
   ]
  },
  {
   "cell_type": "code",
   "execution_count": 13,
   "metadata": {},
   "outputs": [
    {
     "data": {
      "text/plain": [
       "torch.Size([100, 1])"
      ]
     },
     "execution_count": 13,
     "metadata": {},
     "output_type": "execute_result"
    }
   ],
   "source": [
    "def collocation_points(points):\n",
    "    #Create a tensor of collocation points\n",
    "    x = torch.linspace(0, 1, points, requires_grad=True, dtype=torch.float32) #requires_grad=True to compute the gradient\n",
    "    return x\n",
    "\n",
    "X_c = collocation_points(100)\n",
    "# u_c = u_analytical(X_c)\n",
    "# inputs = torch.zeros((100, 2), dtype=torch.float32)\n",
    "# inputs[:, 0] = X_c\n",
    "# inputs[:, 1] = u_c\n",
    "inputs = X_c.unsqueeze(1)\n",
    "inputs.shape"
   ]
  },
  {
   "attachments": {},
   "cell_type": "markdown",
   "metadata": {},
   "source": [
    "We'll define the cost function here. It will take input and the model and will return the residuals."
   ]
  },
  {
   "cell_type": "code",
   "execution_count": 14,
   "metadata": {},
   "outputs": [],
   "source": [
    "def loss(inputs, model):\n",
    "    e = model(inputs)\n",
    "    e_x = torch.autograd.grad(e, inputs, grad_outputs=torch.ones_like(e), create_graph=True, retain_graph=True)[0]\n",
    "    \n",
    "    u = u_analytical(inputs)\n",
    "    u_x = torch.autograd.grad(u, inputs, grad_outputs=torch.ones_like(u), create_graph=True, retain_graph=True)[0]\n",
    "    u_xx = torch.autograd.grad(u_x, inputs, grad_outputs=torch.ones_like(u_x), create_graph=True,  retain_graph=True)[0]\n",
    "\n",
    "    l = torch.mean((e*u_xx + e_x*u_x + p(inputs))**2)\n",
    "    return l"
   ]
  },
  {
   "cell_type": "code",
   "execution_count": 15,
   "metadata": {},
   "outputs": [],
   "source": [
    "model = nn.Sequential(\n",
    "    nn.Linear(1, 20),\n",
    "    nn.Tanh(),\n",
    "    nn.Linear(20, 1),\n",
    ")"
   ]
  },
  {
   "cell_type": "code",
   "execution_count": 16,
   "metadata": {},
   "outputs": [],
   "source": [
    "#create a LBFGS optimizer\n",
    "optimizer = torch.optim.LBFGS(model.parameters(), lr=0.1, max_iter=1000, max_eval=100, tolerance_grad=1e-05, tolerance_change=1e-06)"
   ]
  },
  {
   "cell_type": "code",
   "execution_count": 17,
   "metadata": {},
   "outputs": [
    {
     "name": "stdout",
     "output_type": "stream",
     "text": [
      "Epoch    1/20 | loss=488.6730\n",
      "Epoch    2/20 | loss=1.8172\n",
      "Epoch    3/20 | loss=0.0110\n",
      "Epoch    4/20 | loss=0.0026\n",
      "Epoch    5/20 | loss=0.0013\n",
      "Epoch    6/20 | loss=0.0007\n",
      "Epoch    7/20 | loss=0.0002\n",
      "Epoch    8/20 | loss=0.0000\n",
      "Epoch    9/20 | loss=0.0000\n",
      "Epoch   10/20 | loss=0.0000\n",
      "Epoch   11/20 | loss=0.0000\n",
      "Epoch   12/20 | loss=0.0000\n",
      "Epoch   13/20 | loss=0.0000\n",
      "Epoch   14/20 | loss=0.0000\n",
      "Epoch   15/20 | loss=0.0000\n",
      "Epoch   16/20 | loss=0.0000\n",
      "Epoch   17/20 | loss=0.0000\n",
      "Epoch   18/20 | loss=0.0000\n",
      "Epoch   19/20 | loss=0.0000\n",
      "Epoch   20/20 | loss=0.0000\n"
     ]
    }
   ],
   "source": [
    "epochs = 20\n",
    "losses = []\n",
    "for epoch in range(epochs):\n",
    "    u = model(inputs)\n",
    "    loss_ = loss(inputs, model)\n",
    "    optimizer.zero_grad()\n",
    "    loss_.backward()\n",
    "    def closure():\n",
    "        optimizer.zero_grad()\n",
    "        loss_ = loss(inputs, model)\n",
    "        loss_.backward()\n",
    "        return loss_\n",
    "    optimizer.step(closure=closure)\n",
    "    losses.append(loss_.item())\n",
    "\n",
    "    print(f\"Epoch {epoch+1:>4d}/{epochs} | loss={loss_.item():.4f}\")\n"
   ]
  },
  {
   "attachments": {},
   "cell_type": "markdown",
   "metadata": {},
   "source": [
    "Let's plot the value of $E(x)$:"
   ]
  },
  {
   "cell_type": "code",
   "execution_count": 18,
   "metadata": {},
   "outputs": [],
   "source": [
    "E_true = E_analytical(X_c)\n",
    "E_model = model(X_c.unsqueeze(1))"
   ]
  },
  {
   "cell_type": "code",
   "execution_count": 19,
   "metadata": {},
   "outputs": [
    {
     "data": {
      "image/png": "[encoded data removed]",
      "text/plain": [
       "<Figure size 640x480 with 1 Axes>"
      ]
     },
     "metadata": {},
     "output_type": "display_data"
    }
   ],
   "source": [
    "plt.plot(X_c.detach().numpy(), E_true.detach().numpy(), label=\"Analytical\", lw=3)\n",
    "plt.plot(X_c.detach().numpy(), E_model.detach().numpy(), label=\"Predicted\", linestyle=\"--\", lw=3)\n",
    "plt.legend()\n",
    "plt.savefig(os.path.join(\"plots\", \"0201.png\"))\n",
    "plt.show()"
   ]
  },
  {
   "attachments": {},
   "cell_type": "markdown",
   "metadata": {},
   "source": [
    "Let's plot the loss."
   ]
  },
  {
   "cell_type": "code",
   "execution_count": 20,
   "metadata": {},
   "outputs": [
    {
     "data": {
      "image/png": "[encoded data removed]",
      "text/plain": [
       "<Figure size 640x480 with 1 Axes>"
      ]
     },
     "metadata": {},
     "output_type": "display_data"
    }
   ],
   "source": [
    "#plot losses\n",
    "plt.plot(losses)\n",
    "plt.xlabel(\"Epochs\")\n",
    "plt.ylabel(\"Loss\")\n",
    "plt.savefig(os.path.join(\"plots\", \"0202.png\"))\n",
    "plt.show()"
   ]
  }
 ],
 "metadata": {
  "kernelspec": {
   "display_name": "data-science",
   "language": "python",
   "name": "python3"
  },
  "language_info": {
   "codemirror_mode": {
    "name": "ipython",
    "version": 3
   },
   "file_extension": ".py",
   "mimetype": "text/x-python",
   "name": "python",
   "nbconvert_exporter": "python",
   "pygments_lexer": "ipython3",
   "version": "3.9.15"
  },
  "orig_nbformat": 4
 },
 "nbformat": 4,
 "nbformat_minor": 2
}
