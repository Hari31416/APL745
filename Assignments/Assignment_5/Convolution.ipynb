{
 "cells": [
  {
   "attachments": {},
   "cell_type": "markdown",
   "metadata": {},
   "source": [
    "# Imports"
   ]
  },
  {
   "cell_type": "code",
   "execution_count": 1,
   "metadata": {},
   "outputs": [],
   "source": [
    "import numpy as np\n",
    "import matplotlib.pyplot as plt\n",
    "from scipy.signal import convolve as conv\n",
    "from scipy.signal import correlate as corr"
   ]
  },
  {
   "attachments": {},
   "cell_type": "markdown",
   "metadata": {},
   "source": [
    "# Convolution and Correlation"
   ]
  },
  {
   "attachments": {},
   "cell_type": "markdown",
   "metadata": {},
   "source": [
    "We'll start by creating a simple signal (image) and a simple filter. We'll then convolve the two using:\n",
    "\n",
    "1. `scipy.signal.correlate` (The convolution in CNNs is actually a correlation)\n",
    "2. `scipy.signal.convolve` (This is the same as `correlate` but with the filter flipped. Original definition of convolution)\n",
    "3. Custom convolution function"
   ]
  },
  {
   "attachments": {},
   "cell_type": "markdown",
   "metadata": {},
   "source": [
    "Then we'll compare the results of the three methods. We'll also have a look at which method is faster. (This is obviously be the `scipy` methods)"
   ]
  },
  {
   "attachments": {},
   "cell_type": "markdown",
   "metadata": {},
   "source": [
    "## Creating the Image and Filter"
   ]
  },
  {
   "attachments": {},
   "cell_type": "markdown",
   "metadata": {},
   "source": [
    "Let's start with creating some \"images\"."
   ]
  },
  {
   "cell_type": "code",
   "execution_count": 2,
   "metadata": {},
   "outputs": [
    {
     "data": {
      "text/plain": [
       "array([[ 46,   2, 227, 161,   9],\n",
       "       [ 99, 187,   1, 214, 179],\n",
       "       [225,  27, 165, 101,  60],\n",
       "       [195,  43, 252,  66,  30],\n",
       "       [ 64,  12, 198,  10,  80]])"
      ]
     },
     "metadata": {},
     "output_type": "display_data"
    },
    {
     "data": {
      "text/plain": [
       "<matplotlib.image.AxesImage at 0x7f8d73ca86d0>"
      ]
     },
     "execution_count": 2,
     "metadata": {},
     "output_type": "execute_result"
    },
    {
     "data": {
      "image/png": "[encoded data removed]",
      "text/plain": [
       "<Figure size 640x480 with 1 Axes>"
      ]
     },
     "metadata": {},
     "output_type": "display_data"
    }
   ],
   "source": [
    "img = np.random.randint(0, 255, (5, 5, 1))\n",
    "img2d = img[:, :, 0]\n",
    "display(img2d)\n",
    "plt.imshow(img, cmap='gray')"
   ]
  },
  {
   "attachments": {},
   "cell_type": "markdown",
   "metadata": {},
   "source": [
    "We'll also create a kernel."
   ]
  },
  {
   "cell_type": "code",
   "execution_count": 3,
   "metadata": {},
   "outputs": [
    {
     "data": {
      "text/plain": [
       "array([[ 35,   5,  16],\n",
       "       [ 59, 211, 176],\n",
       "       [114,  72,  62]])"
      ]
     },
     "metadata": {},
     "output_type": "display_data"
    },
    {
     "data": {
      "text/plain": [
       "<matplotlib.image.AxesImage at 0x7f8d73453370>"
      ]
     },
     "execution_count": 3,
     "metadata": {},
     "output_type": "execute_result"
    },
    {
     "data": {
      "image/png": "[encoded data removed]",
      "text/plain": [
       "<Figure size 640x480 with 1 Axes>"
      ]
     },
     "metadata": {},
     "output_type": "display_data"
    }
   ],
   "source": [
    "k = np.random.randint(0, 255, (3, 3, 1))\n",
    "k2d = k[:, :, 0]\n",
    "display(k2d)\n",
    "plt.imshow(k, cmap='gray')"
   ]
  },
  {
   "attachments": {},
   "cell_type": "markdown",
   "metadata": {},
   "source": [
    "So, we have a $5 \\times 5$ image and a $3 \\times 3$ kernel. The convolutions, which we'll use are `same`, `valid` and `full`. The output shape for these three modes are:\n",
    "\n",
    "1. `same`: $5 \\times 5$\n",
    "2. `valid`: $3 \\times 3$\n",
    "3. `full`: $7 \\times 7$\n"
   ]
  },
  {
   "attachments": {},
   "cell_type": "markdown",
   "metadata": {},
   "source": [
    "# Comparing Results"
   ]
  },
  {
   "attachments": {},
   "cell_type": "markdown",
   "metadata": {},
   "source": [
    "## The `convolution` function"
   ]
  },
  {
   "attachments": {},
   "cell_type": "markdown",
   "metadata": {},
   "source": [
    "As we discussed, the *convolution* in CNNs is actually a correlation. For completeness, we'll also use the `convolution` function. This is the same as `correlate` but with the filter flipped and it will help us compare the results of the two methods."
   ]
  },
  {
   "cell_type": "code",
   "execution_count": 4,
   "metadata": {},
   "outputs": [
    {
     "data": {
      "text/plain": [
       "<matplotlib.image.AxesImage at 0x7f8d733bba90>"
      ]
     },
     "execution_count": 4,
     "metadata": {},
     "output_type": "execute_result"
    },
    {
     "data": {
      "image/png": "[encoded data removed]",
      "text/plain": [
       "<Figure size 1000x1000 with 3 Axes>"
      ]
     },
     "metadata": {},
     "output_type": "display_data"
    }
   ],
   "source": [
    "fig, ax = plt.subplots(1, 3, figsize=(10, 10))\n",
    "\n",
    "valid_conv = conv(img, k, mode='valid')\n",
    "ax[0].imshow(valid_conv, cmap='gray')\n",
    "\n",
    "same_conv = conv(img, k, mode='same')\n",
    "ax[1].imshow(same_conv, cmap='gray')\n",
    "\n",
    "full_conv = conv(img, k, mode='full')\n",
    "ax[2].imshow(full_conv, cmap='gray')"
   ]
  },
  {
   "cell_type": "code",
   "execution_count": 5,
   "metadata": {},
   "outputs": [],
   "source": [
    "assert valid_conv.shape == (3, 3, 1)\n",
    "assert same_conv.shape == (5, 5, 1)\n",
    "assert full_conv.shape == (7, 7, 1)"
   ]
  },
  {
   "attachments": {},
   "cell_type": "markdown",
   "metadata": {},
   "source": [
    "Great! We see that the shapes are correct."
   ]
  },
  {
   "cell_type": "code",
   "execution_count": 6,
   "metadata": {},
   "outputs": [
    {
     "data": {
      "text/plain": [
       "array([[ 62,  72, 114],\n",
       "       [176, 211,  59],\n",
       "       [ 16,   5,  35]])"
      ]
     },
     "metadata": {},
     "output_type": "display_data"
    },
    {
     "data": {
      "text/plain": [
       "array([[ 35,   5,  16],\n",
       "       [ 59, 211, 176],\n",
       "       [114,  72,  62]])"
      ]
     },
     "metadata": {},
     "output_type": "display_data"
    }
   ],
   "source": [
    "k_flipped = np.flip(k, axis=(0, 1))\n",
    "display(k_flipped[:, :, 0])\n",
    "display(k2d)"
   ]
  },
  {
   "cell_type": "code",
   "execution_count": 7,
   "metadata": {},
   "outputs": [
    {
     "data": {
      "text/plain": [
       "<matplotlib.image.AxesImage at 0x7f8d73280460>"
      ]
     },
     "execution_count": 7,
     "metadata": {},
     "output_type": "execute_result"
    },
    {
     "data": {
      "image/png": "[encoded data removed]",
      "text/plain": [
       "<Figure size 1000x1000 with 3 Axes>"
      ]
     },
     "metadata": {},
     "output_type": "display_data"
    }
   ],
   "source": [
    "fig, ax = plt.subplots(1, 3, figsize=(10, 10))\n",
    "valid_conv_flipped = conv(img, k_flipped, mode='valid')\n",
    "ax[0].imshow(valid_conv_flipped, cmap='gray')\n",
    "\n",
    "same_conv_flipped = conv(img, k_flipped, mode='same')\n",
    "ax[1].imshow(same_conv_flipped, cmap='gray')\n",
    "\n",
    "full_conv_flipped = conv(img, k_flipped, mode='full')\n",
    "ax[2].imshow(full_conv_flipped, cmap='gray')"
   ]
  },
  {
   "attachments": {},
   "cell_type": "markdown",
   "metadata": {},
   "source": [
    "## The `correlate` function"
   ]
  },
  {
   "attachments": {},
   "cell_type": "markdown",
   "metadata": {},
   "source": [
    "Let us now use the `correlate` function."
   ]
  },
  {
   "cell_type": "code",
   "execution_count": 8,
   "metadata": {},
   "outputs": [
    {
     "data": {
      "text/plain": [
       "<matplotlib.image.AxesImage at 0x7f8d731ba4f0>"
      ]
     },
     "execution_count": 8,
     "metadata": {},
     "output_type": "execute_result"
    },
    {
     "data": {
      "image/png": "[encoded data removed]",
      "text/plain": [
       "<Figure size 1000x1000 with 3 Axes>"
      ]
     },
     "metadata": {},
     "output_type": "display_data"
    }
   ],
   "source": [
    "fig, ax = plt.subplots(1, 3, figsize=(10, 10))\n",
    "\n",
    "valid_corr = corr(img, k, mode='valid')\n",
    "ax[0].imshow(valid_corr, cmap='gray')\n",
    "\n",
    "same_corr = corr(img, k, mode='same')\n",
    "ax[1].imshow(same_corr, cmap='gray')\n",
    "\n",
    "full_corr = corr(img, k, mode='full')\n",
    "ax[2].imshow(full_corr, cmap='gray')"
   ]
  },
  {
   "cell_type": "code",
   "execution_count": 9,
   "metadata": {},
   "outputs": [
    {
     "data": {
      "text/plain": [
       "<matplotlib.image.AxesImage at 0x7f8d7306fb20>"
      ]
     },
     "execution_count": 9,
     "metadata": {},
     "output_type": "execute_result"
    },
    {
     "data": {
      "image/png": "[encoded data removed]",
      "text/plain": [
       "<Figure size 1000x1000 with 3 Axes>"
      ]
     },
     "metadata": {},
     "output_type": "display_data"
    }
   ],
   "source": [
    "fig, ax = plt.subplots(1, 3, figsize=(10, 10))\n",
    "\n",
    "valid_corr_flipped = corr(img, k_flipped, mode='valid')\n",
    "ax[0].imshow(valid_corr_flipped, cmap='gray')\n",
    "\n",
    "same_corr_flipped = corr(img, k_flipped, mode='same')\n",
    "ax[1].imshow(same_corr_flipped, cmap='gray')\n",
    "\n",
    "full_corr_flipped = corr(img, k_flipped, mode='full')\n",
    "ax[2].imshow(full_corr_flipped, cmap='gray')"
   ]
  },
  {
   "cell_type": "code",
   "execution_count": 10,
   "metadata": {},
   "outputs": [
    {
     "data": {
      "text/plain": [
       "(array([[ 88550,  73909, 115413],\n",
       "        [ 93378,  91296,  80915],\n",
       "        [ 96016,  86955,  69566]]),\n",
       " array([[ 88550,  73909, 115413],\n",
       "        [ 93378,  91296,  80915],\n",
       "        [ 96016,  86955,  69566]]))"
      ]
     },
     "execution_count": 10,
     "metadata": {},
     "output_type": "execute_result"
    }
   ],
   "source": [
    "valid_conv_flipped[:, :, 0] ,valid_corr[:, :, 0]"
   ]
  },
  {
   "attachments": {},
   "cell_type": "markdown",
   "metadata": {},
   "source": [
    "Now, as `correlate` is the same as `convolution` but with the filter flipped, the following assertions must pass:"
   ]
  },
  {
   "cell_type": "code",
   "execution_count": 11,
   "metadata": {},
   "outputs": [],
   "source": [
    "assert np.allclose(valid_conv_flipped, valid_corr)\n",
    "assert np.allclose(same_conv_flipped, same_corr)\n",
    "assert np.allclose(full_conv_flipped, full_corr)"
   ]
  },
  {
   "attachments": {},
   "cell_type": "markdown",
   "metadata": {},
   "source": [
    "This is indeed the case."
   ]
  },
  {
   "attachments": {},
   "cell_type": "markdown",
   "metadata": {},
   "source": [
    "## Custom Convolution Function"
   ]
  },
  {
   "attachments": {},
   "cell_type": "markdown",
   "metadata": {},
   "source": [
    "We are defining a function that will perform the convolution operation."
   ]
  },
  {
   "cell_type": "code",
   "execution_count": 12,
   "metadata": {},
   "outputs": [],
   "source": [
    "def convolve(image, kernel, stride=1, padding='same'):\n",
    "    \"\"\"\n",
    "    Calculate the convolution of an image with a kernel (This is actually a cross-correlation)\n",
    "\n",
    "    Parameters\n",
    "    ----------\n",
    "    image : numpy.ndarray\n",
    "        The image to convolve shape (H, W, C)\n",
    "    kernel : numpy.ndarray\n",
    "        The kernel to convolve with shape (H, W, C)\n",
    "    stride : int\n",
    "        The stride of the convolution, default is 1\n",
    "    padding : str or int\n",
    "        The padding of the convolution, default is 'same'\n",
    "        - If 'same' the padding is calculated to keep the output size the same as the input size\n",
    "        - If 'valid' no padding is applied\n",
    "        - If 'full' the padding is calculated to keep the output size the same as the input size + the kernel size - 1\n",
    "        - If int, a padding of that size is applied\n",
    "    \n",
    "    Returns\n",
    "    -------\n",
    "    numpy.ndarray\n",
    "        The convolved image, shape (H, W)\n",
    "    \"\"\"\n",
    "    # Get shapes of image and kernel\n",
    "    if len(image.shape) == 2:\n",
    "        image = image[:, :, np.newaxis]\n",
    "    if len(kernel.shape) == 2:\n",
    "        kernel = kernel[:, :, np.newaxis]\n",
    "    (iH, iW, iC) = image.shape\n",
    "    (kH, kW, kC) = kernel.shape\n",
    "\n",
    "    # Check if the kernel and image have the same number of channels\n",
    "    if iC != kC:\n",
    "        raise ValueError(\"The number of channels in the image and kernel must be the same\")\n",
    "\n",
    "    if padding == \"same\":\n",
    "        padding = int((kW - 1) / 2)\n",
    "    elif padding == \"valid\":\n",
    "        padding = 0\n",
    "    elif padding == \"full\":\n",
    "        padding = int(kW - 1)\n",
    "\n",
    "    # Compute the size of the output volume\n",
    "    oH = int((iH - kH + 2 * padding) / stride) + 1\n",
    "    oW = int((iW - kW + 2 * padding) / stride) + 1\n",
    "\n",
    "    # Initialize the output volume\n",
    "    output = np.zeros((oH, oW))\n",
    "\n",
    "    # Pad the image\n",
    "    image = np.pad(image, ((padding, padding), (padding, padding), (0, 0)), 'constant')\n",
    "\n",
    "    # Loop over the output volume\n",
    "    for y in np.arange(0, oH):\n",
    "        for x in np.arange(0, oW):\n",
    "            roi = image[y * stride:y * stride + kH, x * stride:x * stride + kW]\n",
    "\n",
    "            k = np.sum(roi * kernel)\n",
    "            output[y, x] = k\n",
    "\n",
    "    # Return the output volume\n",
    "    return output"
   ]
  },
  {
   "cell_type": "code",
   "execution_count": 13,
   "metadata": {},
   "outputs": [],
   "source": [
    "assert np.allclose(same_corr.squeeze(), convolve(img, k, padding='same').squeeze()), \"Same padding is not correct\"\n",
    "assert np.allclose(valid_corr.squeeze(), convolve(img, k, padding='valid').squeeze()), \"Valid padding is not correct\"\n",
    "assert np.allclose(full_corr.squeeze(), convolve(img, k, padding='full').squeeze()), \"Full padding is not correct\""
   ]
  },
  {
   "attachments": {},
   "cell_type": "markdown",
   "metadata": {},
   "source": [
    "So, for one channel, both are giving the same result. What about when we have multiple channels?"
   ]
  },
  {
   "cell_type": "code",
   "execution_count": 14,
   "metadata": {},
   "outputs": [
    {
     "name": "stdout",
     "output_type": "stream",
     "text": [
      "Same padding is not correct\n",
      "Full padding is not correct\n"
     ]
    }
   ],
   "source": [
    "img2 = np.random.randint(0, 255, (5, 5, 3))\n",
    "k2 = np.random.randint(0, 255, (3, 3, 3))\n",
    "\n",
    "valid_corr_multi = np.sum(corr(img2, k2, mode='valid'), axis=-1)\n",
    "valid_corr_multi_function = convolve(img2, k2, padding='valid')\n",
    "try:\n",
    "    assert np.allclose(valid_corr_multi, valid_corr_multi_function)\n",
    "except AssertionError:\n",
    "    print(\"Valid padding is not correct\")\n",
    "\n",
    "same_corr_multi = np.sum(corr(img2, k2, mode='same'), axis=-1)\n",
    "same_corr_multi_function = convolve(img2, k2, padding='same')\n",
    "try:\n",
    "    assert np.allclose(same_corr_multi, same_corr_multi_function)\n",
    "except AssertionError:\n",
    "    print(\"Same padding is not correct\")\n",
    "\n",
    "full_corr_multi = np.sum(corr(img2, k2, mode='full'), axis=-1)\n",
    "full_corr_multi_function = convolve(img2, k2, padding='full')\n",
    "try:\n",
    "    assert np.allclose(full_corr_multi, full_corr_multi_function)\n",
    "except AssertionError:\n",
    "    print(\"Full padding is not correct\")"
   ]
  },
  {
   "cell_type": "code",
   "execution_count": 15,
   "metadata": {},
   "outputs": [
    {
     "data": {
      "text/plain": [
       "True"
      ]
     },
     "execution_count": 15,
     "metadata": {},
     "output_type": "execute_result"
    }
   ],
   "source": [
    "same_corr_multi_function.shape == img2[:, :, 1].shape"
   ]
  },
  {
   "attachments": {},
   "cell_type": "markdown",
   "metadata": {},
   "source": [
    "So, it seems that only the `same` padding is giving the same result. Assuming that the function written by us is correct, if we want to use multiple channels, we need to use our function."
   ]
  },
  {
   "attachments": {},
   "cell_type": "markdown",
   "metadata": {},
   "source": [
    "## Checking Which Function is correct"
   ]
  },
  {
   "attachments": {},
   "cell_type": "markdown",
   "metadata": {},
   "source": [
    "To check which function is correct, we'll use the following image:"
   ]
  },
  {
   "cell_type": "code",
   "execution_count": 16,
   "metadata": {},
   "outputs": [
    {
     "data": {
      "text/plain": [
       "((4, 4, 3),\n",
       " array([[[1, 9, 7],\n",
       "         [4, 4, 8],\n",
       "         [7, 3, 1],\n",
       "         [7, 3, 1]],\n",
       " \n",
       "        [[2, 8, 6],\n",
       "         [5, 5, 9],\n",
       "         [8, 2, 2],\n",
       "         [8, 2, 2]],\n",
       " \n",
       "        [[3, 7, 5],\n",
       "         [6, 6, 4],\n",
       "         [9, 1, 3],\n",
       "         [9, 1, 3]],\n",
       " \n",
       "        [[3, 2, 1],\n",
       "         [3, 2, 1],\n",
       "         [3, 2, 1],\n",
       "         [3, 2, 1]]]))"
      ]
     },
     "execution_count": 16,
     "metadata": {},
     "output_type": "execute_result"
    }
   ],
   "source": [
    "image = np.array(\n",
    "    [\n",
    "        [\n",
    "            [1, 2, 3, 3],\n",
    "            [4, 5, 6, 3],\n",
    "            [7, 8, 9, 3],\n",
    "            [7, 8, 9, 3],\n",
    "        ],\n",
    "        [\n",
    "            [9, 8, 7, 2],\n",
    "            [4, 5, 6, 2],\n",
    "            [3, 2, 1, 2],\n",
    "            [3, 2, 1, 2],\n",
    "        ],\n",
    "        [\n",
    "            [7, 6, 5, 1],\n",
    "            [8, 9, 4, 1],\n",
    "            [1, 2, 3, 1],\n",
    "            [1, 2, 3, 1],\n",
    "        ],\n",
    "    ]\n",
    ").T\n",
    "image.shape, image"
   ]
  },
  {
   "cell_type": "code",
   "execution_count": 17,
   "metadata": {},
   "outputs": [
    {
     "data": {
      "text/plain": [
       "((3, 3, 3),\n",
       " array([[[-1,  0, -1],\n",
       "         [ 0, -1, -1],\n",
       "         [ 0,  0, -1]],\n",
       " \n",
       "        [[ 0,  0,  0],\n",
       "         [-1, -1,  0],\n",
       "         [ 0,  0,  0]],\n",
       " \n",
       "        [[ 0,  0,  0],\n",
       "         [ 0, -1,  0],\n",
       "         [-1,  0,  0]]]))"
      ]
     },
     "execution_count": 17,
     "metadata": {},
     "output_type": "execute_result"
    }
   ],
   "source": [
    "kernel = np.array(\n",
    "    [\n",
    "        [\n",
    "            [-1, 0, 0],\n",
    "            [0, -1, 0],\n",
    "            [0, 0, -1],\n",
    "        ],\n",
    "        [\n",
    "            [0, 0, 0],\n",
    "            [-1, -1, -1],\n",
    "            [0, 0, 0],\n",
    "        ],\n",
    "        [\n",
    "            [-1, 0, 0],\n",
    "            [-1, 0, 0],\n",
    "            [-1, 0, 0],\n",
    "        ],\n",
    "    ]\n",
    ").T\n",
    "kernel.shape, kernel"
   ]
  },
  {
   "cell_type": "code",
   "execution_count": 18,
   "metadata": {},
   "outputs": [
    {
     "data": {
      "text/plain": [
       "(array([[[1, 2, 3, 3],\n",
       "         [4, 5, 6, 3],\n",
       "         [7, 8, 9, 3],\n",
       "         [7, 8, 9, 3]],\n",
       " \n",
       "        [[9, 8, 7, 2],\n",
       "         [4, 5, 6, 2],\n",
       "         [3, 2, 1, 2],\n",
       "         [3, 2, 1, 2]],\n",
       " \n",
       "        [[7, 6, 5, 1],\n",
       "         [8, 9, 4, 1],\n",
       "         [1, 2, 3, 1],\n",
       "         [1, 2, 3, 1]]]),\n",
       " array([[[-1,  0,  0],\n",
       "         [ 0, -1,  0],\n",
       "         [ 0,  0, -1]],\n",
       " \n",
       "        [[ 0,  0,  0],\n",
       "         [-1, -1, -1],\n",
       "         [ 0,  0,  0]],\n",
       " \n",
       "        [[-1,  0,  0],\n",
       "         [-1,  0,  0],\n",
       "         [-1,  0,  0]]]))"
      ]
     },
     "execution_count": 18,
     "metadata": {},
     "output_type": "execute_result"
    }
   ],
   "source": [
    "image.T, kernel.T"
   ]
  },
  {
   "cell_type": "code",
   "execution_count": 19,
   "metadata": {},
   "outputs": [
    {
     "data": {
      "text/plain": [
       "(array([[-46, -41],\n",
       "        [-37, -35]]),\n",
       " array([[-46, -41],\n",
       "        [-37, -35]]))"
      ]
     },
     "execution_count": 19,
     "metadata": {},
     "output_type": "execute_result"
    }
   ],
   "source": [
    "valid_func = convolve(image, kernel, padding=\"valid\").astype(int)\n",
    "valid_corr = np.sum(corr(image, kernel, mode = \"valid\"), axis=-1).astype(int)\n",
    "try:\n",
    "    assert np.allclose(valid_corr, valid_func)\n",
    "except AssertionError:\n",
    "    print(\"Values do not match\")\n",
    "valid_func.T, valid_corr.T"
   ]
  },
  {
   "attachments": {},
   "cell_type": "markdown",
   "metadata": {},
   "source": [
    "For `same` padding, calculating the convolution by hand, we get:\n",
    "\n",
    "$$\n",
    "\\begin{bmatrix}\n",
    "-23&-47&-38&-21\\\\\n",
    "-21&-46&-41&-26\\\\\n",
    "-20&-37&-35&-22\\\\\n",
    "-212&-23&-26&-21\\\\\n",
    "\\end{bmatrix}\n",
    "$$"
   ]
  },
  {
   "cell_type": "code",
   "execution_count": 20,
   "metadata": {},
   "outputs": [
    {
     "data": {
      "text/plain": [
       "array([[-23, -21, -20, -12],\n",
       "       [-47, -46, -37, -23],\n",
       "       [-38, -41, -35, -26],\n",
       "       [-21, -26, -22, -21]])"
      ]
     },
     "execution_count": 20,
     "metadata": {},
     "output_type": "execute_result"
    }
   ],
   "source": [
    "same_correct = np.array(\n",
    "    [\n",
    "        [-23, -47, -38, -21],\n",
    "        [-21, -46, -41, -26],\n",
    "        [-20, -37, -35, -22],\n",
    "        [-12, -23, -26, -21],\n",
    "    ]\n",
    ").T\n",
    "\n",
    "same_correct"
   ]
  },
  {
   "cell_type": "code",
   "execution_count": 21,
   "metadata": {},
   "outputs": [
    {
     "name": "stdout",
     "output_type": "stream",
     "text": [
      "Your function values are correct\n"
     ]
    }
   ],
   "source": [
    "same_func = convolve(image, kernel, padding=\"same\").astype(int)\n",
    "same_corr = np.sum(corr(image, kernel, mode = \"same\"), axis=-1).astype(int)\n",
    "if np.allclose(same_corr, same_correct):\n",
    "    print(\"SciPy valued are correct\")\n",
    "elif np.allclose(same_func, same_correct):\n",
    "    print(\"Your function values are correct\")\n",
    "else:\n",
    "    print(\"Values do not match\")"
   ]
  },
  {
   "attachments": {},
   "cell_type": "markdown",
   "metadata": {},
   "source": [
    "This shows that our implementation is correct."
   ]
  },
  {
   "attachments": {},
   "cell_type": "markdown",
   "metadata": {},
   "source": [
    "## Modifying the `correlate` function"
   ]
  },
  {
   "attachments": {},
   "cell_type": "markdown",
   "metadata": {},
   "source": [
    "Though our function is correct, it works very slow, as you'll see in the final section. Here, we'll define a function which uses `correlate` to implement the convolution operation.\n",
    "\n",
    "The idea is that the `correlate` function is used to calculate the convolution for each channel and then the results are summed up."
   ]
  },
  {
   "cell_type": "code",
   "execution_count": 22,
   "metadata": {},
   "outputs": [],
   "source": [
    "def convolution_scipy(image, kernel, padding, stride=1):\n",
    "    # Get shapes of image and kernel\n",
    "    if len(image.shape) == 2:\n",
    "        image = image[:, :, np.newaxis]\n",
    "    if len(kernel.shape) == 2:\n",
    "        kernel = kernel[:, :, np.newaxis]\n",
    "    (iH, iW, iC) = image.shape\n",
    "    (kH, kW, kC) = kernel.shape\n",
    "\n",
    "    # Check if the kernel and image have the same number of channels\n",
    "    if iC != kC:\n",
    "        raise ValueError(\"The number of channels in the image and kernel must be the same\")\n",
    "\n",
    "    if padding == \"same\":\n",
    "        padding = int((kW - 1) / 2)\n",
    "    elif padding == \"valid\":\n",
    "        padding = 0\n",
    "    elif padding == \"full\":\n",
    "        padding = int(kW - 1)\n",
    "\n",
    "    # Compute the size of the output volume\n",
    "    oH = int((iH - kH + 2 * padding) / stride) + 1\n",
    "    oW = int((iW - kW + 2 * padding) / stride) + 1\n",
    "\n",
    "    # Initialize the output volume\n",
    "    output = np.zeros((oH, oW))\n",
    "\n",
    "    # Pad the image\n",
    "    image = np.pad(image, ((padding, padding), (padding, padding), (0, 0)), 'constant')\n",
    "\n",
    "    # Loop over the color channel and use scipy correlate\n",
    "    for c in range(iC):\n",
    "        output += corr(image[:, :, c], kernel[:, :, c], mode=\"valid\")\n",
    "    \n",
    "    # Return the output volume\n",
    "    return output"
   ]
  },
  {
   "attachments": {},
   "cell_type": "markdown",
   "metadata": {},
   "source": [
    "Let's see if your function works with the same values as the scipy function."
   ]
  },
  {
   "cell_type": "code",
   "execution_count": 23,
   "metadata": {},
   "outputs": [
    {
     "name": "stdout",
     "output_type": "stream",
     "text": [
      "Your function values are correct\n"
     ]
    }
   ],
   "source": [
    "same_func = convolution_scipy(image, kernel, padding=\"same\").astype(int)\n",
    "same_corr = np.sum(corr(image, kernel, mode = \"same\"), axis=-1).astype(int)\n",
    "if np.allclose(same_corr, same_correct):\n",
    "    print(\"SciPy valued are correct\")\n",
    "elif np.allclose(same_func, same_correct):\n",
    "    print(\"Your function values are correct\")\n",
    "else:\n",
    "    print(\"Values do not match\")"
   ]
  },
  {
   "attachments": {},
   "cell_type": "markdown",
   "metadata": {},
   "source": [
    "Great! Let's run some more checks."
   ]
  },
  {
   "cell_type": "code",
   "execution_count": 24,
   "metadata": {},
   "outputs": [
    {
     "name": "stdout",
     "output_type": "stream",
     "text": [
      "Valid padding is correct\n",
      "Same padding is correct\n",
      "Full padding is correct\n"
     ]
    }
   ],
   "source": [
    "img2 = np.random.randint(0, 255, (5, 5, 3))\n",
    "k2 = np.random.randint(0, 255, (3, 3, 3))\n",
    "\n",
    "valid_corr_original_func = convolve(img2, k2, padding='valid')\n",
    "valid_corr_modified_func = convolution_scipy(img2, k2, padding='valid')\n",
    "\n",
    "try:\n",
    "    assert np.allclose(valid_corr_original_func, valid_corr_modified_func)\n",
    "    print(\"Valid padding is correct\")\n",
    "except AssertionError:\n",
    "    print(\"Valid padding is not correct\")\n",
    "\n",
    "same_corr_original_func = convolve(img2, k2, padding='same')\n",
    "same_corr_modified_func = convolution_scipy(img2, k2, padding='same')\n",
    "\n",
    "try:\n",
    "    assert np.allclose(same_corr_original_func, same_corr_modified_func)\n",
    "    print(\"Same padding is correct\")\n",
    "except AssertionError:\n",
    "    print(\"Same padding is not correct\")\n",
    "\n",
    "full_corr_original_func = convolve(img2, k2, padding='full')\n",
    "full_corr_modified_func = convolution_scipy(img2, k2, padding='full')\n",
    "\n",
    "try:\n",
    "    assert np.allclose(full_corr_original_func, full_corr_modified_func)\n",
    "    print(\"Full padding is correct\")\n",
    "except AssertionError:\n",
    "    print(\"Full padding is not correct\")"
   ]
  },
  {
   "attachments": {},
   "cell_type": "markdown",
   "metadata": {},
   "source": [
    "Excellent!"
   ]
  },
  {
   "attachments": {},
   "cell_type": "markdown",
   "metadata": {},
   "source": [
    "# Comparing Speed"
   ]
  },
  {
   "attachments": {},
   "cell_type": "markdown",
   "metadata": {},
   "source": [
    "For this, we'll create larger arrays and compare the speed of these methods."
   ]
  },
  {
   "attachments": {},
   "cell_type": "markdown",
   "metadata": {},
   "source": [
    "## Creating Larger Arrays"
   ]
  },
  {
   "cell_type": "code",
   "execution_count": 25,
   "metadata": {},
   "outputs": [],
   "source": [
    "image = np.random.randint(0, 255, (512, 512, 3))\n",
    "kernel = np.random.randint(0, 255, (5, 5, 3))"
   ]
  },
  {
   "attachments": {},
   "cell_type": "markdown",
   "metadata": {},
   "source": [
    "## The Original Function"
   ]
  },
  {
   "cell_type": "code",
   "execution_count": 26,
   "metadata": {},
   "outputs": [
    {
     "name": "stdout",
     "output_type": "stream",
     "text": [
      "2.28 s ± 465 ms per loop (mean ± std. dev. of 7 runs, 1 loop each)\n",
      "1.98 s ± 50 ms per loop (mean ± std. dev. of 7 runs, 1 loop each)\n",
      "2.07 s ± 22 ms per loop (mean ± std. dev. of 7 runs, 1 loop each)\n"
     ]
    }
   ],
   "source": [
    "%timeit convolve(image, kernel, padding='same')\n",
    "%timeit convolve(image, kernel, padding='valid')\n",
    "%timeit convolve(image, kernel, padding='full')"
   ]
  },
  {
   "attachments": {},
   "cell_type": "markdown",
   "metadata": {},
   "source": [
    "## The Modified Function"
   ]
  },
  {
   "cell_type": "code",
   "execution_count": 27,
   "metadata": {},
   "outputs": [
    {
     "name": "stdout",
     "output_type": "stream",
     "text": [
      "94.5 ms ± 6.13 ms per loop (mean ± std. dev. of 7 runs, 10 loops each)\n",
      "90.3 ms ± 4.06 ms per loop (mean ± std. dev. of 7 runs, 10 loops each)\n",
      "80 ms ± 6.75 ms per loop (mean ± std. dev. of 7 runs, 10 loops each)\n"
     ]
    }
   ],
   "source": [
    "%timeit convolution_scipy(image, kernel, padding='same')\n",
    "%timeit convolution_scipy(image, kernel, padding='valid')\n",
    "%timeit convolution_scipy(image, kernel, padding='full')"
   ]
  },
  {
   "attachments": {},
   "cell_type": "markdown",
   "metadata": {},
   "source": [
    "## Scipy `correlate` Function"
   ]
  },
  {
   "cell_type": "code",
   "execution_count": 28,
   "metadata": {},
   "outputs": [
    {
     "name": "stdout",
     "output_type": "stream",
     "text": [
      "138 ms ± 4.24 ms per loop (mean ± std. dev. of 7 runs, 10 loops each)\n",
      "108 ms ± 2.02 ms per loop (mean ± std. dev. of 7 runs, 10 loops each)\n",
      "127 ms ± 13.5 ms per loop (mean ± std. dev. of 7 runs, 10 loops each)\n"
     ]
    }
   ],
   "source": [
    "%timeit corr(image, kernel, mode='same')\n",
    "%timeit corr(image, kernel, mode='valid')\n",
    "%timeit corr(image, kernel, mode='full')"
   ]
  },
  {
   "cell_type": "code",
   "execution_count": 29,
   "metadata": {},
   "outputs": [
    {
     "data": {
      "text/plain": [
       "(24.126984126984127, 21.926910299003325, 25.875)"
      ]
     },
     "execution_count": 29,
     "metadata": {},
     "output_type": "execute_result"
    }
   ],
   "source": [
    "2280/94.5, 1980/90.3, 2070/80"
   ]
  },
  {
   "attachments": {},
   "cell_type": "markdown",
   "metadata": {},
   "source": [
    "So, using the modyfied `correlate` function is over 20 times faster than using the original function written by us."
   ]
  },
  {
   "attachments": {},
   "cell_type": "markdown",
   "metadata": {},
   "source": [
    "# Some More Tests"
   ]
  },
  {
   "cell_type": "code",
   "execution_count": 1,
   "metadata": {},
   "outputs": [],
   "source": [
    "import numpy as np\n",
    "import matplotlib.pyplot as plt\n",
    "from scipy.signal import convolve as conv\n",
    "from scipy.signal import correlate as corr\n",
    "from nn.convolution import Convolution"
   ]
  },
  {
   "cell_type": "code",
   "execution_count": 2,
   "metadata": {},
   "outputs": [],
   "source": [
    "def convolve(image, kernel, stride=1, padding='same'):\n",
    "    \"\"\"\n",
    "    Calculate the convolution of an image with a kernel (This is actually a cross-correlation)\n",
    "\n",
    "    Parameters\n",
    "    ----------\n",
    "    image : numpy.ndarray\n",
    "        The image to convolve shape (H, W, C)\n",
    "    kernel : numpy.ndarray\n",
    "        The kernel to convolve with shape (H, W, C)\n",
    "    stride : int\n",
    "        The stride of the convolution, default is 1\n",
    "    padding : str or int\n",
    "        The padding of the convolution, default is 'same'\n",
    "        - If 'same' the padding is calculated to keep the output size the same as the input size\n",
    "        - If 'valid' no padding is applied\n",
    "        - If 'full' the padding is calculated to keep the output size the same as the input size + the kernel size - 1\n",
    "        - If int, a padding of that size is applied\n",
    "    \n",
    "    Returns\n",
    "    -------\n",
    "    numpy.ndarray\n",
    "        The convolved image, shape (H, W)\n",
    "    \"\"\"\n",
    "    # Get shapes of image and kernel\n",
    "    if len(image.shape) == 2:\n",
    "        image = image[:, :, np.newaxis]\n",
    "    if len(kernel.shape) == 2:\n",
    "        kernel = kernel[:, :, np.newaxis]\n",
    "    (iH, iW, iC) = image.shape\n",
    "    (kH, kW, kC) = kernel.shape\n",
    "\n",
    "    # Check if the kernel and image have the same number of channels\n",
    "    if iC != kC:\n",
    "        raise ValueError(\"The number of channels in the image and kernel must be the same\")\n",
    "\n",
    "    if padding == \"same\":\n",
    "        padding = int((kW - 1) / 2)\n",
    "    elif padding == \"valid\":\n",
    "        padding = 0\n",
    "    elif padding == \"full\":\n",
    "        padding = int(kW - 1)\n",
    "\n",
    "    # Compute the size of the output volume\n",
    "    oH = int((iH - kH + 2 * padding) / stride) + 1\n",
    "    oW = int((iW - kW + 2 * padding) / stride) + 1\n",
    "\n",
    "    # Initialize the output volume\n",
    "    output = np.zeros((oH, oW))\n",
    "\n",
    "    # Pad the image\n",
    "    image = np.pad(image, ((padding, padding), (padding, padding), (0, 0)), 'constant')\n",
    "\n",
    "    # Loop over the output volume\n",
    "    for y in np.arange(0, oH):\n",
    "        for x in np.arange(0, oW):\n",
    "            roi = image[y * stride:y * stride + kH, x * stride:x * stride + kW]\n",
    "\n",
    "            k = np.sum(roi * kernel)\n",
    "            output[y, x] = k\n",
    "\n",
    "    # Return the output volume\n",
    "    return output"
   ]
  },
  {
   "cell_type": "code",
   "execution_count": 3,
   "metadata": {},
   "outputs": [],
   "source": [
    "def convolution_scipy(image, kernel, padding):\n",
    "    # Get shapes of image and kernel\n",
    "    if len(image.shape) == 2:\n",
    "        image = image[:, :, np.newaxis]\n",
    "    if len(kernel.shape) == 2:\n",
    "        kernel = kernel[:, :, np.newaxis]\n",
    "    (iH, iW, iC) = image.shape\n",
    "    (kH, kW, kC) = kernel.shape\n",
    "\n",
    "    # Check if the kernel and image have the same number of channels\n",
    "    if iC != kC:\n",
    "        raise ValueError(\"The number of channels in the image and kernel must be the same\")\n",
    "\n",
    "    if padding == \"same\":\n",
    "        padding = int((kW - 1) / 2)\n",
    "    elif padding == \"valid\":\n",
    "        padding = 0\n",
    "    elif padding == \"full\":\n",
    "        padding = int(kW - 1)\n",
    "\n",
    "    # Compute the size of the output volume\n",
    "    oH = int((iH - kH + 2 * padding)) + 1\n",
    "    oW = int((iW - kW + 2 * padding)) + 1\n",
    "\n",
    "    # Initialize the output volume\n",
    "    output = np.zeros((oH, oW))\n",
    "\n",
    "    # Pad the image\n",
    "    image = np.pad(image, ((padding, padding), (padding, padding), (0, 0)), 'constant')\n",
    "\n",
    "    # Loop over the color channel and use scipy correlate\n",
    "    for c in range(iC):\n",
    "        output += corr(image[:, :, c], kernel[:, :, c], mode=\"valid\")\n",
    "    \n",
    "    # Return the output volume\n",
    "    return output"
   ]
  },
  {
   "cell_type": "code",
   "execution_count": 4,
   "metadata": {},
   "outputs": [],
   "source": [
    "con = Convolution()"
   ]
  },
  {
   "cell_type": "code",
   "execution_count": 5,
   "metadata": {},
   "outputs": [
    {
     "name": "stdout",
     "output_type": "stream",
     "text": [
      "(128, 128, 10)\n"
     ]
    },
    {
     "data": {
      "text/plain": [
       "(128, 128, 10)"
      ]
     },
     "execution_count": 5,
     "metadata": {},
     "output_type": "execute_result"
    }
   ],
   "source": [
    "hi, wi, ci = 128, 128, 1\n",
    "hk, wk, co = 5,5, 10\n",
    "stride = 1\n",
    "padding = \"same\"\n",
    "\n",
    "image = np.random.randint(0, 255, (hi, wi, ci))\n",
    "kernels = np.random.randint(0, 255, (hk, wk, ci, co))\n",
    "biases = np.random.randint(0, 255, (co,))\n",
    "from_class = con.convolve(image, kernels, stride=stride, padding=padding, bias=biases)\n",
    "print(from_class.shape)\n",
    "\n",
    "if isinstance(padding, int):\n",
    "    padding = padding\n",
    "elif padding == \"same\":\n",
    "    padding = int((hk - 1) / 2)\n",
    "elif padding == \"valid\":\n",
    "    padding = 0\n",
    "elif padding == \"full\":\n",
    "    padding = int(hk - 1)\n",
    "    \n",
    "ho = int((hi - hk + 2 * padding)/stride) + 1\n",
    "wo = int((wi - wk + 2 * padding)/stride) + 1\n",
    "output_slow = np.zeros((ho, wo, co))\n",
    "\n",
    "for i in range(co):\n",
    "    output_slow[:, :, i] = convolve(image, kernels[:, :, :, i], padding=padding, stride=stride) + biases[i]\n",
    "\n",
    "output_slow.shape"
   ]
  },
  {
   "cell_type": "code",
   "execution_count": 6,
   "metadata": {},
   "outputs": [
    {
     "data": {
      "text/plain": [
       "(128, 128, 10)"
      ]
     },
     "execution_count": 6,
     "metadata": {},
     "output_type": "execute_result"
    }
   ],
   "source": [
    "ho_2 = int((hi - hk + 2 * padding)) + 1\n",
    "wo_2 = int((wi - wk + 2 * padding)) + 1\n",
    "output_fast = np.zeros((ho_2, wo_2, co))\n",
    "\n",
    "for i in range(co):\n",
    "    output_fast[:, :, i] = convolution_scipy(image, kernels[:, :, :, i], padding=padding) + biases[i]\n",
    "\n",
    "output_fast = output_fast[::stride, ::stride, :]\n",
    "output_fast.shape"
   ]
  },
  {
   "cell_type": "code",
   "execution_count": 7,
   "metadata": {},
   "outputs": [
    {
     "data": {
      "text/plain": [
       "(True, True)"
      ]
     },
     "execution_count": 7,
     "metadata": {},
     "output_type": "execute_result"
    }
   ],
   "source": [
    "np.allclose(output_slow, output_fast), np.allclose(output_slow, from_class)"
   ]
  },
  {
   "attachments": {},
   "cell_type": "markdown",
   "metadata": {},
   "source": [
    "## Max Pooling"
   ]
  },
  {
   "cell_type": "code",
   "execution_count": 17,
   "metadata": {},
   "outputs": [],
   "source": [
    "hi, wi, ci = 4, 4, 3\n",
    "hk, wk, co = 2,2, 10\n",
    "stride = 2\n",
    "padding = \"same\"\n",
    "image = np.random.randint(0, 255, (hi, wi, ci))\n",
    "ho = int((hi - hk) / stride) + 1\n",
    "wo = int((wi - wk) / stride) + 1\n",
    "output = np.zeros((ho, wo))\n",
    "\n",
    "for x in range(wo):\n",
    "        for y in range(ho):\n",
    "            roi = image[\n",
    "                y * stride : y * stride + hk,\n",
    "                x * stride : x * stride + wk,\n",
    "            ]\n",
    "            output[y, x] = np.max(roi)\n",
    "            # print(np.where(roi == np.max(roi)))"
   ]
  },
  {
   "cell_type": "code",
   "execution_count": 18,
   "metadata": {},
   "outputs": [
    {
     "data": {
      "text/plain": [
       "(2, 2)"
      ]
     },
     "execution_count": 18,
     "metadata": {},
     "output_type": "execute_result"
    }
   ],
   "source": [
    "output.shape"
   ]
  },
  {
   "cell_type": "code",
   "execution_count": 19,
   "metadata": {},
   "outputs": [
    {
     "data": {
      "text/plain": [
       "array([[222., 245.],\n",
       "       [243., 253.]])"
      ]
     },
     "execution_count": 19,
     "metadata": {},
     "output_type": "execute_result"
    }
   ],
   "source": [
    "output"
   ]
  },
  {
   "cell_type": "code",
   "execution_count": 20,
   "metadata": {},
   "outputs": [
    {
     "data": {
      "text/plain": [
       "array([[[217,  11,  84, 216],\n",
       "        [123, 222, 243,   9],\n",
       "        [ 63,  28, 222, 129],\n",
       "        [ 98, 110, 129, 227]],\n",
       "\n",
       "       [[167,  29, 155, 116],\n",
       "        [129, 124, 204,  60],\n",
       "        [208, 245, 226,  20],\n",
       "        [127, 157,  99,  52]],\n",
       "\n",
       "       [[  5, 156, 140,   0],\n",
       "        [ 66,  27, 236, 184],\n",
       "        [ 42, 129, 253,  64],\n",
       "        [212, 153,  94,  84]]])"
      ]
     },
     "execution_count": 20,
     "metadata": {},
     "output_type": "execute_result"
    }
   ],
   "source": [
    "image.T"
   ]
  },
  {
   "cell_type": "code",
   "execution_count": 21,
   "metadata": {},
   "outputs": [
    {
     "data": {
      "text/plain": [
       "array([[222., 245.],\n",
       "       [243., 253.]])"
      ]
     },
     "execution_count": 21,
     "metadata": {},
     "output_type": "execute_result"
    }
   ],
   "source": [
    "con.max_pool(image,2,2)"
   ]
  },
  {
   "cell_type": "code",
   "execution_count": 23,
   "metadata": {},
   "outputs": [
    {
     "ename": "AttributeError",
     "evalue": "module 'numpy' has no attribute 'avg'",
     "output_type": "error",
     "traceback": [
      "\u001b[0;31m---------------------------------------------------------------------------\u001b[0m",
      "\u001b[0;31mAttributeError\u001b[0m                            Traceback (most recent call last)",
      "Cell \u001b[0;32mIn[23], line 1\u001b[0m\n\u001b[0;32m----> 1\u001b[0m con\u001b[39m.\u001b[39;49maverage_pool(image,\u001b[39m2\u001b[39;49m,\u001b[39m2\u001b[39;49m)\n",
      "File \u001b[0;32m/media/hari31416/Hari_SSD/Users/harik/Desktop/APL745/Assignments/Assignment_5/nn/convolution.py:236\u001b[0m, in \u001b[0;36mConvolution.average_pool\u001b[0;34m(self, image, pool_size, stride)\u001b[0m\n\u001b[1;32m    231\u001b[0m     \u001b[39mfor\u001b[39;00m y \u001b[39min\u001b[39;00m \u001b[39mrange\u001b[39m(ho):\n\u001b[1;32m    232\u001b[0m         roi \u001b[39m=\u001b[39m image[\n\u001b[1;32m    233\u001b[0m             y \u001b[39m*\u001b[39m stride : y \u001b[39m*\u001b[39m stride \u001b[39m+\u001b[39m pool_size,\n\u001b[1;32m    234\u001b[0m             x \u001b[39m*\u001b[39m stride : x \u001b[39m*\u001b[39m stride \u001b[39m+\u001b[39m pool_size,\n\u001b[1;32m    235\u001b[0m         ]\n\u001b[0;32m--> 236\u001b[0m         output[y, x] \u001b[39m=\u001b[39m np\u001b[39m.\u001b[39;49mavg(roi)\n\u001b[1;32m    237\u001b[0m \u001b[39mreturn\u001b[39;00m output\n",
      "File \u001b[0;32m~/anaconda3/envs/data-science/lib/python3.9/site-packages/numpy/__init__.py:311\u001b[0m, in \u001b[0;36m__getattr__\u001b[0;34m(attr)\u001b[0m\n\u001b[1;32m    308\u001b[0m     \u001b[39mfrom\u001b[39;00m \u001b[39m.\u001b[39;00m\u001b[39mtesting\u001b[39;00m \u001b[39mimport\u001b[39;00m Tester\n\u001b[1;32m    309\u001b[0m     \u001b[39mreturn\u001b[39;00m Tester\n\u001b[0;32m--> 311\u001b[0m \u001b[39mraise\u001b[39;00m \u001b[39mAttributeError\u001b[39;00m(\u001b[39m\"\u001b[39m\u001b[39mmodule \u001b[39m\u001b[39m{!r}\u001b[39;00m\u001b[39m has no attribute \u001b[39m\u001b[39m\"\u001b[39m\n\u001b[1;32m    312\u001b[0m                      \u001b[39m\"\u001b[39m\u001b[39m{!r}\u001b[39;00m\u001b[39m\"\u001b[39m\u001b[39m.\u001b[39mformat(\u001b[39m__name__\u001b[39m, attr))\n",
      "\u001b[0;31mAttributeError\u001b[0m: module 'numpy' has no attribute 'avg'"
     ]
    }
   ],
   "source": [
    "con.average_pool(image,2,2)"
   ]
  },
  {
   "cell_type": "code",
   "execution_count": null,
   "metadata": {},
   "outputs": [],
   "source": []
  }
 ],
 "metadata": {
  "kernelspec": {
   "display_name": "data-science",
   "language": "python",
   "name": "python3"
  },
  "language_info": {
   "codemirror_mode": {
    "name": "ipython",
    "version": 3
   },
   "file_extension": ".py",
   "mimetype": "text/x-python",
   "name": "python",
   "nbconvert_exporter": "python",
   "pygments_lexer": "ipython3",
   "version": "3.9.15"
  },
  "orig_nbformat": 4,
  "vscode": {
   "interpreter": {
    "hash": "2efee1efa502125d01e6b4768ba06d9453d29f3642bfd14ad5d4a769de82e88c"
   }
  }
 },
 "nbformat": 4,
 "nbformat_minor": 2
}
