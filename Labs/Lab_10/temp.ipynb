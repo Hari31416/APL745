{
 "cells": [
  {
   "cell_type": "code",
   "execution_count": 1,
   "metadata": {},
   "outputs": [
    {
     "name": "stdout",
     "output_type": "stream",
     "text": [
      " Input tensor:  tensor([-2.,  1., -3.,  4.,  5.])\n",
      " Function Values:  tensor([ 9.,  6., 14., 21., 30.])\n",
      " Estimated Gradients of fun() -  (tensor([-3.0000,  2.5000,  7.5000,  8.0000,  9.0000]),)\n"
     ]
    }
   ],
   "source": [
    "# Import required library\n",
    "import torch\n",
    "  \n",
    "# define the tensor\n",
    "tens = torch.tensor([-2., 1., -3., 4., 5.])\n",
    "print(\" Input tensor: \", tens)\n",
    "  \n",
    "# define a function\n",
    "def fun(tens):\n",
    "    return tens**2+5\n",
    "  \n",
    "# values of function\n",
    "values = fun(tens)\n",
    "  \n",
    "# display values\n",
    "print(\" Function Values: \", values)\n",
    "  \n",
    "# estimate the gradients of fun\n",
    "grad = torch.gradient(values)\n",
    "  \n",
    "# Display result\n",
    "print(\" Estimated Gradients of fun() - \", grad)"
   ]
  },
  {
   "cell_type": "code",
   "execution_count": 2,
   "metadata": {},
   "outputs": [
    {
     "name": "stderr",
     "output_type": "stream",
     "text": [
      "2023-03-18 10:19:45.957523: I tensorflow/core/platform/cpu_feature_guard.cc:193] This TensorFlow binary is optimized with oneAPI Deep Neural Network Library (oneDNN) to use the following CPU instructions in performance-critical operations:  AVX2 FMA\n",
      "To enable them in other operations, rebuild TensorFlow with the appropriate compiler flags.\n"
     ]
    }
   ],
   "source": [
    "import tensorflow as tf"
   ]
  },
  {
   "cell_type": "code",
   "execution_count": 6,
   "metadata": {},
   "outputs": [],
   "source": [
    "X = tf.Variable(3.0)\n",
    "Y = tf.Variable(4.0)\n",
    "with tf.GradientTape() as tape:\n",
    "    Z = tf.multiply(X, Y)\n",
    "    # dZ_dX = tape.gradient(Z, X)\n",
    "    # dZ_dY = tape.gradient(Z, Y)"
   ]
  },
  {
   "cell_type": "code",
   "execution_count": 7,
   "metadata": {},
   "outputs": [],
   "source": [
    "dZ_dX = tape.gradient(Z, X)"
   ]
  },
  {
   "cell_type": "code",
   "execution_count": 10,
   "metadata": {},
   "outputs": [
    {
     "data": {
      "text/plain": [
       "4.0"
      ]
     },
     "execution_count": 10,
     "metadata": {},
     "output_type": "execute_result"
    }
   ],
   "source": [
    "dZ_dX.numpy()"
   ]
  }
 ],
 "metadata": {
  "kernelspec": {
   "display_name": "data-science",
   "language": "python",
   "name": "python3"
  },
  "language_info": {
   "codemirror_mode": {
    "name": "ipython",
    "version": 3
   },
   "file_extension": ".py",
   "mimetype": "text/x-python",
   "name": "python",
   "nbconvert_exporter": "python",
   "pygments_lexer": "ipython3",
   "version": "3.9.15"
  },
  "orig_nbformat": 4
 },
 "nbformat": 4,
 "nbformat_minor": 2
}
